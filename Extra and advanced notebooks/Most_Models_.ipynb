{
  "nbformat": 4,
  "nbformat_minor": 0,
  "metadata": {
    "colab": {
      "provenance": []
    },
    "kernelspec": {
      "name": "python3",
      "display_name": "Python 3"
    },
    "language_info": {
      "name": "python"
    }
  },
  "cells": [
    {
      "cell_type": "markdown",
      "source": [
        "# In this Notebook we collected most of our modeling tries ."
      ],
      "metadata": {
        "id": "rpwjp3NgVEfD"
      }
    },
    {
      "cell_type": "markdown",
      "metadata": {
        "id": "TwoPHxcUsC1n"
      },
      "source": [
        "## Load the data"
      ]
    },
    {
      "cell_type": "code",
      "execution_count": null,
      "metadata": {
        "id": "jRtXhtGxI6mz"
      },
      "outputs": [],
      "source": [
        "import pandas as pd\n",
        "from sklearn.linear_model import LogisticRegression\n",
        "from sklearn.feature_extraction.text import CountVectorizer # type of feature_extraction\n",
        "from sklearn.pipeline import Pipeline\n",
        "from imblearn.over_sampling import RandomOverSampler\n",
        "from imblearn.over_sampling import SMOTE # to resample data\n",
        "from sklearn.feature_extraction.text import TfidfVectorizer\n",
        "import numpy as np\n",
        "from sklearn.model_selection import GridSearchCV\n",
        "import tensorflow as tf\n",
        "from keras.models import Sequential\n",
        "from keras.layers import Dense, Embedding, LSTM, SpatialDropout1D\n",
        "from keras.callbacks import EarlyStopping\n",
        "import matplotlib.pyplot as plt\n",
        "from sklearn.metrics import accuracy_score, classification_report, confusion_matrix, ConfusionMatrixDisplay"
      ]
    },
    {
      "cell_type": "code",
      "source": [
        "Cleaned_train = pd.read_csv('/content/cleaned_x_train.csv')\n",
        "Cleaned_test = pd.read_csv('/content/cleaned_x_test.csv')\n",
        "Cleaned_val = pd.read_csv('/content/cleaned_x_valid.csv')"
      ],
      "metadata": {
        "id": "0wai3uCDrdAk"
      },
      "execution_count": null,
      "outputs": []
    },
    {
      "cell_type": "markdown",
      "source": [],
      "metadata": {
        "id": "ys7rK2fydCYy"
      }
    },
    {
      "cell_type": "code",
      "source": [
        "Cleaned_val.columns=['cleaned_x_train','y_train']\n",
        "Cleaned_val"
      ],
      "metadata": {
        "colab": {
          "base_uri": "https://localhost:8080/",
          "height": 423
        },
        "id": "1o_gJwoH6uQv",
        "outputId": "bdfb4aa6-4a22-4611-927a-d7491d20db42"
      },
      "execution_count": null,
      "outputs": [
        {
          "output_type": "execute_result",
          "data": {
            "text/plain": [
              "                                         cleaned_x_train  y_train\n",
              "0      داك شي لي كان غدى يكون لولا تدخل بعض الصفحات و...        3\n",
              "1                      انا تحت امرك زيادبس هيكون يوم ايه        0\n",
              "2      لا زعيمة ولا حاجة دانا وبقول للحيطة داريني بتس...        0\n",
              "3      يا ابراهيم مريم منزلتش مصر قبل كده ولا مشت في ...        0\n",
              "4                                  فهمتوا حاجه من كلامه؟        2\n",
              "...                                                  ...      ...\n",
              "29539                            بالبوازيك يا أستاذ محمد        0\n",
              "29540  القط بتاعي مايحلاش النوم عنده الا و يجي ينام ع...        0\n",
              "29541  كان لازم نحلف آبى ع المصحف ومش اى حلفان بقى ان...        0\n",
              "29542  انت اعلم فعلاً منصور اعلم ان توار درنة مصبيين ...        2\n",
              "29543  لومليونيرهتعملاية نسيت اقولكم كل سنة وانتم طيب...        0\n",
              "\n",
              "[29544 rows x 2 columns]"
            ],
            "text/html": [
              "\n",
              "  <div id=\"df-00f5eda2-425e-41ed-94d1-d340abfcbdb1\" class=\"colab-df-container\">\n",
              "    <div>\n",
              "<style scoped>\n",
              "    .dataframe tbody tr th:only-of-type {\n",
              "        vertical-align: middle;\n",
              "    }\n",
              "\n",
              "    .dataframe tbody tr th {\n",
              "        vertical-align: top;\n",
              "    }\n",
              "\n",
              "    .dataframe thead th {\n",
              "        text-align: right;\n",
              "    }\n",
              "</style>\n",
              "<table border=\"1\" class=\"dataframe\">\n",
              "  <thead>\n",
              "    <tr style=\"text-align: right;\">\n",
              "      <th></th>\n",
              "      <th>cleaned_x_train</th>\n",
              "      <th>y_train</th>\n",
              "    </tr>\n",
              "  </thead>\n",
              "  <tbody>\n",
              "    <tr>\n",
              "      <th>0</th>\n",
              "      <td>داك شي لي كان غدى يكون لولا تدخل بعض الصفحات و...</td>\n",
              "      <td>3</td>\n",
              "    </tr>\n",
              "    <tr>\n",
              "      <th>1</th>\n",
              "      <td>انا تحت امرك زيادبس هيكون يوم ايه</td>\n",
              "      <td>0</td>\n",
              "    </tr>\n",
              "    <tr>\n",
              "      <th>2</th>\n",
              "      <td>لا زعيمة ولا حاجة دانا وبقول للحيطة داريني بتس...</td>\n",
              "      <td>0</td>\n",
              "    </tr>\n",
              "    <tr>\n",
              "      <th>3</th>\n",
              "      <td>يا ابراهيم مريم منزلتش مصر قبل كده ولا مشت في ...</td>\n",
              "      <td>0</td>\n",
              "    </tr>\n",
              "    <tr>\n",
              "      <th>4</th>\n",
              "      <td>فهمتوا حاجه من كلامه؟</td>\n",
              "      <td>2</td>\n",
              "    </tr>\n",
              "    <tr>\n",
              "      <th>...</th>\n",
              "      <td>...</td>\n",
              "      <td>...</td>\n",
              "    </tr>\n",
              "    <tr>\n",
              "      <th>29539</th>\n",
              "      <td>بالبوازيك يا أستاذ محمد</td>\n",
              "      <td>0</td>\n",
              "    </tr>\n",
              "    <tr>\n",
              "      <th>29540</th>\n",
              "      <td>القط بتاعي مايحلاش النوم عنده الا و يجي ينام ع...</td>\n",
              "      <td>0</td>\n",
              "    </tr>\n",
              "    <tr>\n",
              "      <th>29541</th>\n",
              "      <td>كان لازم نحلف آبى ع المصحف ومش اى حلفان بقى ان...</td>\n",
              "      <td>0</td>\n",
              "    </tr>\n",
              "    <tr>\n",
              "      <th>29542</th>\n",
              "      <td>انت اعلم فعلاً منصور اعلم ان توار درنة مصبيين ...</td>\n",
              "      <td>2</td>\n",
              "    </tr>\n",
              "    <tr>\n",
              "      <th>29543</th>\n",
              "      <td>لومليونيرهتعملاية نسيت اقولكم كل سنة وانتم طيب...</td>\n",
              "      <td>0</td>\n",
              "    </tr>\n",
              "  </tbody>\n",
              "</table>\n",
              "<p>29544 rows × 2 columns</p>\n",
              "</div>\n",
              "    <div class=\"colab-df-buttons\">\n",
              "\n",
              "  <div class=\"colab-df-container\">\n",
              "    <button class=\"colab-df-convert\" onclick=\"convertToInteractive('df-00f5eda2-425e-41ed-94d1-d340abfcbdb1')\"\n",
              "            title=\"Convert this dataframe to an interactive table.\"\n",
              "            style=\"display:none;\">\n",
              "\n",
              "  <svg xmlns=\"http://www.w3.org/2000/svg\" height=\"24px\" viewBox=\"0 -960 960 960\">\n",
              "    <path d=\"M120-120v-720h720v720H120Zm60-500h600v-160H180v160Zm220 220h160v-160H400v160Zm0 220h160v-160H400v160ZM180-400h160v-160H180v160Zm440 0h160v-160H620v160ZM180-180h160v-160H180v160Zm440 0h160v-160H620v160Z\"/>\n",
              "  </svg>\n",
              "    </button>\n",
              "\n",
              "  <style>\n",
              "    .colab-df-container {\n",
              "      display:flex;\n",
              "      gap: 12px;\n",
              "    }\n",
              "\n",
              "    .colab-df-convert {\n",
              "      background-color: #E8F0FE;\n",
              "      border: none;\n",
              "      border-radius: 50%;\n",
              "      cursor: pointer;\n",
              "      display: none;\n",
              "      fill: #1967D2;\n",
              "      height: 32px;\n",
              "      padding: 0 0 0 0;\n",
              "      width: 32px;\n",
              "    }\n",
              "\n",
              "    .colab-df-convert:hover {\n",
              "      background-color: #E2EBFA;\n",
              "      box-shadow: 0px 1px 2px rgba(60, 64, 67, 0.3), 0px 1px 3px 1px rgba(60, 64, 67, 0.15);\n",
              "      fill: #174EA6;\n",
              "    }\n",
              "\n",
              "    .colab-df-buttons div {\n",
              "      margin-bottom: 4px;\n",
              "    }\n",
              "\n",
              "    [theme=dark] .colab-df-convert {\n",
              "      background-color: #3B4455;\n",
              "      fill: #D2E3FC;\n",
              "    }\n",
              "\n",
              "    [theme=dark] .colab-df-convert:hover {\n",
              "      background-color: #434B5C;\n",
              "      box-shadow: 0px 1px 3px 1px rgba(0, 0, 0, 0.15);\n",
              "      filter: drop-shadow(0px 1px 2px rgba(0, 0, 0, 0.3));\n",
              "      fill: #FFFFFF;\n",
              "    }\n",
              "  </style>\n",
              "\n",
              "    <script>\n",
              "      const buttonEl =\n",
              "        document.querySelector('#df-00f5eda2-425e-41ed-94d1-d340abfcbdb1 button.colab-df-convert');\n",
              "      buttonEl.style.display =\n",
              "        google.colab.kernel.accessAllowed ? 'block' : 'none';\n",
              "\n",
              "      async function convertToInteractive(key) {\n",
              "        const element = document.querySelector('#df-00f5eda2-425e-41ed-94d1-d340abfcbdb1');\n",
              "        const dataTable =\n",
              "          await google.colab.kernel.invokeFunction('convertToInteractive',\n",
              "                                                    [key], {});\n",
              "        if (!dataTable) return;\n",
              "\n",
              "        const docLinkHtml = 'Like what you see? Visit the ' +\n",
              "          '<a target=\"_blank\" href=https://colab.research.google.com/notebooks/data_table.ipynb>data table notebook</a>'\n",
              "          + ' to learn more about interactive tables.';\n",
              "        element.innerHTML = '';\n",
              "        dataTable['output_type'] = 'display_data';\n",
              "        await google.colab.output.renderOutput(dataTable, element);\n",
              "        const docLink = document.createElement('div');\n",
              "        docLink.innerHTML = docLinkHtml;\n",
              "        element.appendChild(docLink);\n",
              "      }\n",
              "    </script>\n",
              "  </div>\n",
              "\n",
              "\n",
              "<div id=\"df-988ba264-271a-4598-be81-ca6e13149aab\">\n",
              "  <button class=\"colab-df-quickchart\" onclick=\"quickchart('df-988ba264-271a-4598-be81-ca6e13149aab')\"\n",
              "            title=\"Suggest charts\"\n",
              "            style=\"display:none;\">\n",
              "\n",
              "<svg xmlns=\"http://www.w3.org/2000/svg\" height=\"24px\"viewBox=\"0 0 24 24\"\n",
              "     width=\"24px\">\n",
              "    <g>\n",
              "        <path d=\"M19 3H5c-1.1 0-2 .9-2 2v14c0 1.1.9 2 2 2h14c1.1 0 2-.9 2-2V5c0-1.1-.9-2-2-2zM9 17H7v-7h2v7zm4 0h-2V7h2v10zm4 0h-2v-4h2v4z\"/>\n",
              "    </g>\n",
              "</svg>\n",
              "  </button>\n",
              "\n",
              "<style>\n",
              "  .colab-df-quickchart {\n",
              "      --bg-color: #E8F0FE;\n",
              "      --fill-color: #1967D2;\n",
              "      --hover-bg-color: #E2EBFA;\n",
              "      --hover-fill-color: #174EA6;\n",
              "      --disabled-fill-color: #AAA;\n",
              "      --disabled-bg-color: #DDD;\n",
              "  }\n",
              "\n",
              "  [theme=dark] .colab-df-quickchart {\n",
              "      --bg-color: #3B4455;\n",
              "      --fill-color: #D2E3FC;\n",
              "      --hover-bg-color: #434B5C;\n",
              "      --hover-fill-color: #FFFFFF;\n",
              "      --disabled-bg-color: #3B4455;\n",
              "      --disabled-fill-color: #666;\n",
              "  }\n",
              "\n",
              "  .colab-df-quickchart {\n",
              "    background-color: var(--bg-color);\n",
              "    border: none;\n",
              "    border-radius: 50%;\n",
              "    cursor: pointer;\n",
              "    display: none;\n",
              "    fill: var(--fill-color);\n",
              "    height: 32px;\n",
              "    padding: 0;\n",
              "    width: 32px;\n",
              "  }\n",
              "\n",
              "  .colab-df-quickchart:hover {\n",
              "    background-color: var(--hover-bg-color);\n",
              "    box-shadow: 0 1px 2px rgba(60, 64, 67, 0.3), 0 1px 3px 1px rgba(60, 64, 67, 0.15);\n",
              "    fill: var(--button-hover-fill-color);\n",
              "  }\n",
              "\n",
              "  .colab-df-quickchart-complete:disabled,\n",
              "  .colab-df-quickchart-complete:disabled:hover {\n",
              "    background-color: var(--disabled-bg-color);\n",
              "    fill: var(--disabled-fill-color);\n",
              "    box-shadow: none;\n",
              "  }\n",
              "\n",
              "  .colab-df-spinner {\n",
              "    border: 2px solid var(--fill-color);\n",
              "    border-color: transparent;\n",
              "    border-bottom-color: var(--fill-color);\n",
              "    animation:\n",
              "      spin 1s steps(1) infinite;\n",
              "  }\n",
              "\n",
              "  @keyframes spin {\n",
              "    0% {\n",
              "      border-color: transparent;\n",
              "      border-bottom-color: var(--fill-color);\n",
              "      border-left-color: var(--fill-color);\n",
              "    }\n",
              "    20% {\n",
              "      border-color: transparent;\n",
              "      border-left-color: var(--fill-color);\n",
              "      border-top-color: var(--fill-color);\n",
              "    }\n",
              "    30% {\n",
              "      border-color: transparent;\n",
              "      border-left-color: var(--fill-color);\n",
              "      border-top-color: var(--fill-color);\n",
              "      border-right-color: var(--fill-color);\n",
              "    }\n",
              "    40% {\n",
              "      border-color: transparent;\n",
              "      border-right-color: var(--fill-color);\n",
              "      border-top-color: var(--fill-color);\n",
              "    }\n",
              "    60% {\n",
              "      border-color: transparent;\n",
              "      border-right-color: var(--fill-color);\n",
              "    }\n",
              "    80% {\n",
              "      border-color: transparent;\n",
              "      border-right-color: var(--fill-color);\n",
              "      border-bottom-color: var(--fill-color);\n",
              "    }\n",
              "    90% {\n",
              "      border-color: transparent;\n",
              "      border-bottom-color: var(--fill-color);\n",
              "    }\n",
              "  }\n",
              "</style>\n",
              "\n",
              "  <script>\n",
              "    async function quickchart(key) {\n",
              "      const quickchartButtonEl =\n",
              "        document.querySelector('#' + key + ' button');\n",
              "      quickchartButtonEl.disabled = true;  // To prevent multiple clicks.\n",
              "      quickchartButtonEl.classList.add('colab-df-spinner');\n",
              "      try {\n",
              "        const charts = await google.colab.kernel.invokeFunction(\n",
              "            'suggestCharts', [key], {});\n",
              "      } catch (error) {\n",
              "        console.error('Error during call to suggestCharts:', error);\n",
              "      }\n",
              "      quickchartButtonEl.classList.remove('colab-df-spinner');\n",
              "      quickchartButtonEl.classList.add('colab-df-quickchart-complete');\n",
              "    }\n",
              "    (() => {\n",
              "      let quickchartButtonEl =\n",
              "        document.querySelector('#df-988ba264-271a-4598-be81-ca6e13149aab button');\n",
              "      quickchartButtonEl.style.display =\n",
              "        google.colab.kernel.accessAllowed ? 'block' : 'none';\n",
              "    })();\n",
              "  </script>\n",
              "</div>\n",
              "\n",
              "  <div id=\"id_d089752f-67f1-4874-8606-b4909a553796\">\n",
              "    <style>\n",
              "      .colab-df-generate {\n",
              "        background-color: #E8F0FE;\n",
              "        border: none;\n",
              "        border-radius: 50%;\n",
              "        cursor: pointer;\n",
              "        display: none;\n",
              "        fill: #1967D2;\n",
              "        height: 32px;\n",
              "        padding: 0 0 0 0;\n",
              "        width: 32px;\n",
              "      }\n",
              "\n",
              "      .colab-df-generate:hover {\n",
              "        background-color: #E2EBFA;\n",
              "        box-shadow: 0px 1px 2px rgba(60, 64, 67, 0.3), 0px 1px 3px 1px rgba(60, 64, 67, 0.15);\n",
              "        fill: #174EA6;\n",
              "      }\n",
              "\n",
              "      [theme=dark] .colab-df-generate {\n",
              "        background-color: #3B4455;\n",
              "        fill: #D2E3FC;\n",
              "      }\n",
              "\n",
              "      [theme=dark] .colab-df-generate:hover {\n",
              "        background-color: #434B5C;\n",
              "        box-shadow: 0px 1px 3px 1px rgba(0, 0, 0, 0.15);\n",
              "        filter: drop-shadow(0px 1px 2px rgba(0, 0, 0, 0.3));\n",
              "        fill: #FFFFFF;\n",
              "      }\n",
              "    </style>\n",
              "    <button class=\"colab-df-generate\" onclick=\"generateWithVariable('Cleaned_val')\"\n",
              "            title=\"Generate code using this dataframe.\"\n",
              "            style=\"display:none;\">\n",
              "\n",
              "  <svg xmlns=\"http://www.w3.org/2000/svg\" height=\"24px\"viewBox=\"0 0 24 24\"\n",
              "       width=\"24px\">\n",
              "    <path d=\"M7,19H8.4L18.45,9,17,7.55,7,17.6ZM5,21V16.75L18.45,3.32a2,2,0,0,1,2.83,0l1.4,1.43a1.91,1.91,0,0,1,.58,1.4,1.91,1.91,0,0,1-.58,1.4L9.25,21ZM18.45,9,17,7.55Zm-12,3A5.31,5.31,0,0,0,4.9,8.1,5.31,5.31,0,0,0,1,6.5,5.31,5.31,0,0,0,4.9,4.9,5.31,5.31,0,0,0,6.5,1,5.31,5.31,0,0,0,8.1,4.9,5.31,5.31,0,0,0,12,6.5,5.46,5.46,0,0,0,6.5,12Z\"/>\n",
              "  </svg>\n",
              "    </button>\n",
              "    <script>\n",
              "      (() => {\n",
              "      const buttonEl =\n",
              "        document.querySelector('#id_d089752f-67f1-4874-8606-b4909a553796 button.colab-df-generate');\n",
              "      buttonEl.style.display =\n",
              "        google.colab.kernel.accessAllowed ? 'block' : 'none';\n",
              "\n",
              "      buttonEl.onclick = () => {\n",
              "        google.colab.notebook.generateWithVariable('Cleaned_val');\n",
              "      }\n",
              "      })();\n",
              "    </script>\n",
              "  </div>\n",
              "\n",
              "    </div>\n",
              "  </div>\n"
            ],
            "application/vnd.google.colaboratory.intrinsic+json": {
              "type": "dataframe",
              "variable_name": "Cleaned_val",
              "summary": "{\n  \"name\": \"Cleaned_val\",\n  \"rows\": 29544,\n  \"fields\": [\n    {\n      \"column\": \"cleaned_x_train\",\n      \"properties\": {\n        \"dtype\": \"string\",\n        \"num_unique_values\": 29538,\n        \"samples\": [\n          \"\\u0643\\u0641\\u0627\\u064a\\u0627\\u0643 \\u0627\\u0639\\u0630\\u0627\\u0631 \\u064a\\u062e\\u0631\\u0628 \\u0628\\u064a\\u062a \\u0627\\u0645\\u0643 \\u062e\\u0644\\u062a\\u0646\\u064a \\u0627\\u062d\\u062a\\u0627\\u0631\",\n          \"\\u064a\\u0648\\u0645 \\u062e\\u0637\\u0648\\u0628\\u062a\\u0647\\u0627 \\u062e\\u0637\\u064a\\u0628\\u0647\\u0627 \\u0644\\u0628\\u0633\\u0647\\u0627 \\u0627\\u0644\\u062f\\u0628\\u0644\\u0629 \\u0648\\u0642\\u0627\\u0644 \\u0644\\u064a\\u0647\\u0627 \\u0645\\u0628\\u0631\\u0648\\u0643 \\u0642\\u0627\\u0644\\u062a \\u0644\\u064a\\u0647\\u0648 \\u0639\\u0642\\u0628\\u0627\\u0644\\u0643 \\u0627\\u062c\\u064a \\u064a\\u0627 \\u0639\\u0642\\u0628\\u0627\\u0644\\u0643 \\u0639\\u0642\\u0628\\u0627\\u0644\\u064a \\u0627\\u0646\\u0627 \\u0642\\u0648\\u0644\\u0648 \\u0627\\u0645\\u064a\\u064a\\u0646\",\n          \"\\u0628\\u0642\\u062a \\u0628\\u062a\\u062c\\u0628\\u0644\\u064a \\u0647\\u0628\\u0648\\u0637 \\u0641\\u0642\\u0627\\u0637\\u0639\\u062a\\u0647\\u0627 \\u0641\\u062a\\u0631\\u0629 \\u0648\\u0644\\u0645\\u0627 \\u0628\\u0634\\u0631\\u0628\\u0647\\u0627 \\u0641\\u0648\\u0642\\u062a \\u0628\\u0627\\u0644\\u0635\\u062f\\u0641\\u0629 \\u0628\\u062a\\u0623\\u062b\\u0631 \\u0641\\u0639\\u0644\\u0627\\u064b \\u0643\\u0643\\u0627\\u0641\\u064a\\u064a\\u0646 \\u0627\\u0643\\u062a\\u0631 \\u0645\\u0646 \\u0632\\u0645\\u0627\\u0646\"\n        ],\n        \"semantic_type\": \"\",\n        \"description\": \"\"\n      }\n    },\n    {\n      \"column\": \"y_train\",\n      \"properties\": {\n        \"dtype\": \"number\",\n        \"std\": 1,\n        \"min\": 0,\n        \"max\": 4,\n        \"num_unique_values\": 5,\n        \"samples\": [\n          0,\n          4,\n          2\n        ],\n        \"semantic_type\": \"\",\n        \"description\": \"\"\n      }\n    }\n  ]\n}"
            }
          },
          "metadata": {},
          "execution_count": 3
        }
      ]
    },
    {
      "cell_type": "code",
      "source": [
        "Cleaned_train = pd.concat([Cleaned_train, Cleaned_val], ignore_index=True)\n",
        "Cleaned_train\n"
      ],
      "metadata": {
        "colab": {
          "base_uri": "https://localhost:8080/",
          "height": 423
        },
        "id": "MzYZ3xjbZSzL",
        "outputId": "af0abc8e-51ab-4d37-ee56-ed11845dfa1b"
      },
      "execution_count": null,
      "outputs": [
        {
          "output_type": "execute_result",
          "data": {
            "text/plain": [
              "                                          cleaned_x_train  y_train\n",
              "0       اي خبر او تطور من جل الديب حدا يدقلي ما بفتحلو...        1\n",
              "1       الشي الوحيد المنيح اللي عملو جورج وسوف بحياته ...        1\n",
              "2       معلهش معلش معلهش معلهش معلهش معلهش معلهش معلهش...        0\n",
              "3       اول ما خذا البطاقة جا في بالي اياب اليوفي يارب...        2\n",
              "4       انا صرت نازلة شي خمس مرات من يوم ما نشهرت المل...        1\n",
              "...                                                   ...      ...\n",
              "118169                            بالبوازيك يا أستاذ محمد        0\n",
              "118170  القط بتاعي مايحلاش النوم عنده الا و يجي ينام ع...        0\n",
              "118171  كان لازم نحلف آبى ع المصحف ومش اى حلفان بقى ان...        0\n",
              "118172  انت اعلم فعلاً منصور اعلم ان توار درنة مصبيين ...        2\n",
              "118173  لومليونيرهتعملاية نسيت اقولكم كل سنة وانتم طيب...        0\n",
              "\n",
              "[118174 rows x 2 columns]"
            ],
            "text/html": [
              "\n",
              "  <div id=\"df-91d89c24-b889-4608-a59e-6cec6de38c20\" class=\"colab-df-container\">\n",
              "    <div>\n",
              "<style scoped>\n",
              "    .dataframe tbody tr th:only-of-type {\n",
              "        vertical-align: middle;\n",
              "    }\n",
              "\n",
              "    .dataframe tbody tr th {\n",
              "        vertical-align: top;\n",
              "    }\n",
              "\n",
              "    .dataframe thead th {\n",
              "        text-align: right;\n",
              "    }\n",
              "</style>\n",
              "<table border=\"1\" class=\"dataframe\">\n",
              "  <thead>\n",
              "    <tr style=\"text-align: right;\">\n",
              "      <th></th>\n",
              "      <th>cleaned_x_train</th>\n",
              "      <th>y_train</th>\n",
              "    </tr>\n",
              "  </thead>\n",
              "  <tbody>\n",
              "    <tr>\n",
              "      <th>0</th>\n",
              "      <td>اي خبر او تطور من جل الديب حدا يدقلي ما بفتحلو...</td>\n",
              "      <td>1</td>\n",
              "    </tr>\n",
              "    <tr>\n",
              "      <th>1</th>\n",
              "      <td>الشي الوحيد المنيح اللي عملو جورج وسوف بحياته ...</td>\n",
              "      <td>1</td>\n",
              "    </tr>\n",
              "    <tr>\n",
              "      <th>2</th>\n",
              "      <td>معلهش معلش معلهش معلهش معلهش معلهش معلهش معلهش...</td>\n",
              "      <td>0</td>\n",
              "    </tr>\n",
              "    <tr>\n",
              "      <th>3</th>\n",
              "      <td>اول ما خذا البطاقة جا في بالي اياب اليوفي يارب...</td>\n",
              "      <td>2</td>\n",
              "    </tr>\n",
              "    <tr>\n",
              "      <th>4</th>\n",
              "      <td>انا صرت نازلة شي خمس مرات من يوم ما نشهرت المل...</td>\n",
              "      <td>1</td>\n",
              "    </tr>\n",
              "    <tr>\n",
              "      <th>...</th>\n",
              "      <td>...</td>\n",
              "      <td>...</td>\n",
              "    </tr>\n",
              "    <tr>\n",
              "      <th>118169</th>\n",
              "      <td>بالبوازيك يا أستاذ محمد</td>\n",
              "      <td>0</td>\n",
              "    </tr>\n",
              "    <tr>\n",
              "      <th>118170</th>\n",
              "      <td>القط بتاعي مايحلاش النوم عنده الا و يجي ينام ع...</td>\n",
              "      <td>0</td>\n",
              "    </tr>\n",
              "    <tr>\n",
              "      <th>118171</th>\n",
              "      <td>كان لازم نحلف آبى ع المصحف ومش اى حلفان بقى ان...</td>\n",
              "      <td>0</td>\n",
              "    </tr>\n",
              "    <tr>\n",
              "      <th>118172</th>\n",
              "      <td>انت اعلم فعلاً منصور اعلم ان توار درنة مصبيين ...</td>\n",
              "      <td>2</td>\n",
              "    </tr>\n",
              "    <tr>\n",
              "      <th>118173</th>\n",
              "      <td>لومليونيرهتعملاية نسيت اقولكم كل سنة وانتم طيب...</td>\n",
              "      <td>0</td>\n",
              "    </tr>\n",
              "  </tbody>\n",
              "</table>\n",
              "<p>118174 rows × 2 columns</p>\n",
              "</div>\n",
              "    <div class=\"colab-df-buttons\">\n",
              "\n",
              "  <div class=\"colab-df-container\">\n",
              "    <button class=\"colab-df-convert\" onclick=\"convertToInteractive('df-91d89c24-b889-4608-a59e-6cec6de38c20')\"\n",
              "            title=\"Convert this dataframe to an interactive table.\"\n",
              "            style=\"display:none;\">\n",
              "\n",
              "  <svg xmlns=\"http://www.w3.org/2000/svg\" height=\"24px\" viewBox=\"0 -960 960 960\">\n",
              "    <path d=\"M120-120v-720h720v720H120Zm60-500h600v-160H180v160Zm220 220h160v-160H400v160Zm0 220h160v-160H400v160ZM180-400h160v-160H180v160Zm440 0h160v-160H620v160ZM180-180h160v-160H180v160Zm440 0h160v-160H620v160Z\"/>\n",
              "  </svg>\n",
              "    </button>\n",
              "\n",
              "  <style>\n",
              "    .colab-df-container {\n",
              "      display:flex;\n",
              "      gap: 12px;\n",
              "    }\n",
              "\n",
              "    .colab-df-convert {\n",
              "      background-color: #E8F0FE;\n",
              "      border: none;\n",
              "      border-radius: 50%;\n",
              "      cursor: pointer;\n",
              "      display: none;\n",
              "      fill: #1967D2;\n",
              "      height: 32px;\n",
              "      padding: 0 0 0 0;\n",
              "      width: 32px;\n",
              "    }\n",
              "\n",
              "    .colab-df-convert:hover {\n",
              "      background-color: #E2EBFA;\n",
              "      box-shadow: 0px 1px 2px rgba(60, 64, 67, 0.3), 0px 1px 3px 1px rgba(60, 64, 67, 0.15);\n",
              "      fill: #174EA6;\n",
              "    }\n",
              "\n",
              "    .colab-df-buttons div {\n",
              "      margin-bottom: 4px;\n",
              "    }\n",
              "\n",
              "    [theme=dark] .colab-df-convert {\n",
              "      background-color: #3B4455;\n",
              "      fill: #D2E3FC;\n",
              "    }\n",
              "\n",
              "    [theme=dark] .colab-df-convert:hover {\n",
              "      background-color: #434B5C;\n",
              "      box-shadow: 0px 1px 3px 1px rgba(0, 0, 0, 0.15);\n",
              "      filter: drop-shadow(0px 1px 2px rgba(0, 0, 0, 0.3));\n",
              "      fill: #FFFFFF;\n",
              "    }\n",
              "  </style>\n",
              "\n",
              "    <script>\n",
              "      const buttonEl =\n",
              "        document.querySelector('#df-91d89c24-b889-4608-a59e-6cec6de38c20 button.colab-df-convert');\n",
              "      buttonEl.style.display =\n",
              "        google.colab.kernel.accessAllowed ? 'block' : 'none';\n",
              "\n",
              "      async function convertToInteractive(key) {\n",
              "        const element = document.querySelector('#df-91d89c24-b889-4608-a59e-6cec6de38c20');\n",
              "        const dataTable =\n",
              "          await google.colab.kernel.invokeFunction('convertToInteractive',\n",
              "                                                    [key], {});\n",
              "        if (!dataTable) return;\n",
              "\n",
              "        const docLinkHtml = 'Like what you see? Visit the ' +\n",
              "          '<a target=\"_blank\" href=https://colab.research.google.com/notebooks/data_table.ipynb>data table notebook</a>'\n",
              "          + ' to learn more about interactive tables.';\n",
              "        element.innerHTML = '';\n",
              "        dataTable['output_type'] = 'display_data';\n",
              "        await google.colab.output.renderOutput(dataTable, element);\n",
              "        const docLink = document.createElement('div');\n",
              "        docLink.innerHTML = docLinkHtml;\n",
              "        element.appendChild(docLink);\n",
              "      }\n",
              "    </script>\n",
              "  </div>\n",
              "\n",
              "\n",
              "<div id=\"df-7a7f57d1-0eca-43f9-b6fa-053f9d2c6634\">\n",
              "  <button class=\"colab-df-quickchart\" onclick=\"quickchart('df-7a7f57d1-0eca-43f9-b6fa-053f9d2c6634')\"\n",
              "            title=\"Suggest charts\"\n",
              "            style=\"display:none;\">\n",
              "\n",
              "<svg xmlns=\"http://www.w3.org/2000/svg\" height=\"24px\"viewBox=\"0 0 24 24\"\n",
              "     width=\"24px\">\n",
              "    <g>\n",
              "        <path d=\"M19 3H5c-1.1 0-2 .9-2 2v14c0 1.1.9 2 2 2h14c1.1 0 2-.9 2-2V5c0-1.1-.9-2-2-2zM9 17H7v-7h2v7zm4 0h-2V7h2v10zm4 0h-2v-4h2v4z\"/>\n",
              "    </g>\n",
              "</svg>\n",
              "  </button>\n",
              "\n",
              "<style>\n",
              "  .colab-df-quickchart {\n",
              "      --bg-color: #E8F0FE;\n",
              "      --fill-color: #1967D2;\n",
              "      --hover-bg-color: #E2EBFA;\n",
              "      --hover-fill-color: #174EA6;\n",
              "      --disabled-fill-color: #AAA;\n",
              "      --disabled-bg-color: #DDD;\n",
              "  }\n",
              "\n",
              "  [theme=dark] .colab-df-quickchart {\n",
              "      --bg-color: #3B4455;\n",
              "      --fill-color: #D2E3FC;\n",
              "      --hover-bg-color: #434B5C;\n",
              "      --hover-fill-color: #FFFFFF;\n",
              "      --disabled-bg-color: #3B4455;\n",
              "      --disabled-fill-color: #666;\n",
              "  }\n",
              "\n",
              "  .colab-df-quickchart {\n",
              "    background-color: var(--bg-color);\n",
              "    border: none;\n",
              "    border-radius: 50%;\n",
              "    cursor: pointer;\n",
              "    display: none;\n",
              "    fill: var(--fill-color);\n",
              "    height: 32px;\n",
              "    padding: 0;\n",
              "    width: 32px;\n",
              "  }\n",
              "\n",
              "  .colab-df-quickchart:hover {\n",
              "    background-color: var(--hover-bg-color);\n",
              "    box-shadow: 0 1px 2px rgba(60, 64, 67, 0.3), 0 1px 3px 1px rgba(60, 64, 67, 0.15);\n",
              "    fill: var(--button-hover-fill-color);\n",
              "  }\n",
              "\n",
              "  .colab-df-quickchart-complete:disabled,\n",
              "  .colab-df-quickchart-complete:disabled:hover {\n",
              "    background-color: var(--disabled-bg-color);\n",
              "    fill: var(--disabled-fill-color);\n",
              "    box-shadow: none;\n",
              "  }\n",
              "\n",
              "  .colab-df-spinner {\n",
              "    border: 2px solid var(--fill-color);\n",
              "    border-color: transparent;\n",
              "    border-bottom-color: var(--fill-color);\n",
              "    animation:\n",
              "      spin 1s steps(1) infinite;\n",
              "  }\n",
              "\n",
              "  @keyframes spin {\n",
              "    0% {\n",
              "      border-color: transparent;\n",
              "      border-bottom-color: var(--fill-color);\n",
              "      border-left-color: var(--fill-color);\n",
              "    }\n",
              "    20% {\n",
              "      border-color: transparent;\n",
              "      border-left-color: var(--fill-color);\n",
              "      border-top-color: var(--fill-color);\n",
              "    }\n",
              "    30% {\n",
              "      border-color: transparent;\n",
              "      border-left-color: var(--fill-color);\n",
              "      border-top-color: var(--fill-color);\n",
              "      border-right-color: var(--fill-color);\n",
              "    }\n",
              "    40% {\n",
              "      border-color: transparent;\n",
              "      border-right-color: var(--fill-color);\n",
              "      border-top-color: var(--fill-color);\n",
              "    }\n",
              "    60% {\n",
              "      border-color: transparent;\n",
              "      border-right-color: var(--fill-color);\n",
              "    }\n",
              "    80% {\n",
              "      border-color: transparent;\n",
              "      border-right-color: var(--fill-color);\n",
              "      border-bottom-color: var(--fill-color);\n",
              "    }\n",
              "    90% {\n",
              "      border-color: transparent;\n",
              "      border-bottom-color: var(--fill-color);\n",
              "    }\n",
              "  }\n",
              "</style>\n",
              "\n",
              "  <script>\n",
              "    async function quickchart(key) {\n",
              "      const quickchartButtonEl =\n",
              "        document.querySelector('#' + key + ' button');\n",
              "      quickchartButtonEl.disabled = true;  // To prevent multiple clicks.\n",
              "      quickchartButtonEl.classList.add('colab-df-spinner');\n",
              "      try {\n",
              "        const charts = await google.colab.kernel.invokeFunction(\n",
              "            'suggestCharts', [key], {});\n",
              "      } catch (error) {\n",
              "        console.error('Error during call to suggestCharts:', error);\n",
              "      }\n",
              "      quickchartButtonEl.classList.remove('colab-df-spinner');\n",
              "      quickchartButtonEl.classList.add('colab-df-quickchart-complete');\n",
              "    }\n",
              "    (() => {\n",
              "      let quickchartButtonEl =\n",
              "        document.querySelector('#df-7a7f57d1-0eca-43f9-b6fa-053f9d2c6634 button');\n",
              "      quickchartButtonEl.style.display =\n",
              "        google.colab.kernel.accessAllowed ? 'block' : 'none';\n",
              "    })();\n",
              "  </script>\n",
              "</div>\n",
              "\n",
              "  <div id=\"id_2308a4c6-758d-43de-b639-4d35f9bc6ed4\">\n",
              "    <style>\n",
              "      .colab-df-generate {\n",
              "        background-color: #E8F0FE;\n",
              "        border: none;\n",
              "        border-radius: 50%;\n",
              "        cursor: pointer;\n",
              "        display: none;\n",
              "        fill: #1967D2;\n",
              "        height: 32px;\n",
              "        padding: 0 0 0 0;\n",
              "        width: 32px;\n",
              "      }\n",
              "\n",
              "      .colab-df-generate:hover {\n",
              "        background-color: #E2EBFA;\n",
              "        box-shadow: 0px 1px 2px rgba(60, 64, 67, 0.3), 0px 1px 3px 1px rgba(60, 64, 67, 0.15);\n",
              "        fill: #174EA6;\n",
              "      }\n",
              "\n",
              "      [theme=dark] .colab-df-generate {\n",
              "        background-color: #3B4455;\n",
              "        fill: #D2E3FC;\n",
              "      }\n",
              "\n",
              "      [theme=dark] .colab-df-generate:hover {\n",
              "        background-color: #434B5C;\n",
              "        box-shadow: 0px 1px 3px 1px rgba(0, 0, 0, 0.15);\n",
              "        filter: drop-shadow(0px 1px 2px rgba(0, 0, 0, 0.3));\n",
              "        fill: #FFFFFF;\n",
              "      }\n",
              "    </style>\n",
              "    <button class=\"colab-df-generate\" onclick=\"generateWithVariable('Cleaned_train')\"\n",
              "            title=\"Generate code using this dataframe.\"\n",
              "            style=\"display:none;\">\n",
              "\n",
              "  <svg xmlns=\"http://www.w3.org/2000/svg\" height=\"24px\"viewBox=\"0 0 24 24\"\n",
              "       width=\"24px\">\n",
              "    <path d=\"M7,19H8.4L18.45,9,17,7.55,7,17.6ZM5,21V16.75L18.45,3.32a2,2,0,0,1,2.83,0l1.4,1.43a1.91,1.91,0,0,1,.58,1.4,1.91,1.91,0,0,1-.58,1.4L9.25,21ZM18.45,9,17,7.55Zm-12,3A5.31,5.31,0,0,0,4.9,8.1,5.31,5.31,0,0,0,1,6.5,5.31,5.31,0,0,0,4.9,4.9,5.31,5.31,0,0,0,6.5,1,5.31,5.31,0,0,0,8.1,4.9,5.31,5.31,0,0,0,12,6.5,5.46,5.46,0,0,0,6.5,12Z\"/>\n",
              "  </svg>\n",
              "    </button>\n",
              "    <script>\n",
              "      (() => {\n",
              "      const buttonEl =\n",
              "        document.querySelector('#id_2308a4c6-758d-43de-b639-4d35f9bc6ed4 button.colab-df-generate');\n",
              "      buttonEl.style.display =\n",
              "        google.colab.kernel.accessAllowed ? 'block' : 'none';\n",
              "\n",
              "      buttonEl.onclick = () => {\n",
              "        google.colab.notebook.generateWithVariable('Cleaned_train');\n",
              "      }\n",
              "      })();\n",
              "    </script>\n",
              "  </div>\n",
              "\n",
              "    </div>\n",
              "  </div>\n"
            ],
            "application/vnd.google.colaboratory.intrinsic+json": {
              "type": "dataframe",
              "variable_name": "Cleaned_train"
            }
          },
          "metadata": {},
          "execution_count": 4
        }
      ]
    },
    {
      "cell_type": "code",
      "execution_count": null,
      "metadata": {
        "id": "HsE-IslkweuJ"
      },
      "outputs": [],
      "source": [
        "import warnings\n",
        "warnings.filterwarnings(\"ignore\")"
      ]
    },
    {
      "cell_type": "markdown",
      "metadata": {
        "id": "0-L6tS6QvWMM"
      },
      "source": [
        "### Report method to see our model"
      ]
    },
    {
      "cell_type": "markdown",
      "source": [
        "\n",
        "# Model Evaluation Report\n",
        " A function to evaluate a machine learning model's performance.\n",
        " - The function computes training and testing accuracies\n",
        " - generates a classification report\n",
        " -  displays a confusion matrix using a heatmap.\n"
      ],
      "metadata": {
        "id": "eVhUcpTvohns"
      }
    },
    {
      "cell_type": "code",
      "execution_count": null,
      "metadata": {
        "id": "zYSjF5laphbW"
      },
      "outputs": [],
      "source": [
        "def report(model, X_train, y_train, X_test, y_test):\n",
        "    train_acc = model.score(X_train, y_train)\n",
        "    test_acc = model.score(X_test, y_test)\n",
        "    print(f'Train acc: {train_acc}')\n",
        "    print(f'Test acc: {test_acc}')\n",
        "\n",
        "    predictions = model.predict(X_test)\n",
        "    cr = classification_report(y_test, predictions)\n",
        "    print(cr)\n",
        "\n",
        "    cm = confusion_matrix(y_test, predictions)\n",
        "    fig, ax = plt.subplots(figsize=(12, 12))\n",
        "    disp = ConfusionMatrixDisplay(confusion_matrix=cm)\n",
        "    disp.plot(ax=ax)\n",
        "    plt.show()\n"
      ]
    },
    {
      "cell_type": "markdown",
      "metadata": {
        "id": "MIEW4pSpvbdh"
      },
      "source": [
        "### Text_fit_predict_without_imbalanced method to fit our model with orignal processed data"
      ]
    },
    {
      "cell_type": "markdown",
      "source": [
        "# Model Training and Evaluation without Handling Imbalanced Data\n",
        "\n",
        "This function  train and evaluate a machine learning model on original data without addressing class imbalance.\n",
        "- The function fits the model on the training data and evaluates its performance on both the training and testing datasets.\n"
      ],
      "metadata": {
        "id": "39ryxgPeqLAO"
      }
    },
    {
      "cell_type": "code",
      "execution_count": null,
      "metadata": {
        "id": "ZsICrZekBMBR"
      },
      "outputs": [],
      "source": [
        "# this method to fit our orignal data\n",
        "def text_fit_predict_without_imbalanced(X_train, X_test, y_train, y_test, model_model):\n",
        "\n",
        "  model = model_model.fit(X_train, y_train)\n",
        "  train_acc = model.score(X_train, y_train)\n",
        "  test_acc = model.score(X_test, y_test)\n",
        "  print(f'Train acc: {train_acc}')\n",
        "  print(f'Test acc: {test_acc}')\n",
        "\n",
        "  return model\n"
      ]
    },
    {
      "cell_type": "markdown",
      "metadata": {
        "id": "7Z-chhl4vrkQ"
      },
      "source": [
        "### Text_fit_predict_with_imbalanced method to fit model with resample processed data"
      ]
    },
    {
      "cell_type": "markdown",
      "source": [
        "# Model Training and Evaluation with Handling Imbalanced Data\n",
        "\n",
        "A function to train and evaluate a machine learning model after applying resampling techniques.\n",
        "-  The function fits the model on the resampled training data and evaluates its performance on both the training and testing datasets"
      ],
      "metadata": {
        "id": "oDtpWUietYYm"
      }
    },
    {
      "cell_type": "code",
      "execution_count": null,
      "metadata": {
        "id": "lEbE9txJBOLT"
      },
      "outputs": [],
      "source": [
        "def text_fit_predict_with_imbalanced(X_train, X_test, y_train, y_test, model_model, re_sample):\n",
        "\n",
        "  print('features: {}'.format(X_train.shape[1]))\n",
        "\n",
        "  os =  re_sample  # type of resample (RandomOverSampler or SMOTE)\n",
        "  X_res, y_res = os.fit_resample(X_train, y_train)\n",
        "  print(f'resample: {X_res.shape, y_res.shape}')\n",
        "\n",
        "  model=model_model.fit(X_res, y_res)\n",
        "  train_acc = model.score(X_train, y_train)\n",
        "  test_acc = model.score(X_test, y_test)\n",
        "  print(f'Train acc: {train_acc}')\n",
        "  print(f'Test acc: {test_acc}')\n",
        "\n",
        "  return model\n"
      ]
    },
    {
      "cell_type": "markdown",
      "metadata": {
        "id": "OEaPs7ENuAYH"
      },
      "source": [
        "## Build classification models"
      ]
    },
    {
      "cell_type": "markdown",
      "metadata": {
        "id": "mSTdT1YXv2u_"
      },
      "source": [
        "### Build models with CountVectorizer"
      ]
    },
    {
      "cell_type": "markdown",
      "metadata": {
        "id": "MH-g_2cBwJEA"
      },
      "source": [
        "#### with orignal processed data"
      ]
    },
    {
      "cell_type": "code",
      "source": [
        "Cleaned_train.isna().sum()"
      ],
      "metadata": {
        "colab": {
          "base_uri": "https://localhost:8080/"
        },
        "id": "vr31fDkybl5t",
        "outputId": "8901608d-0792-45ad-d5a3-2c3a1306484d"
      },
      "execution_count": null,
      "outputs": [
        {
          "output_type": "execute_result",
          "data": {
            "text/plain": [
              "cleaned_x_train    32\n",
              "y_train             0\n",
              "dtype: int64"
            ]
          },
          "metadata": {},
          "execution_count": 9
        }
      ]
    },
    {
      "cell_type": "code",
      "source": [
        "Cleaned_train.dropna(inplace=True)"
      ],
      "metadata": {
        "id": "FKu2V86G7PxO"
      },
      "execution_count": null,
      "outputs": []
    },
    {
      "cell_type": "code",
      "source": [
        "Cleaned_test.dropna(inplace=True)"
      ],
      "metadata": {
        "id": "1lwVWKz1ga31"
      },
      "execution_count": null,
      "outputs": []
    },
    {
      "cell_type": "markdown",
      "source": [
        "\n"
      ],
      "metadata": {
        "id": "MsG9PeO5s0qx"
      }
    },
    {
      "cell_type": "code",
      "execution_count": null,
      "metadata": {
        "colab": {
          "base_uri": "https://localhost:8080/"
        },
        "id": "8VCgOCbiBODY",
        "outputId": "c45bdd9d-4142-489b-8be8-00de0c2eb68d"
      },
      "outputs": [
        {
          "output_type": "stream",
          "name": "stdout",
          "text": [
            "Train acc: 0.8832337356740194\n",
            "Test acc: 0.814173974875563\n"
          ]
        }
      ],
      "source": [
        "cntVec = CountVectorizer()\n",
        "X_train_c = cntVec.fit_transform(Cleaned_train['cleaned_x_train'])  # fit X_train only\n",
        "X_test_c = cntVec.transform(Cleaned_test['cleaned_x_test'])  # transform X_test\n",
        "model1 = text_fit_predict_without_imbalanced(X_train_c, X_test_c, Cleaned_train['y_train'], Cleaned_test['y_test'], LogisticRegression(solver='sag'))"
      ]
    },
    {
      "cell_type": "markdown",
      "source": [
        "### Using pipline"
      ],
      "metadata": {
        "id": "-VnToACft0qg"
      }
    },
    {
      "cell_type": "markdown",
      "source": [
        "# Pipeline with CountVectorizer and LogisticRegression\n",
        "\n",
        "- This code segment demonstrates the creation of a pipeline with `CountVectorizer` and `LogisticRegression` for text classification."
      ],
      "metadata": {
        "id": "I-QXdhBJufj8"
      }
    },
    {
      "cell_type": "code",
      "source": [
        "# Step 1: Initialize CountVectorizer\n",
        "cntVec = CountVectorizer()\n",
        "\n",
        "# Step 2: Create a pipeline with CountVectorizer and LogisticRegression\n",
        "pipeline = Pipeline([\n",
        "    ('count_vectorizer', cntVec),\n",
        "    ('logistic_regression', LogisticRegression(solver='sag'))\n",
        "])\n",
        "\n",
        "# Step 3: Fit the pipeline on the training data and predict on the testing data\n",
        "pipeline.fit(Cleaned_train['cleaned_x_train'], Cleaned_train['y_train'])\n",
        "predictions = pipeline.predict(Cleaned_test['cleaned_x_test'])\n",
        "\n",
        "# Evaluate the model\n",
        "train_acc = pipeline.score(Cleaned_train['cleaned_x_train'], Cleaned_train['y_train'])\n",
        "test_acc = pipeline.score(Cleaned_test['cleaned_x_test'], Cleaned_test['y_test'])\n",
        "print(f'Train acc: {train_acc}')\n",
        "print(f'Test acc: {test_acc}')"
      ],
      "metadata": {
        "colab": {
          "base_uri": "https://localhost:8080/"
        },
        "id": "QuBAJWkrt0IZ",
        "outputId": "80569fe2-87b9-4e1f-e6b3-8ec781189aa1"
      },
      "execution_count": null,
      "outputs": [
        {
          "output_type": "stream",
          "name": "stdout",
          "text": [
            "Train acc: 0.8832252712837094\n",
            "Test acc: 0.8141062540209257\n"
          ]
        }
      ]
    },
    {
      "cell_type": "code",
      "source": [
        "report(model1, X_train_c, Cleaned_train['y_train'], X_test_c,Cleaned_test['y_test'])"
      ],
      "metadata": {
        "colab": {
          "base_uri": "https://localhost:8080/",
          "height": 1000
        },
        "id": "hNFUCMYg0QCA",
        "outputId": "a0e947e6-f26a-4158-8b3b-fcba2de860d2"
      },
      "execution_count": null,
      "outputs": [
        {
          "output_type": "stream",
          "name": "stdout",
          "text": [
            "Train acc: 0.8831152342096799\n",
            "Test acc: 0.8138015101750584\n",
            "              precision    recall  f1-score   support\n",
            "\n",
            "           0       0.82      0.91      0.86     11468\n",
            "           1       0.84      0.81      0.83      5636\n",
            "           2       0.76      0.82      0.79      7266\n",
            "           3       0.88      0.61      0.72      2330\n",
            "           4       0.84      0.57      0.68      2833\n",
            "\n",
            "    accuracy                           0.81     29533\n",
            "   macro avg       0.83      0.75      0.78     29533\n",
            "weighted avg       0.82      0.81      0.81     29533\n",
            "\n"
          ]
        },
        {
          "output_type": "display_data",
          "data": {
            "text/plain": [
              "<Figure size 1200x1200 with 2 Axes>"
            ],
            "image/png": "[encoded data removed]"
          },
          "metadata": {}
        }
      ]
    },
    {
      "cell_type": "markdown",
      "source": [
        "# Label Mapping\n",
        "\n",
        "Manually created label mapping for the classes:\n",
        "\n",
        "| Class Index | Class Label |\n",
        "|-------------|-------------|\n",
        "| 0           | EG          |\n",
        "| 1           | LB          |\n",
        "| 2           | LY          |\n",
        "| 3           | MA          |\n",
        "| 4           | SD          |\n"
      ],
      "metadata": {
        "id": "VXVAyrtmxAav"
      }
    },
    {
      "cell_type": "code",
      "source": [
        "# Manually create the label mapping\n",
        "class_labels = ['EG', 'LB', 'LY', 'MA', 'SD']\n",
        "label_mapping = {index: label for index, label in enumerate(class_labels)}\n",
        "inverse_label_mapping = {label: index for index, label in label_mapping.items()}\n",
        "print(f'Label mapping: {label_mapping}')"
      ],
      "metadata": {
        "colab": {
          "base_uri": "https://localhost:8080/"
        },
        "id": "Vs8z91GIlpX_",
        "outputId": "309bb69b-04e6-4d21-e2fd-b9d894d122b5"
      },
      "execution_count": null,
      "outputs": [
        {
          "output_type": "stream",
          "name": "stdout",
          "text": [
            "Label mapping: {0: 'EG', 1: 'LB', 2: 'LY', 3: 'MA', 4: 'SD'}\n"
          ]
        }
      ]
    },
    {
      "cell_type": "markdown",
      "source": [
        "# Test Prediction"
      ],
      "metadata": {
        "id": "-xRGuPZWxtZ4"
      }
    },
    {
      "cell_type": "code",
      "source": [
        "# Test with a new string\n",
        "test_string = [\"الفانله البضيا بخطين حمر \"]\n",
        "test_string_c = cntVec.transform(test_string)\n",
        "test_prediction = model1.predict(test_string_c)\n",
        "test_prediction_label = [label_mapping[pred] for pred in test_prediction]\n",
        "print(f'Test prediction for the new string (encoded): {test_prediction}')\n",
        "print(f'Test prediction for the new string (original label): {test_prediction_label}')"
      ],
      "metadata": {
        "colab": {
          "base_uri": "https://localhost:8080/"
        },
        "id": "oIQNCKWWhT-9",
        "outputId": "51ebb070-1c43-41d6-81fe-b595cd4df768"
      },
      "execution_count": null,
      "outputs": [
        {
          "output_type": "stream",
          "name": "stdout",
          "text": [
            "Test prediction for the new string (encoded): [0]\n",
            "Test prediction for the new string (original label): ['EG']\n"
          ]
        }
      ]
    },
    {
      "cell_type": "markdown",
      "metadata": {
        "id": "ysRgZw-_wRqf"
      },
      "source": [
        "#### with resample data with RandomOverSampler"
      ]
    },
    {
      "cell_type": "markdown",
      "source": [
        "# Model Training and Prediction\n",
        "\n",
        "- Using Logistic Regression with the 'sag' solver and Random OverSampler for handling imbalanced classes."
      ],
      "metadata": {
        "id": "kt4TgG6oyDFD"
      }
    },
    {
      "cell_type": "code",
      "execution_count": null,
      "metadata": {
        "colab": {
          "base_uri": "https://localhost:8080/"
        },
        "id": "i8_6CVz1Cogx",
        "outputId": "ed614fa4-b9e5-425a-85b5-d29fec8a30c8"
      },
      "outputs": [
        {
          "output_type": "stream",
          "name": "stdout",
          "text": [
            "features: 212835\n",
            "resample: ((230780, 212835), (230780,))\n",
            "Train acc: 0.9091178412418953\n",
            "Test acc: 0.8076727728303931\n"
          ]
        }
      ],
      "source": [
        "model2 = text_fit_predict_with_imbalanced(X_train_c, X_test_c, Cleaned_train['y_train'], Cleaned_test['y_test'], LogisticRegression(solver='sag'), RandomOverSampler())"
      ]
    },
    {
      "cell_type": "markdown",
      "source": [
        "# Model Evaluation Report"
      ],
      "metadata": {
        "id": "f6HtQVa1yw6p"
      }
    },
    {
      "cell_type": "code",
      "source": [
        "report(model2, X_train_c, Cleaned_train['y_train'], X_test_c,Cleaned_test['y_test'])"
      ],
      "metadata": {
        "colab": {
          "base_uri": "https://localhost:8080/",
          "height": 1000
        },
        "id": "g45Ak7t78AjM",
        "outputId": "2d0f08ed-44b4-4a8d-ce6d-b4976875994b"
      },
      "execution_count": null,
      "outputs": [
        {
          "output_type": "stream",
          "name": "stdout",
          "text": [
            "Train acc: 0.9091178412418953\n",
            "Test acc: 0.8076727728303931\n",
            "              precision    recall  f1-score   support\n",
            "\n",
            "           0       0.89      0.83      0.86     11468\n",
            "           1       0.82      0.85      0.83      5636\n",
            "           2       0.79      0.80      0.79      7266\n",
            "           3       0.69      0.73      0.71      2330\n",
            "           4       0.64      0.71      0.67      2833\n",
            "\n",
            "    accuracy                           0.81     29533\n",
            "   macro avg       0.77      0.79      0.77     29533\n",
            "weighted avg       0.81      0.81      0.81     29533\n",
            "\n"
          ]
        },
        {
          "output_type": "display_data",
          "data": {
            "text/plain": [
              "<Figure size 1200x1200 with 2 Axes>"
            ],
            "image/png": "[encoded data removed]"
          },
          "metadata": {}
        }
      ]
    },
    {
      "cell_type": "markdown",
      "metadata": {
        "id": "tbuarbMfwasn"
      },
      "source": [
        "#### with resample data with SMOTE"
      ]
    },
    {
      "cell_type": "markdown",
      "source": [
        "# Model Training with SMOTE\n",
        "\n",
        "- Using Logistic Regression with the 'sag' solver and SMOTE for handling imbalanced classes."
      ],
      "metadata": {
        "id": "zajEMiKOzGEW"
      }
    },
    {
      "cell_type": "code",
      "execution_count": null,
      "metadata": {
        "colab": {
          "base_uri": "https://localhost:8080/"
        },
        "id": "NtfG1C1jGtp7",
        "outputId": "3c2d48ec-5dd0-4d4e-8d6c-0f4b61cb85fa"
      },
      "outputs": [
        {
          "output_type": "stream",
          "name": "stdout",
          "text": [
            "features: 212835\n",
            "resample: ((155094, 212835), (155094,))\n",
            "Train acc: 0.8315417040510572\n",
            "Test acc: 0.7655504012460638\n"
          ]
        }
      ],
      "source": [
        "model3 = text_fit_predict_with_imbalanced(X_train_c, X_test_c, Cleaned_train['y_train'], Cleaned_test['y_test'], LogisticRegression(solver='sag'), SMOTE(sampling_strategy='minority'))"
      ]
    },
    {
      "cell_type": "code",
      "source": [
        "report(model3, X_train_c, Cleaned_train['y_train'], X_test_c,Cleaned_test['y_test'])"
      ],
      "metadata": {
        "colab": {
          "base_uri": "https://localhost:8080/",
          "height": 1000
        },
        "id": "J78cjYEU8Tcp",
        "outputId": "7ebaeac8-d943-43a4-fdd8-3b3d739db35f"
      },
      "execution_count": null,
      "outputs": [
        {
          "output_type": "stream",
          "name": "stdout",
          "text": [
            "Train acc: 0.8315417040510572\n",
            "Test acc: 0.7655504012460638\n",
            "              precision    recall  f1-score   support\n",
            "\n",
            "           0       0.86      0.86      0.86     11468\n",
            "           1       0.88      0.75      0.81      5636\n",
            "           2       0.83      0.71      0.77      7266\n",
            "           3       0.35      0.76      0.48      2330\n",
            "           4       0.85      0.54      0.66      2833\n",
            "\n",
            "    accuracy                           0.77     29533\n",
            "   macro avg       0.75      0.73      0.71     29533\n",
            "weighted avg       0.81      0.77      0.78     29533\n",
            "\n"
          ]
        },
        {
          "output_type": "display_data",
          "data": {
            "text/plain": [
              "<Figure size 1200x1200 with 2 Axes>"
            ],
            "image/png": "[encoded data removed]"
          },
          "metadata": {}
        }
      ]
    },
    {
      "cell_type": "markdown",
      "metadata": {
        "id": "IXr9SsTbwesO"
      },
      "source": [
        "### Build models with TfidfVectorizer"
      ]
    },
    {
      "cell_type": "markdown",
      "metadata": {
        "id": "kCXr-DCcwm73"
      },
      "source": [
        "#### with orignal processed data"
      ]
    },
    {
      "cell_type": "markdown",
      "source": [
        "# Model Training and Prediction without Balancing\n",
        "\n",
        "- Training and predicting using Logistic Regression without balancing the classes."
      ],
      "metadata": {
        "id": "rKf6Mc0i5mTh"
      }
    },
    {
      "cell_type": "code",
      "execution_count": null,
      "metadata": {
        "colab": {
          "base_uri": "https://localhost:8080/"
        },
        "id": "KRSVmJX9DCno",
        "outputId": "d3b3fcb4-4f81-4d59-ce3c-d3047d814a48"
      },
      "outputs": [
        {
          "output_type": "stream",
          "name": "stdout",
          "text": [
            "Train acc: 0.9106075739364493\n",
            "Test acc: 0.8224359191412995\n"
          ]
        }
      ],
      "source": [
        "tfidf = TfidfVectorizer()\n",
        "X_train_tfidf = tfidf.fit_transform(Cleaned_train['cleaned_x_train'])  # fit X_train only\n",
        "X_test_tfidf = tfidf.transform(Cleaned_test['cleaned_x_test']) # transform X_test\n",
        "model4 = text_fit_predict_without_imbalanced(X_train_tfidf, X_test_tfidf, Cleaned_train['y_train'], Cleaned_test['y_test'], LogisticRegression(solver='sag'))"
      ]
    },
    {
      "cell_type": "code",
      "source": [
        "X_train_tfidf"
      ],
      "metadata": {
        "colab": {
          "base_uri": "https://localhost:8080/"
        },
        "id": "94ZT6JZCzmbh",
        "outputId": "ae2f49ac-e386-4972-cc97-a3d130234a2b"
      },
      "execution_count": null,
      "outputs": [
        {
          "output_type": "execute_result",
          "data": {
            "text/plain": [
              "<118142x212835 sparse matrix of type '<class 'numpy.float64'>'\n",
              "\twith 1506444 stored elements in Compressed Sparse Row format>"
            ]
          },
          "metadata": {},
          "execution_count": 89
        }
      ]
    },
    {
      "cell_type": "code",
      "source": [
        "report(model4, X_train_tfidf, Cleaned_train['y_train'], X_test_tfidf,Cleaned_test['y_test'])"
      ],
      "metadata": {
        "colab": {
          "base_uri": "https://localhost:8080/",
          "height": 1000
        },
        "id": "p4kiHsLh0uit",
        "outputId": "66f0b12c-2db4-43c6-89e6-cad5fdaa849b"
      },
      "execution_count": null,
      "outputs": [
        {
          "output_type": "stream",
          "name": "stdout",
          "text": [
            "Train acc: 0.9106075739364493\n",
            "Test acc: 0.8224359191412995\n",
            "              precision    recall  f1-score   support\n",
            "\n",
            "           0       0.82      0.93      0.87     11468\n",
            "           1       0.86      0.83      0.84      5636\n",
            "           2       0.78      0.82      0.80      7266\n",
            "           3       0.89      0.61      0.72      2330\n",
            "           4       0.85      0.57      0.68      2833\n",
            "\n",
            "    accuracy                           0.82     29533\n",
            "   macro avg       0.84      0.75      0.78     29533\n",
            "weighted avg       0.83      0.82      0.82     29533\n",
            "\n"
          ]
        },
        {
          "output_type": "display_data",
          "data": {
            "text/plain": [
              "<Figure size 1200x1200 with 2 Axes>"
            ],
            "image/png": "[encoded data removed]"
          },
          "metadata": {}
        }
      ]
    },
    {
      "cell_type": "code",
      "source": [
        "# Test with a new string\n",
        "test_string = [\"التالته شمال بتهز جبال \"]\n",
        "test_string_c = cntVec.transform(test_string)\n",
        "test_prediction = model4.predict(test_string_c)\n",
        "test_prediction_label = [label_mapping[pred] for pred in test_prediction]\n",
        "print(f'Test prediction for the new string (encoded): {test_prediction}')\n",
        "print(f'Test prediction for the new string (original label): {test_prediction_label}')"
      ],
      "metadata": {
        "colab": {
          "base_uri": "https://localhost:8080/"
        },
        "id": "eRxDdS-MqR-5",
        "outputId": "378b3577-d7e3-4fc9-eeef-687f13b6bcd2"
      },
      "execution_count": null,
      "outputs": [
        {
          "output_type": "stream",
          "name": "stdout",
          "text": [
            "Test prediction for the new string (encoded): [0]\n",
            "Test prediction for the new string (original label): ['EG']\n"
          ]
        }
      ]
    },
    {
      "cell_type": "markdown",
      "metadata": {
        "id": "z9f1541_wpWq"
      },
      "source": [
        "### With resample data with RandomOverSampler"
      ]
    },
    {
      "cell_type": "code",
      "execution_count": null,
      "metadata": {
        "colab": {
          "base_uri": "https://localhost:8080/"
        },
        "id": "lnHO6uylDTHk",
        "outputId": "d2dfae0f-90a1-4427-83bf-804eecedd6f1"
      },
      "outputs": [
        {
          "output_type": "stream",
          "name": "stdout",
          "text": [
            "features: 212835\n",
            "resample: ((230780, 212835), (230780,))\n",
            "Train acc: 0.9449814629852211\n",
            "Test acc: 0.8223343378593437\n"
          ]
        }
      ],
      "source": [
        "model5 = text_fit_predict_with_imbalanced(X_train_tfidf, X_test_tfidf,Cleaned_train['y_train'], Cleaned_test['y_test'], LogisticRegression(solver='sag'), RandomOverSampler())"
      ]
    },
    {
      "cell_type": "code",
      "source": [
        "report(model5, X_train_tfidf, Cleaned_train['y_train'], X_test_tfidf,Cleaned_test['y_test'])"
      ],
      "metadata": {
        "colab": {
          "base_uri": "https://localhost:8080/",
          "height": 1000
        },
        "id": "tmNAPw4a8qMg",
        "outputId": "439f5d77-6646-4d7f-f938-5f043c6decbe"
      },
      "execution_count": null,
      "outputs": [
        {
          "output_type": "stream",
          "name": "stdout",
          "text": [
            "Train acc: 0.9449814629852211\n",
            "Test acc: 0.8223343378593437\n",
            "              precision    recall  f1-score   support\n",
            "\n",
            "           0       0.89      0.86      0.87     11468\n",
            "           1       0.84      0.85      0.85      5636\n",
            "           2       0.80      0.81      0.80      7266\n",
            "           3       0.72      0.73      0.73      2330\n",
            "           4       0.68      0.71      0.69      2833\n",
            "\n",
            "    accuracy                           0.82     29533\n",
            "   macro avg       0.79      0.79      0.79     29533\n",
            "weighted avg       0.82      0.82      0.82     29533\n",
            "\n"
          ]
        },
        {
          "output_type": "display_data",
          "data": {
            "text/plain": [
              "<Figure size 1200x1200 with 2 Axes>"
            ],
            "image/png": "[encoded data removed]"
          },
          "metadata": {}
        }
      ]
    },
    {
      "cell_type": "markdown",
      "metadata": {
        "id": "0-mTMR2swvS3"
      },
      "source": [
        "### With resample data with SMOTE"
      ]
    },
    {
      "cell_type": "code",
      "execution_count": null,
      "metadata": {
        "colab": {
          "base_uri": "https://localhost:8080/"
        },
        "id": "j2YvTgjuHKKG",
        "outputId": "2d5363bf-d6ee-4555-e41f-9569b7ab7fd0"
      },
      "outputs": [
        {
          "output_type": "stream",
          "name": "stdout",
          "text": [
            "features: 212835\n",
            "resample: ((155094, 212835), (155094,))\n",
            "Train acc: 0.9048941104772223\n",
            "Test acc: 0.8057765889005519\n"
          ]
        }
      ],
      "source": [
        "model6 = text_fit_predict_with_imbalanced(X_train_tfidf, X_test_tfidf, Cleaned_train['y_train'], Cleaned_test['y_test'], LogisticRegression(solver='sag'),  SMOTE(sampling_strategy='minority'))"
      ]
    },
    {
      "cell_type": "code",
      "source": [
        "report(model6, X_train_tfidf, Cleaned_train['y_train'], X_test_tfidf,Cleaned_test['y_test'])"
      ],
      "metadata": {
        "colab": {
          "base_uri": "https://localhost:8080/",
          "height": 1000
        },
        "id": "JFLxaHHb9jGM",
        "outputId": "78344f4a-7842-49f6-ade9-6c0a5b8d2585"
      },
      "execution_count": null,
      "outputs": [
        {
          "output_type": "stream",
          "name": "stdout",
          "text": [
            "Train acc: 0.9048941104772223\n",
            "Test acc: 0.8057765889005519\n",
            "              precision    recall  f1-score   support\n",
            "\n",
            "           0       0.84      0.90      0.87     11468\n",
            "           1       0.88      0.80      0.84      5636\n",
            "           2       0.83      0.76      0.80      7266\n",
            "           3       0.50      0.79      0.62      2330\n",
            "           4       0.88      0.55      0.67      2833\n",
            "\n",
            "    accuracy                           0.81     29533\n",
            "   macro avg       0.79      0.76      0.76     29533\n",
            "weighted avg       0.82      0.81      0.81     29533\n",
            "\n"
          ]
        },
        {
          "output_type": "display_data",
          "data": {
            "text/plain": [
              "<Figure size 1200x1200 with 2 Axes>"
            ],
            "image/png": "[encoded data removed]"
          },
          "metadata": {}
        }
      ]
    },
    {
      "cell_type": "markdown",
      "source": [
        "# Grid Search for Hyperparameter Tuning\n",
        "\n",
        "- Performing hyperparameter tuning using Grid Search with cross-validation.\n"
      ],
      "metadata": {
        "id": "EPanBuZx09Wf"
      }
    },
    {
      "cell_type": "code",
      "execution_count": null,
      "metadata": {
        "id": "W_yb8UdKU9A_",
        "colab": {
          "base_uri": "https://localhost:8080/",
          "height": 118
        },
        "outputId": "04019b52-83e9-4732-9adc-6978bf2b207c"
      },
      "outputs": [
        {
          "output_type": "execute_result",
          "data": {
            "text/plain": [
              "GridSearchCV(cv=5, estimator=LogisticRegression(solver='sag'), n_jobs=-1,\n",
              "             param_grid={'C': array([1.e-02, 1.e-01, 1.e+00, 1.e+01, 1.e+02]),\n",
              "                         'max_iter': [500]},\n",
              "             scoring='f1_macro')"
            ],
            "text/html": [
              "<style>#sk-container-id-2 {color: black;background-color: white;}#sk-container-id-2 pre{padding: 0;}#sk-container-id-2 div.sk-toggleable {background-color: white;}#sk-container-id-2 label.sk-toggleable__label {cursor: pointer;display: block;width: 100%;margin-bottom: 0;padding: 0.3em;box-sizing: border-box;text-align: center;}#sk-container-id-2 label.sk-toggleable__label-arrow:before {content: \"▸\";float: left;margin-right: 0.25em;color: #696969;}#sk-container-id-2 label.sk-toggleable__label-arrow:hover:before {color: black;}#sk-container-id-2 div.sk-estimator:hover label.sk-toggleable__label-arrow:before {color: black;}#sk-container-id-2 div.sk-toggleable__content {max-height: 0;max-width: 0;overflow: hidden;text-align: left;background-color: #f0f8ff;}#sk-container-id-2 div.sk-toggleable__content pre {margin: 0.2em;color: black;border-radius: 0.25em;background-color: #f0f8ff;}#sk-container-id-2 input.sk-toggleable__control:checked~div.sk-toggleable__content {max-height: 200px;max-width: 100%;overflow: auto;}#sk-container-id-2 input.sk-toggleable__control:checked~label.sk-toggleable__label-arrow:before {content: \"▾\";}#sk-container-id-2 div.sk-estimator input.sk-toggleable__control:checked~label.sk-toggleable__label {background-color: #d4ebff;}#sk-container-id-2 div.sk-label input.sk-toggleable__control:checked~label.sk-toggleable__label {background-color: #d4ebff;}#sk-container-id-2 input.sk-hidden--visually {border: 0;clip: rect(1px 1px 1px 1px);clip: rect(1px, 1px, 1px, 1px);height: 1px;margin: -1px;overflow: hidden;padding: 0;position: absolute;width: 1px;}#sk-container-id-2 div.sk-estimator {font-family: monospace;background-color: #f0f8ff;border: 1px dotted black;border-radius: 0.25em;box-sizing: border-box;margin-bottom: 0.5em;}#sk-container-id-2 div.sk-estimator:hover {background-color: #d4ebff;}#sk-container-id-2 div.sk-parallel-item::after {content: \"\";width: 100%;border-bottom: 1px solid gray;flex-grow: 1;}#sk-container-id-2 div.sk-label:hover label.sk-toggleable__label {background-color: #d4ebff;}#sk-container-id-2 div.sk-serial::before {content: \"\";position: absolute;border-left: 1px solid gray;box-sizing: border-box;top: 0;bottom: 0;left: 50%;z-index: 0;}#sk-container-id-2 div.sk-serial {display: flex;flex-direction: column;align-items: center;background-color: white;padding-right: 0.2em;padding-left: 0.2em;position: relative;}#sk-container-id-2 div.sk-item {position: relative;z-index: 1;}#sk-container-id-2 div.sk-parallel {display: flex;align-items: stretch;justify-content: center;background-color: white;position: relative;}#sk-container-id-2 div.sk-item::before, #sk-container-id-2 div.sk-parallel-item::before {content: \"\";position: absolute;border-left: 1px solid gray;box-sizing: border-box;top: 0;bottom: 0;left: 50%;z-index: -1;}#sk-container-id-2 div.sk-parallel-item {display: flex;flex-direction: column;z-index: 1;position: relative;background-color: white;}#sk-container-id-2 div.sk-parallel-item:first-child::after {align-self: flex-end;width: 50%;}#sk-container-id-2 div.sk-parallel-item:last-child::after {align-self: flex-start;width: 50%;}#sk-container-id-2 div.sk-parallel-item:only-child::after {width: 0;}#sk-container-id-2 div.sk-dashed-wrapped {border: 1px dashed gray;margin: 0 0.4em 0.5em 0.4em;box-sizing: border-box;padding-bottom: 0.4em;background-color: white;}#sk-container-id-2 div.sk-label label {font-family: monospace;font-weight: bold;display: inline-block;line-height: 1.2em;}#sk-container-id-2 div.sk-label-container {text-align: center;}#sk-container-id-2 div.sk-container {/* jupyter's `normalize.less` sets `[hidden] { display: none; }` but bootstrap.min.css set `[hidden] { display: none !important; }` so we also need the `!important` here to be able to override the default hidden behavior on the sphinx rendered scikit-learn.org. See: https://github.com/scikit-learn/scikit-learn/issues/21755 */display: inline-block !important;position: relative;}#sk-container-id-2 div.sk-text-repr-fallback {display: none;}</style><div id=\"sk-container-id-2\" class=\"sk-top-container\"><div class=\"sk-text-repr-fallback\"><pre>GridSearchCV(cv=5, estimator=LogisticRegression(solver=&#x27;sag&#x27;), n_jobs=-1,\n",
              "             param_grid={&#x27;C&#x27;: array([1.e-02, 1.e-01, 1.e+00, 1.e+01, 1.e+02]),\n",
              "                         &#x27;max_iter&#x27;: [500]},\n",
              "             scoring=&#x27;f1_macro&#x27;)</pre><b>In a Jupyter environment, please rerun this cell to show the HTML representation or trust the notebook. <br />On GitHub, the HTML representation is unable to render, please try loading this page with nbviewer.org.</b></div><div class=\"sk-container\" hidden><div class=\"sk-item sk-dashed-wrapped\"><div class=\"sk-label-container\"><div class=\"sk-label sk-toggleable\"><input class=\"sk-toggleable__control sk-hidden--visually\" id=\"sk-estimator-id-4\" type=\"checkbox\" ><label for=\"sk-estimator-id-4\" class=\"sk-toggleable__label sk-toggleable__label-arrow\">GridSearchCV</label><div class=\"sk-toggleable__content\"><pre>GridSearchCV(cv=5, estimator=LogisticRegression(solver=&#x27;sag&#x27;), n_jobs=-1,\n",
              "             param_grid={&#x27;C&#x27;: array([1.e-02, 1.e-01, 1.e+00, 1.e+01, 1.e+02]),\n",
              "                         &#x27;max_iter&#x27;: [500]},\n",
              "             scoring=&#x27;f1_macro&#x27;)</pre></div></div></div><div class=\"sk-parallel\"><div class=\"sk-parallel-item\"><div class=\"sk-item\"><div class=\"sk-label-container\"><div class=\"sk-label sk-toggleable\"><input class=\"sk-toggleable__control sk-hidden--visually\" id=\"sk-estimator-id-5\" type=\"checkbox\" ><label for=\"sk-estimator-id-5\" class=\"sk-toggleable__label sk-toggleable__label-arrow\">estimator: LogisticRegression</label><div class=\"sk-toggleable__content\"><pre>LogisticRegression(solver=&#x27;sag&#x27;)</pre></div></div></div><div class=\"sk-serial\"><div class=\"sk-item\"><div class=\"sk-estimator sk-toggleable\"><input class=\"sk-toggleable__control sk-hidden--visually\" id=\"sk-estimator-id-6\" type=\"checkbox\" ><label for=\"sk-estimator-id-6\" class=\"sk-toggleable__label sk-toggleable__label-arrow\">LogisticRegression</label><div class=\"sk-toggleable__content\"><pre>LogisticRegression(solver=&#x27;sag&#x27;)</pre></div></div></div></div></div></div></div></div></div></div>"
            ]
          },
          "metadata": {},
          "execution_count": 96
        }
      ],
      "source": [
        "grid={'C':10.0 **np.arange(-2,3),'max_iter':[500]}\n",
        "\n",
        "os =  RandomOverSampler()\n",
        "X_res, y_res = os.fit_resample(X_train_tfidf, Cleaned_train['y_train'])  # fit resample data\n",
        "\n",
        "log_model = LogisticRegression(solver='sag')\n",
        "clf=GridSearchCV(estimator = log_model, param_grid = grid, cv = 5, n_jobs = -1, scoring = 'f1_macro')\n",
        "clf.fit(X_res, y_res )"
      ]
    },
    {
      "cell_type": "markdown",
      "source": [
        "# Model Evaluation Report"
      ],
      "metadata": {
        "id": "bq6l-Qjy1U87"
      }
    },
    {
      "cell_type": "code",
      "execution_count": null,
      "metadata": {
        "colab": {
          "base_uri": "https://localhost:8080/",
          "height": 1000
        },
        "id": "2lFeQAUCivQ3",
        "outputId": "5878f39c-55ff-49c1-84b6-8c717deed975"
      },
      "outputs": [
        {
          "output_type": "stream",
          "name": "stdout",
          "text": [
            "Train acc: 0.991853838414008\n",
            "Test acc: 0.7922093367893637\n",
            "              precision    recall  f1-score   support\n",
            "\n",
            "           0       0.87      0.88      0.88     11468\n",
            "           1       0.85      0.85      0.85      5636\n",
            "           2       0.81      0.81      0.81      7266\n",
            "           3       0.76      0.72      0.74      2330\n",
            "           4       0.70      0.69      0.69      2833\n",
            "\n",
            "    accuracy                           0.83     29533\n",
            "   macro avg       0.80      0.79      0.79     29533\n",
            "weighted avg       0.83      0.83      0.83     29533\n",
            "\n"
          ]
        },
        {
          "output_type": "display_data",
          "data": {
            "text/plain": [
              "<Figure size 1200x1200 with 2 Axes>"
            ],
            "image/png": "[encoded data removed]"
          },
          "metadata": {}
        }
      ],
      "source": [
        "report(clf, X_train_tfidf, Cleaned_train['y_train'], X_test_tfidf,Cleaned_test['y_test'])"
      ]
    },
    {
      "cell_type": "markdown",
      "source": [
        "### xgboost"
      ],
      "metadata": {
        "id": "uuHnVIitiOVj"
      }
    },
    {
      "cell_type": "markdown",
      "source": [
        "## Fetching Sudan Data via Web Scraping and Merging with Existing Data\n",
        "-  we aim to enhance our dataset by incorporating more Sudan-related tweets.  \n",
        "- Given the presence of multiple languages and the dominance of certain\n",
        "- classes, it is crucial to ensure a balanced representation of tweets from different regions, including Sudan. By scraping additional tweets from Sudan, we can achieve a more comprehensive dataset, which will improve the performance and generalizability of our models."
      ],
      "metadata": {
        "id": "JjMG_4Tciejh"
      }
    },
    {
      "cell_type": "code",
      "source": [
        "cleaned_x_train = pd.read_csv('/content/Cleaned_train.csv')\n",
        "cleaned_x_test = pd.read_csv('/content/cleaned_x_test.csv')\n",
        "cleaned_x_valid= pd.read_csv('/content/cleaned_x_valid.csv')\n"
      ],
      "metadata": {
        "id": "ggeLsA3fgjlN"
      },
      "execution_count": null,
      "outputs": []
    },
    {
      "cell_type": "code",
      "source": [
        "import pandas as pd\n",
        "import re\n",
        "\n",
        "# List of Sudanese proverbs/sayings\n",
        "proverbs = [\n",
        "    \"سمح الغنا في خشم سيدو\",\n",
        "    \"المال تلتوا ولا كتلتوا\",\n",
        "    \"التسويها بايدك تغلب اجاويدك\",\n",
        "    \"الجمرة تحرق الواطيها\",\n",
        "    \"بليلة مباشر ولا ضبيحة مكاشر\",\n",
        "    \"قلبي على جناى وقلب جناي على حجر\",\n",
        "    \"إن جاتك في مالك سامحتك وإن جاتك في نفسك بكتك\",\n",
        "    \"الخير في الملعون زي الشرة في القندول\",\n",
        "    \"إن غلبك سدها وسع قدها\",\n",
        "    \"المحتاج بفتش خشم البقرة\",\n",
        "    \"بخيت شكروه  قال داك شهر تاني\",\n",
        "    \"أنا أصلي مارق للربا والتلاف\",\n",
        "    \"الما يهدي الكريم تعبان\",\n",
        "    \"أمسح إسمو من خارطة ضميرك حكو\",\n",
        "    \"شتتو في الخلا وعكس الهبايب فكو\",\n",
        "    \"الدين لو درهمين بسود الخدين\",\n",
        "    \"هيييي  أرعى بقيدك\",\n",
        "    \"بادر الضيف ولو ببرش وقرعة موية\",\n",
        "    \"الريد الكتير لابد تعقبو عداوة\",\n",
        "    \"لصيق الطين فى الكرعين ما ببقى نعلين\",\n",
        "    \"القارصوا الدبيب يخاف من جر الحبل\",\n",
        "    \"اتنين كان قالوا ليك اضانك مافى اهبشها\",\n",
        "    \"ام جركم مابتاكل خريفين\",\n",
        "    \"والفولة بتتملى و بقارة بجو\",\n",
        "    \"الدنيا مابتدوم زى الزيق الفى الهدوم\",\n",
        "    \"كان فيها خير ما كان رماها الطير\",\n",
        "    \"صنعة فى اليد امانة من الفقر\",\n",
        "    \"ان عجبك مالك شوف ضل الضحى وان عجبوك رجالك شوف التراب\",\n",
        "    \"البفكك من اكل التوم قل اكلو\",\n",
        "    \"رزقاً تكوسلوا ورزقا يكوسلك\",\n",
        "    \"مابنفع الجس بعد الضبح\",\n",
        "    \"ان جادت بخيط العنكبوت تنقاد وكان عاقت تقطع سلسل الحداد\",\n",
        "    \"حشاش بدقنو\",\n",
        "    \"صاحب بالين كضاب\",\n",
        "    \"السمح سمح كان زرعوا يقوم قمح\",\n",
        "    \"كراع البقر جيابه\",\n",
        "    \"بجى الخريف واللوارى بتقيف\",\n",
        "    \"درب السلامة للحول قريب\",\n",
        "    \"المال تلتوا ولا كتلتوا\",\n",
        "    \"خت الخمسة فى الاتنين\",\n",
        "    \"التسوى كريت فى القرض تلقاهو فى جلدها\",\n",
        "    \"الماشاف البحر تخلعوا الترعة\",\n",
        "    \"القلم ما بزيل بلم\",\n",
        "    \"الجاياك ما بتختاك\",\n",
        "    \"أرجى سفيه ولا ترجى باطل\",\n",
        "    \"أكان شالتك خير، وإن ختتك خيرين\",\n",
        "    \"أها  خم وصر\",\n",
        "    \"الناس زي الهدوم فيها الراقي وفيها الزي جناح أم جكو\",\n",
        "    \"الزائد عن حدو بيقلب ضددو\",\n",
        "    \"البيرقص ما بيغطي دقنو\",\n",
        "    \"الكحل ما بنفع في العين الحجر\",\n",
        "    \"الولادة صغرة والمشي صباح\",\n",
        "    \"درب السلامة للحول قريب\",\n",
        "    \"بكرة الموز بجيبك يا قرد\",\n",
        "    \"شوكة حوت لا بتنبلع لا بتفوت\",\n",
        "    \"البيتو من قزاز مايفلق بالحجار\",\n",
        "    \"جا يكحلها عماها\",\n",
        "    \"تعيس الحظ يلاقي العضمة في الفشفاش\",\n",
        "    \"الأدب الأدب الأدب  أخجلوا بعدين أقرو مثل أمي\",\n",
        "    \"الما دارك ما خربشك\",\n",
        "    \"ايد براها مابتصفق\",\n",
        "    \"جلد ماجلدك كر فيهو الشوك\",\n",
        "    \"كان كترت عليك الهموم ادمدم نوم\",\n",
        "    \"الباب البجيب الريح سدو واستريح\",\n",
        "    \"الكلمة الطيبة بتمرق الدابى من بيتو\",\n",
        "    \"قدم السبت تلقى الاحد\",\n",
        "    \"مد رجليك قدر لحافك\",\n",
        "    \"يوم عسل ويوم بصل\",\n",
        "    \"العارف عزو مستريح\",\n",
        "    \"الحوت ما بهددو بالغرق\",\n",
        "    \"اسمع كلام الكبير ولو كان عوير\",\n",
        "    \"اصله مارق في الربا والتلاف\",\n",
        "    \"الخيل تجقلب والشكر لحماد\",\n",
        "    \"ود الفار حفار\"\n",
        "]\n",
        "\n",
        "# Split the proverbs by dot to create separate entries\n",
        "proverbs_split = [proverb.split('، ') for proverb in proverbs]\n",
        "\n",
        "# Flatten the list\n",
        "proverbs_flat = [item for sublist in proverbs_split for item in sublist]\n",
        "\n",
        "# Create a DataFrame\n",
        "df = pd.DataFrame({\n",
        "    \"cleaned_x_train\": proverbs_flat,\n",
        "    \"y_train\": [4] * len(proverbs_flat)\n",
        "})\n",
        "\n",
        "df"
      ],
      "metadata": {
        "colab": {
          "base_uri": "https://localhost:8080/",
          "height": 423
        },
        "id": "Dz0305HKw-0j",
        "outputId": "41e29737-c655-4fa7-c738-616dab380fd0"
      },
      "execution_count": null,
      "outputs": [
        {
          "output_type": "execute_result",
          "data": {
            "text/plain": [
              "                  cleaned_x_train  y_train\n",
              "0           سمح الغنا في خشم سيدو        4\n",
              "1          المال تلتوا ولا كتلتوا        4\n",
              "2     التسويها بايدك تغلب اجاويدك        4\n",
              "3            الجمرة تحرق الواطيها        4\n",
              "4     بليلة مباشر ولا ضبيحة مكاشر        4\n",
              "..                            ...      ...\n",
              "70          الحوت ما بهددو بالغرق        4\n",
              "71  اسمع كلام الكبير ولو كان عوير        4\n",
              "72     اصله مارق في الربا والتلاف        4\n",
              "73       الخيل تجقلب والشكر لحماد        4\n",
              "74                  ود الفار حفار        4\n",
              "\n",
              "[75 rows x 2 columns]"
            ],
            "text/html": [
              "\n",
              "  <div id=\"df-8674961f-8c0c-4073-bf0e-ba0625e964b4\" class=\"colab-df-container\">\n",
              "    <div>\n",
              "<style scoped>\n",
              "    .dataframe tbody tr th:only-of-type {\n",
              "        vertical-align: middle;\n",
              "    }\n",
              "\n",
              "    .dataframe tbody tr th {\n",
              "        vertical-align: top;\n",
              "    }\n",
              "\n",
              "    .dataframe thead th {\n",
              "        text-align: right;\n",
              "    }\n",
              "</style>\n",
              "<table border=\"1\" class=\"dataframe\">\n",
              "  <thead>\n",
              "    <tr style=\"text-align: right;\">\n",
              "      <th></th>\n",
              "      <th>cleaned_x_train</th>\n",
              "      <th>y_train</th>\n",
              "    </tr>\n",
              "  </thead>\n",
              "  <tbody>\n",
              "    <tr>\n",
              "      <th>0</th>\n",
              "      <td>سمح الغنا في خشم سيدو</td>\n",
              "      <td>4</td>\n",
              "    </tr>\n",
              "    <tr>\n",
              "      <th>1</th>\n",
              "      <td>المال تلتوا ولا كتلتوا</td>\n",
              "      <td>4</td>\n",
              "    </tr>\n",
              "    <tr>\n",
              "      <th>2</th>\n",
              "      <td>التسويها بايدك تغلب اجاويدك</td>\n",
              "      <td>4</td>\n",
              "    </tr>\n",
              "    <tr>\n",
              "      <th>3</th>\n",
              "      <td>الجمرة تحرق الواطيها</td>\n",
              "      <td>4</td>\n",
              "    </tr>\n",
              "    <tr>\n",
              "      <th>4</th>\n",
              "      <td>بليلة مباشر ولا ضبيحة مكاشر</td>\n",
              "      <td>4</td>\n",
              "    </tr>\n",
              "    <tr>\n",
              "      <th>...</th>\n",
              "      <td>...</td>\n",
              "      <td>...</td>\n",
              "    </tr>\n",
              "    <tr>\n",
              "      <th>70</th>\n",
              "      <td>الحوت ما بهددو بالغرق</td>\n",
              "      <td>4</td>\n",
              "    </tr>\n",
              "    <tr>\n",
              "      <th>71</th>\n",
              "      <td>اسمع كلام الكبير ولو كان عوير</td>\n",
              "      <td>4</td>\n",
              "    </tr>\n",
              "    <tr>\n",
              "      <th>72</th>\n",
              "      <td>اصله مارق في الربا والتلاف</td>\n",
              "      <td>4</td>\n",
              "    </tr>\n",
              "    <tr>\n",
              "      <th>73</th>\n",
              "      <td>الخيل تجقلب والشكر لحماد</td>\n",
              "      <td>4</td>\n",
              "    </tr>\n",
              "    <tr>\n",
              "      <th>74</th>\n",
              "      <td>ود الفار حفار</td>\n",
              "      <td>4</td>\n",
              "    </tr>\n",
              "  </tbody>\n",
              "</table>\n",
              "<p>75 rows × 2 columns</p>\n",
              "</div>\n",
              "    <div class=\"colab-df-buttons\">\n",
              "\n",
              "  <div class=\"colab-df-container\">\n",
              "    <button class=\"colab-df-convert\" onclick=\"convertToInteractive('df-8674961f-8c0c-4073-bf0e-ba0625e964b4')\"\n",
              "            title=\"Convert this dataframe to an interactive table.\"\n",
              "            style=\"display:none;\">\n",
              "\n",
              "  <svg xmlns=\"http://www.w3.org/2000/svg\" height=\"24px\" viewBox=\"0 -960 960 960\">\n",
              "    <path d=\"M120-120v-720h720v720H120Zm60-500h600v-160H180v160Zm220 220h160v-160H400v160Zm0 220h160v-160H400v160ZM180-400h160v-160H180v160Zm440 0h160v-160H620v160ZM180-180h160v-160H180v160Zm440 0h160v-160H620v160Z\"/>\n",
              "  </svg>\n",
              "    </button>\n",
              "\n",
              "  <style>\n",
              "    .colab-df-container {\n",
              "      display:flex;\n",
              "      gap: 12px;\n",
              "    }\n",
              "\n",
              "    .colab-df-convert {\n",
              "      background-color: #E8F0FE;\n",
              "      border: none;\n",
              "      border-radius: 50%;\n",
              "      cursor: pointer;\n",
              "      display: none;\n",
              "      fill: #1967D2;\n",
              "      height: 32px;\n",
              "      padding: 0 0 0 0;\n",
              "      width: 32px;\n",
              "    }\n",
              "\n",
              "    .colab-df-convert:hover {\n",
              "      background-color: #E2EBFA;\n",
              "      box-shadow: 0px 1px 2px rgba(60, 64, 67, 0.3), 0px 1px 3px 1px rgba(60, 64, 67, 0.15);\n",
              "      fill: #174EA6;\n",
              "    }\n",
              "\n",
              "    .colab-df-buttons div {\n",
              "      margin-bottom: 4px;\n",
              "    }\n",
              "\n",
              "    [theme=dark] .colab-df-convert {\n",
              "      background-color: #3B4455;\n",
              "      fill: #D2E3FC;\n",
              "    }\n",
              "\n",
              "    [theme=dark] .colab-df-convert:hover {\n",
              "      background-color: #434B5C;\n",
              "      box-shadow: 0px 1px 3px 1px rgba(0, 0, 0, 0.15);\n",
              "      filter: drop-shadow(0px 1px 2px rgba(0, 0, 0, 0.3));\n",
              "      fill: #FFFFFF;\n",
              "    }\n",
              "  </style>\n",
              "\n",
              "    <script>\n",
              "      const buttonEl =\n",
              "        document.querySelector('#df-8674961f-8c0c-4073-bf0e-ba0625e964b4 button.colab-df-convert');\n",
              "      buttonEl.style.display =\n",
              "        google.colab.kernel.accessAllowed ? 'block' : 'none';\n",
              "\n",
              "      async function convertToInteractive(key) {\n",
              "        const element = document.querySelector('#df-8674961f-8c0c-4073-bf0e-ba0625e964b4');\n",
              "        const dataTable =\n",
              "          await google.colab.kernel.invokeFunction('convertToInteractive',\n",
              "                                                    [key], {});\n",
              "        if (!dataTable) return;\n",
              "\n",
              "        const docLinkHtml = 'Like what you see? Visit the ' +\n",
              "          '<a target=\"_blank\" href=https://colab.research.google.com/notebooks/data_table.ipynb>data table notebook</a>'\n",
              "          + ' to learn more about interactive tables.';\n",
              "        element.innerHTML = '';\n",
              "        dataTable['output_type'] = 'display_data';\n",
              "        await google.colab.output.renderOutput(dataTable, element);\n",
              "        const docLink = document.createElement('div');\n",
              "        docLink.innerHTML = docLinkHtml;\n",
              "        element.appendChild(docLink);\n",
              "      }\n",
              "    </script>\n",
              "  </div>\n",
              "\n",
              "\n",
              "<div id=\"df-922a176c-4ff2-4a9a-bd64-0078b9b215fb\">\n",
              "  <button class=\"colab-df-quickchart\" onclick=\"quickchart('df-922a176c-4ff2-4a9a-bd64-0078b9b215fb')\"\n",
              "            title=\"Suggest charts\"\n",
              "            style=\"display:none;\">\n",
              "\n",
              "<svg xmlns=\"http://www.w3.org/2000/svg\" height=\"24px\"viewBox=\"0 0 24 24\"\n",
              "     width=\"24px\">\n",
              "    <g>\n",
              "        <path d=\"M19 3H5c-1.1 0-2 .9-2 2v14c0 1.1.9 2 2 2h14c1.1 0 2-.9 2-2V5c0-1.1-.9-2-2-2zM9 17H7v-7h2v7zm4 0h-2V7h2v10zm4 0h-2v-4h2v4z\"/>\n",
              "    </g>\n",
              "</svg>\n",
              "  </button>\n",
              "\n",
              "<style>\n",
              "  .colab-df-quickchart {\n",
              "      --bg-color: #E8F0FE;\n",
              "      --fill-color: #1967D2;\n",
              "      --hover-bg-color: #E2EBFA;\n",
              "      --hover-fill-color: #174EA6;\n",
              "      --disabled-fill-color: #AAA;\n",
              "      --disabled-bg-color: #DDD;\n",
              "  }\n",
              "\n",
              "  [theme=dark] .colab-df-quickchart {\n",
              "      --bg-color: #3B4455;\n",
              "      --fill-color: #D2E3FC;\n",
              "      --hover-bg-color: #434B5C;\n",
              "      --hover-fill-color: #FFFFFF;\n",
              "      --disabled-bg-color: #3B4455;\n",
              "      --disabled-fill-color: #666;\n",
              "  }\n",
              "\n",
              "  .colab-df-quickchart {\n",
              "    background-color: var(--bg-color);\n",
              "    border: none;\n",
              "    border-radius: 50%;\n",
              "    cursor: pointer;\n",
              "    display: none;\n",
              "    fill: var(--fill-color);\n",
              "    height: 32px;\n",
              "    padding: 0;\n",
              "    width: 32px;\n",
              "  }\n",
              "\n",
              "  .colab-df-quickchart:hover {\n",
              "    background-color: var(--hover-bg-color);\n",
              "    box-shadow: 0 1px 2px rgba(60, 64, 67, 0.3), 0 1px 3px 1px rgba(60, 64, 67, 0.15);\n",
              "    fill: var(--button-hover-fill-color);\n",
              "  }\n",
              "\n",
              "  .colab-df-quickchart-complete:disabled,\n",
              "  .colab-df-quickchart-complete:disabled:hover {\n",
              "    background-color: var(--disabled-bg-color);\n",
              "    fill: var(--disabled-fill-color);\n",
              "    box-shadow: none;\n",
              "  }\n",
              "\n",
              "  .colab-df-spinner {\n",
              "    border: 2px solid var(--fill-color);\n",
              "    border-color: transparent;\n",
              "    border-bottom-color: var(--fill-color);\n",
              "    animation:\n",
              "      spin 1s steps(1) infinite;\n",
              "  }\n",
              "\n",
              "  @keyframes spin {\n",
              "    0% {\n",
              "      border-color: transparent;\n",
              "      border-bottom-color: var(--fill-color);\n",
              "      border-left-color: var(--fill-color);\n",
              "    }\n",
              "    20% {\n",
              "      border-color: transparent;\n",
              "      border-left-color: var(--fill-color);\n",
              "      border-top-color: var(--fill-color);\n",
              "    }\n",
              "    30% {\n",
              "      border-color: transparent;\n",
              "      border-left-color: var(--fill-color);\n",
              "      border-top-color: var(--fill-color);\n",
              "      border-right-color: var(--fill-color);\n",
              "    }\n",
              "    40% {\n",
              "      border-color: transparent;\n",
              "      border-right-color: var(--fill-color);\n",
              "      border-top-color: var(--fill-color);\n",
              "    }\n",
              "    60% {\n",
              "      border-color: transparent;\n",
              "      border-right-color: var(--fill-color);\n",
              "    }\n",
              "    80% {\n",
              "      border-color: transparent;\n",
              "      border-right-color: var(--fill-color);\n",
              "      border-bottom-color: var(--fill-color);\n",
              "    }\n",
              "    90% {\n",
              "      border-color: transparent;\n",
              "      border-bottom-color: var(--fill-color);\n",
              "    }\n",
              "  }\n",
              "</style>\n",
              "\n",
              "  <script>\n",
              "    async function quickchart(key) {\n",
              "      const quickchartButtonEl =\n",
              "        document.querySelector('#' + key + ' button');\n",
              "      quickchartButtonEl.disabled = true;  // To prevent multiple clicks.\n",
              "      quickchartButtonEl.classList.add('colab-df-spinner');\n",
              "      try {\n",
              "        const charts = await google.colab.kernel.invokeFunction(\n",
              "            'suggestCharts', [key], {});\n",
              "      } catch (error) {\n",
              "        console.error('Error during call to suggestCharts:', error);\n",
              "      }\n",
              "      quickchartButtonEl.classList.remove('colab-df-spinner');\n",
              "      quickchartButtonEl.classList.add('colab-df-quickchart-complete');\n",
              "    }\n",
              "    (() => {\n",
              "      let quickchartButtonEl =\n",
              "        document.querySelector('#df-922a176c-4ff2-4a9a-bd64-0078b9b215fb button');\n",
              "      quickchartButtonEl.style.display =\n",
              "        google.colab.kernel.accessAllowed ? 'block' : 'none';\n",
              "    })();\n",
              "  </script>\n",
              "</div>\n",
              "\n",
              "  <div id=\"id_de0f528d-5aa3-4269-8e66-a44f46c4039f\">\n",
              "    <style>\n",
              "      .colab-df-generate {\n",
              "        background-color: #E8F0FE;\n",
              "        border: none;\n",
              "        border-radius: 50%;\n",
              "        cursor: pointer;\n",
              "        display: none;\n",
              "        fill: #1967D2;\n",
              "        height: 32px;\n",
              "        padding: 0 0 0 0;\n",
              "        width: 32px;\n",
              "      }\n",
              "\n",
              "      .colab-df-generate:hover {\n",
              "        background-color: #E2EBFA;\n",
              "        box-shadow: 0px 1px 2px rgba(60, 64, 67, 0.3), 0px 1px 3px 1px rgba(60, 64, 67, 0.15);\n",
              "        fill: #174EA6;\n",
              "      }\n",
              "\n",
              "      [theme=dark] .colab-df-generate {\n",
              "        background-color: #3B4455;\n",
              "        fill: #D2E3FC;\n",
              "      }\n",
              "\n",
              "      [theme=dark] .colab-df-generate:hover {\n",
              "        background-color: #434B5C;\n",
              "        box-shadow: 0px 1px 3px 1px rgba(0, 0, 0, 0.15);\n",
              "        filter: drop-shadow(0px 1px 2px rgba(0, 0, 0, 0.3));\n",
              "        fill: #FFFFFF;\n",
              "      }\n",
              "    </style>\n",
              "    <button class=\"colab-df-generate\" onclick=\"generateWithVariable('df')\"\n",
              "            title=\"Generate code using this dataframe.\"\n",
              "            style=\"display:none;\">\n",
              "\n",
              "  <svg xmlns=\"http://www.w3.org/2000/svg\" height=\"24px\"viewBox=\"0 0 24 24\"\n",
              "       width=\"24px\">\n",
              "    <path d=\"M7,19H8.4L18.45,9,17,7.55,7,17.6ZM5,21V16.75L18.45,3.32a2,2,0,0,1,2.83,0l1.4,1.43a1.91,1.91,0,0,1,.58,1.4,1.91,1.91,0,0,1-.58,1.4L9.25,21ZM18.45,9,17,7.55Zm-12,3A5.31,5.31,0,0,0,4.9,8.1,5.31,5.31,0,0,0,1,6.5,5.31,5.31,0,0,0,4.9,4.9,5.31,5.31,0,0,0,6.5,1,5.31,5.31,0,0,0,8.1,4.9,5.31,5.31,0,0,0,12,6.5,5.46,5.46,0,0,0,6.5,12Z\"/>\n",
              "  </svg>\n",
              "    </button>\n",
              "    <script>\n",
              "      (() => {\n",
              "      const buttonEl =\n",
              "        document.querySelector('#id_de0f528d-5aa3-4269-8e66-a44f46c4039f button.colab-df-generate');\n",
              "      buttonEl.style.display =\n",
              "        google.colab.kernel.accessAllowed ? 'block' : 'none';\n",
              "\n",
              "      buttonEl.onclick = () => {\n",
              "        google.colab.notebook.generateWithVariable('df');\n",
              "      }\n",
              "      })();\n",
              "    </script>\n",
              "  </div>\n",
              "\n",
              "    </div>\n",
              "  </div>\n"
            ],
            "application/vnd.google.colaboratory.intrinsic+json": {
              "type": "dataframe",
              "variable_name": "df",
              "summary": "{\n  \"name\": \"df\",\n  \"rows\": 75,\n  \"fields\": [\n    {\n      \"column\": \"cleaned_x_train\",\n      \"properties\": {\n        \"dtype\": \"string\",\n        \"num_unique_values\": 73,\n        \"samples\": [\n          \"\\u0628\\u0644\\u064a\\u0644\\u0629 \\u0645\\u0628\\u0627\\u0634\\u0631 \\u0648\\u0644\\u0627 \\u0636\\u0628\\u064a\\u062d\\u0629 \\u0645\\u0643\\u0627\\u0634\\u0631\",\n          \"\\u0627\\u0644\\u0643\\u0644\\u0645\\u0629 \\u0627\\u0644\\u0637\\u064a\\u0628\\u0629 \\u0628\\u062a\\u0645\\u0631\\u0642 \\u0627\\u0644\\u062f\\u0627\\u0628\\u0649 \\u0645\\u0646 \\u0628\\u064a\\u062a\\u0648\",\n          \"\\u0627\\u0644\\u0631\\u064a\\u062f \\u0627\\u0644\\u0643\\u062a\\u064a\\u0631 \\u0644\\u0627\\u0628\\u062f \\u062a\\u0639\\u0642\\u0628\\u0648 \\u0639\\u062f\\u0627\\u0648\\u0629\"\n        ],\n        \"semantic_type\": \"\",\n        \"description\": \"\"\n      }\n    },\n    {\n      \"column\": \"y_train\",\n      \"properties\": {\n        \"dtype\": \"number\",\n        \"std\": 0,\n        \"min\": 4,\n        \"max\": 4,\n        \"num_unique_values\": 1,\n        \"samples\": [\n          4\n        ],\n        \"semantic_type\": \"\",\n        \"description\": \"\"\n      }\n    }\n  ]\n}"
            }
          },
          "metadata": {},
          "execution_count": 3
        }
      ]
    },
    {
      "cell_type": "code",
      "source": [
        "Cleaned_train = pd.concat([cleaned_x_train, df], ignore_index=True)\n",
        "Cleaned_train"
      ],
      "metadata": {
        "colab": {
          "base_uri": "https://localhost:8080/",
          "height": 423
        },
        "id": "spLk3KLnx7WL",
        "outputId": "b70fd4be-7f74-4a86-e3cb-c8afb84338b6"
      },
      "execution_count": null,
      "outputs": [
        {
          "output_type": "execute_result",
          "data": {
            "text/plain": [
              "                                         cleaned_x_train  y_train\n",
              "0      ردا على سؤالك من قتل المتظاهرينالإجابة عند مرا...        0\n",
              "1      زي النهاردة من ٥ سنين حضرت اول مرة حكاوي التحر...        0\n",
              "2      اش هاد الحب من عند جيرانا اللي ربح نفرحولو خاو...        3\n",
              "3                            آه نقوم تورطنا ونهرب مش كدا        0\n",
              "4               مش حانفتح الرابط هذا لان خليفه مش موضوعي        2\n",
              "...                                                  ...      ...\n",
              "88748                              الحوت ما بهددو بالغرق        4\n",
              "88749                      اسمع كلام الكبير ولو كان عوير        4\n",
              "88750                         اصله مارق في الربا والتلاف        4\n",
              "88751                           الخيل تجقلب والشكر لحماد        4\n",
              "88752                                      ود الفار حفار        4\n",
              "\n",
              "[88753 rows x 2 columns]"
            ],
            "text/html": [
              "\n",
              "  <div id=\"df-e2f4facb-5948-4ea1-a406-785406a97ecc\" class=\"colab-df-container\">\n",
              "    <div>\n",
              "<style scoped>\n",
              "    .dataframe tbody tr th:only-of-type {\n",
              "        vertical-align: middle;\n",
              "    }\n",
              "\n",
              "    .dataframe tbody tr th {\n",
              "        vertical-align: top;\n",
              "    }\n",
              "\n",
              "    .dataframe thead th {\n",
              "        text-align: right;\n",
              "    }\n",
              "</style>\n",
              "<table border=\"1\" class=\"dataframe\">\n",
              "  <thead>\n",
              "    <tr style=\"text-align: right;\">\n",
              "      <th></th>\n",
              "      <th>cleaned_x_train</th>\n",
              "      <th>y_train</th>\n",
              "    </tr>\n",
              "  </thead>\n",
              "  <tbody>\n",
              "    <tr>\n",
              "      <th>0</th>\n",
              "      <td>ردا على سؤالك من قتل المتظاهرينالإجابة عند مرا...</td>\n",
              "      <td>0</td>\n",
              "    </tr>\n",
              "    <tr>\n",
              "      <th>1</th>\n",
              "      <td>زي النهاردة من ٥ سنين حضرت اول مرة حكاوي التحر...</td>\n",
              "      <td>0</td>\n",
              "    </tr>\n",
              "    <tr>\n",
              "      <th>2</th>\n",
              "      <td>اش هاد الحب من عند جيرانا اللي ربح نفرحولو خاو...</td>\n",
              "      <td>3</td>\n",
              "    </tr>\n",
              "    <tr>\n",
              "      <th>3</th>\n",
              "      <td>آه نقوم تورطنا ونهرب مش كدا</td>\n",
              "      <td>0</td>\n",
              "    </tr>\n",
              "    <tr>\n",
              "      <th>4</th>\n",
              "      <td>مش حانفتح الرابط هذا لان خليفه مش موضوعي</td>\n",
              "      <td>2</td>\n",
              "    </tr>\n",
              "    <tr>\n",
              "      <th>...</th>\n",
              "      <td>...</td>\n",
              "      <td>...</td>\n",
              "    </tr>\n",
              "    <tr>\n",
              "      <th>88748</th>\n",
              "      <td>الحوت ما بهددو بالغرق</td>\n",
              "      <td>4</td>\n",
              "    </tr>\n",
              "    <tr>\n",
              "      <th>88749</th>\n",
              "      <td>اسمع كلام الكبير ولو كان عوير</td>\n",
              "      <td>4</td>\n",
              "    </tr>\n",
              "    <tr>\n",
              "      <th>88750</th>\n",
              "      <td>اصله مارق في الربا والتلاف</td>\n",
              "      <td>4</td>\n",
              "    </tr>\n",
              "    <tr>\n",
              "      <th>88751</th>\n",
              "      <td>الخيل تجقلب والشكر لحماد</td>\n",
              "      <td>4</td>\n",
              "    </tr>\n",
              "    <tr>\n",
              "      <th>88752</th>\n",
              "      <td>ود الفار حفار</td>\n",
              "      <td>4</td>\n",
              "    </tr>\n",
              "  </tbody>\n",
              "</table>\n",
              "<p>88753 rows × 2 columns</p>\n",
              "</div>\n",
              "    <div class=\"colab-df-buttons\">\n",
              "\n",
              "  <div class=\"colab-df-container\">\n",
              "    <button class=\"colab-df-convert\" onclick=\"convertToInteractive('df-e2f4facb-5948-4ea1-a406-785406a97ecc')\"\n",
              "            title=\"Convert this dataframe to an interactive table.\"\n",
              "            style=\"display:none;\">\n",
              "\n",
              "  <svg xmlns=\"http://www.w3.org/2000/svg\" height=\"24px\" viewBox=\"0 -960 960 960\">\n",
              "    <path d=\"M120-120v-720h720v720H120Zm60-500h600v-160H180v160Zm220 220h160v-160H400v160Zm0 220h160v-160H400v160ZM180-400h160v-160H180v160Zm440 0h160v-160H620v160ZM180-180h160v-160H180v160Zm440 0h160v-160H620v160Z\"/>\n",
              "  </svg>\n",
              "    </button>\n",
              "\n",
              "  <style>\n",
              "    .colab-df-container {\n",
              "      display:flex;\n",
              "      gap: 12px;\n",
              "    }\n",
              "\n",
              "    .colab-df-convert {\n",
              "      background-color: #E8F0FE;\n",
              "      border: none;\n",
              "      border-radius: 50%;\n",
              "      cursor: pointer;\n",
              "      display: none;\n",
              "      fill: #1967D2;\n",
              "      height: 32px;\n",
              "      padding: 0 0 0 0;\n",
              "      width: 32px;\n",
              "    }\n",
              "\n",
              "    .colab-df-convert:hover {\n",
              "      background-color: #E2EBFA;\n",
              "      box-shadow: 0px 1px 2px rgba(60, 64, 67, 0.3), 0px 1px 3px 1px rgba(60, 64, 67, 0.15);\n",
              "      fill: #174EA6;\n",
              "    }\n",
              "\n",
              "    .colab-df-buttons div {\n",
              "      margin-bottom: 4px;\n",
              "    }\n",
              "\n",
              "    [theme=dark] .colab-df-convert {\n",
              "      background-color: #3B4455;\n",
              "      fill: #D2E3FC;\n",
              "    }\n",
              "\n",
              "    [theme=dark] .colab-df-convert:hover {\n",
              "      background-color: #434B5C;\n",
              "      box-shadow: 0px 1px 3px 1px rgba(0, 0, 0, 0.15);\n",
              "      filter: drop-shadow(0px 1px 2px rgba(0, 0, 0, 0.3));\n",
              "      fill: #FFFFFF;\n",
              "    }\n",
              "  </style>\n",
              "\n",
              "    <script>\n",
              "      const buttonEl =\n",
              "        document.querySelector('#df-e2f4facb-5948-4ea1-a406-785406a97ecc button.colab-df-convert');\n",
              "      buttonEl.style.display =\n",
              "        google.colab.kernel.accessAllowed ? 'block' : 'none';\n",
              "\n",
              "      async function convertToInteractive(key) {\n",
              "        const element = document.querySelector('#df-e2f4facb-5948-4ea1-a406-785406a97ecc');\n",
              "        const dataTable =\n",
              "          await google.colab.kernel.invokeFunction('convertToInteractive',\n",
              "                                                    [key], {});\n",
              "        if (!dataTable) return;\n",
              "\n",
              "        const docLinkHtml = 'Like what you see? Visit the ' +\n",
              "          '<a target=\"_blank\" href=https://colab.research.google.com/notebooks/data_table.ipynb>data table notebook</a>'\n",
              "          + ' to learn more about interactive tables.';\n",
              "        element.innerHTML = '';\n",
              "        dataTable['output_type'] = 'display_data';\n",
              "        await google.colab.output.renderOutput(dataTable, element);\n",
              "        const docLink = document.createElement('div');\n",
              "        docLink.innerHTML = docLinkHtml;\n",
              "        element.appendChild(docLink);\n",
              "      }\n",
              "    </script>\n",
              "  </div>\n",
              "\n",
              "\n",
              "<div id=\"df-2c8cb93c-552d-49bb-b893-51c14ea67428\">\n",
              "  <button class=\"colab-df-quickchart\" onclick=\"quickchart('df-2c8cb93c-552d-49bb-b893-51c14ea67428')\"\n",
              "            title=\"Suggest charts\"\n",
              "            style=\"display:none;\">\n",
              "\n",
              "<svg xmlns=\"http://www.w3.org/2000/svg\" height=\"24px\"viewBox=\"0 0 24 24\"\n",
              "     width=\"24px\">\n",
              "    <g>\n",
              "        <path d=\"M19 3H5c-1.1 0-2 .9-2 2v14c0 1.1.9 2 2 2h14c1.1 0 2-.9 2-2V5c0-1.1-.9-2-2-2zM9 17H7v-7h2v7zm4 0h-2V7h2v10zm4 0h-2v-4h2v4z\"/>\n",
              "    </g>\n",
              "</svg>\n",
              "  </button>\n",
              "\n",
              "<style>\n",
              "  .colab-df-quickchart {\n",
              "      --bg-color: #E8F0FE;\n",
              "      --fill-color: #1967D2;\n",
              "      --hover-bg-color: #E2EBFA;\n",
              "      --hover-fill-color: #174EA6;\n",
              "      --disabled-fill-color: #AAA;\n",
              "      --disabled-bg-color: #DDD;\n",
              "  }\n",
              "\n",
              "  [theme=dark] .colab-df-quickchart {\n",
              "      --bg-color: #3B4455;\n",
              "      --fill-color: #D2E3FC;\n",
              "      --hover-bg-color: #434B5C;\n",
              "      --hover-fill-color: #FFFFFF;\n",
              "      --disabled-bg-color: #3B4455;\n",
              "      --disabled-fill-color: #666;\n",
              "  }\n",
              "\n",
              "  .colab-df-quickchart {\n",
              "    background-color: var(--bg-color);\n",
              "    border: none;\n",
              "    border-radius: 50%;\n",
              "    cursor: pointer;\n",
              "    display: none;\n",
              "    fill: var(--fill-color);\n",
              "    height: 32px;\n",
              "    padding: 0;\n",
              "    width: 32px;\n",
              "  }\n",
              "\n",
              "  .colab-df-quickchart:hover {\n",
              "    background-color: var(--hover-bg-color);\n",
              "    box-shadow: 0 1px 2px rgba(60, 64, 67, 0.3), 0 1px 3px 1px rgba(60, 64, 67, 0.15);\n",
              "    fill: var(--button-hover-fill-color);\n",
              "  }\n",
              "\n",
              "  .colab-df-quickchart-complete:disabled,\n",
              "  .colab-df-quickchart-complete:disabled:hover {\n",
              "    background-color: var(--disabled-bg-color);\n",
              "    fill: var(--disabled-fill-color);\n",
              "    box-shadow: none;\n",
              "  }\n",
              "\n",
              "  .colab-df-spinner {\n",
              "    border: 2px solid var(--fill-color);\n",
              "    border-color: transparent;\n",
              "    border-bottom-color: var(--fill-color);\n",
              "    animation:\n",
              "      spin 1s steps(1) infinite;\n",
              "  }\n",
              "\n",
              "  @keyframes spin {\n",
              "    0% {\n",
              "      border-color: transparent;\n",
              "      border-bottom-color: var(--fill-color);\n",
              "      border-left-color: var(--fill-color);\n",
              "    }\n",
              "    20% {\n",
              "      border-color: transparent;\n",
              "      border-left-color: var(--fill-color);\n",
              "      border-top-color: var(--fill-color);\n",
              "    }\n",
              "    30% {\n",
              "      border-color: transparent;\n",
              "      border-left-color: var(--fill-color);\n",
              "      border-top-color: var(--fill-color);\n",
              "      border-right-color: var(--fill-color);\n",
              "    }\n",
              "    40% {\n",
              "      border-color: transparent;\n",
              "      border-right-color: var(--fill-color);\n",
              "      border-top-color: var(--fill-color);\n",
              "    }\n",
              "    60% {\n",
              "      border-color: transparent;\n",
              "      border-right-color: var(--fill-color);\n",
              "    }\n",
              "    80% {\n",
              "      border-color: transparent;\n",
              "      border-right-color: var(--fill-color);\n",
              "      border-bottom-color: var(--fill-color);\n",
              "    }\n",
              "    90% {\n",
              "      border-color: transparent;\n",
              "      border-bottom-color: var(--fill-color);\n",
              "    }\n",
              "  }\n",
              "</style>\n",
              "\n",
              "  <script>\n",
              "    async function quickchart(key) {\n",
              "      const quickchartButtonEl =\n",
              "        document.querySelector('#' + key + ' button');\n",
              "      quickchartButtonEl.disabled = true;  // To prevent multiple clicks.\n",
              "      quickchartButtonEl.classList.add('colab-df-spinner');\n",
              "      try {\n",
              "        const charts = await google.colab.kernel.invokeFunction(\n",
              "            'suggestCharts', [key], {});\n",
              "      } catch (error) {\n",
              "        console.error('Error during call to suggestCharts:', error);\n",
              "      }\n",
              "      quickchartButtonEl.classList.remove('colab-df-spinner');\n",
              "      quickchartButtonEl.classList.add('colab-df-quickchart-complete');\n",
              "    }\n",
              "    (() => {\n",
              "      let quickchartButtonEl =\n",
              "        document.querySelector('#df-2c8cb93c-552d-49bb-b893-51c14ea67428 button');\n",
              "      quickchartButtonEl.style.display =\n",
              "        google.colab.kernel.accessAllowed ? 'block' : 'none';\n",
              "    })();\n",
              "  </script>\n",
              "</div>\n",
              "\n",
              "  <div id=\"id_070ba21c-5e9e-4f6f-ab06-a1bc416406ac\">\n",
              "    <style>\n",
              "      .colab-df-generate {\n",
              "        background-color: #E8F0FE;\n",
              "        border: none;\n",
              "        border-radius: 50%;\n",
              "        cursor: pointer;\n",
              "        display: none;\n",
              "        fill: #1967D2;\n",
              "        height: 32px;\n",
              "        padding: 0 0 0 0;\n",
              "        width: 32px;\n",
              "      }\n",
              "\n",
              "      .colab-df-generate:hover {\n",
              "        background-color: #E2EBFA;\n",
              "        box-shadow: 0px 1px 2px rgba(60, 64, 67, 0.3), 0px 1px 3px 1px rgba(60, 64, 67, 0.15);\n",
              "        fill: #174EA6;\n",
              "      }\n",
              "\n",
              "      [theme=dark] .colab-df-generate {\n",
              "        background-color: #3B4455;\n",
              "        fill: #D2E3FC;\n",
              "      }\n",
              "\n",
              "      [theme=dark] .colab-df-generate:hover {\n",
              "        background-color: #434B5C;\n",
              "        box-shadow: 0px 1px 3px 1px rgba(0, 0, 0, 0.15);\n",
              "        filter: drop-shadow(0px 1px 2px rgba(0, 0, 0, 0.3));\n",
              "        fill: #FFFFFF;\n",
              "      }\n",
              "    </style>\n",
              "    <button class=\"colab-df-generate\" onclick=\"generateWithVariable('Cleaned_train')\"\n",
              "            title=\"Generate code using this dataframe.\"\n",
              "            style=\"display:none;\">\n",
              "\n",
              "  <svg xmlns=\"http://www.w3.org/2000/svg\" height=\"24px\"viewBox=\"0 0 24 24\"\n",
              "       width=\"24px\">\n",
              "    <path d=\"M7,19H8.4L18.45,9,17,7.55,7,17.6ZM5,21V16.75L18.45,3.32a2,2,0,0,1,2.83,0l1.4,1.43a1.91,1.91,0,0,1,.58,1.4,1.91,1.91,0,0,1-.58,1.4L9.25,21ZM18.45,9,17,7.55Zm-12,3A5.31,5.31,0,0,0,4.9,8.1,5.31,5.31,0,0,0,1,6.5,5.31,5.31,0,0,0,4.9,4.9,5.31,5.31,0,0,0,6.5,1,5.31,5.31,0,0,0,8.1,4.9,5.31,5.31,0,0,0,12,6.5,5.46,5.46,0,0,0,6.5,12Z\"/>\n",
              "  </svg>\n",
              "    </button>\n",
              "    <script>\n",
              "      (() => {\n",
              "      const buttonEl =\n",
              "        document.querySelector('#id_070ba21c-5e9e-4f6f-ab06-a1bc416406ac button.colab-df-generate');\n",
              "      buttonEl.style.display =\n",
              "        google.colab.kernel.accessAllowed ? 'block' : 'none';\n",
              "\n",
              "      buttonEl.onclick = () => {\n",
              "        google.colab.notebook.generateWithVariable('Cleaned_train');\n",
              "      }\n",
              "      })();\n",
              "    </script>\n",
              "  </div>\n",
              "\n",
              "    </div>\n",
              "  </div>\n"
            ],
            "application/vnd.google.colaboratory.intrinsic+json": {
              "type": "dataframe",
              "variable_name": "Cleaned_train",
              "summary": "{\n  \"name\": \"Cleaned_train\",\n  \"rows\": 88753,\n  \"fields\": [\n    {\n      \"column\": \"cleaned_x_train\",\n      \"properties\": {\n        \"dtype\": \"string\",\n        \"num_unique_values\": 88666,\n        \"samples\": [\n          \"\\u0628\\u0646\\u063a\\u0627\\u0632\\u064a \\u0643\\u0627\\u0646 \\u0641\\u064a\\u0647\\u0627 \\u0646\\u0641\\u0631 \\u0642\\u0639\\u062f \\u0641\\u064a\\u0647\\u0627 \\u0627\\u0631\\u0628\\u0639\\u0629 \\u0633\\u0646\\u0648\\u0627\\u062a \\u0645\\u0639\\u0646\\u0627\\u0647\\u0627 \\u0637\\u0631\\u0627\\u0628\\u0644\\u0633 \\u064a\\u0628\\u064a \\u0641\\u064a\\u0647\\u0627 \\u0633\\u0646\\u0647 \\u0648\\u0645\\u0634 \\u062d\\u064a\\u062e\\u0634\\u0647\\u0627 \\u0628\\u0646\\u063a\\u0627\\u0632\\u064a \\u0643\\u0627\\u0646 \\u0641\\u064a\\u0647\\u0627 \\u0627\\u0646\\u0635\\u0627\\u0631 \\u0627\\u0644\\u0634\\u0631\\u064a\\u0639\\u0629 \\u0648\\u0645\\u0639\\u0627\\u0647\\u0645 \\u062c\\u0645\\u0627\\u0639\\u0629 \\u0642\\u0637\\u0639 \\u0627\\u0644\\u0631\\u0624\\u0648\\u0633 \\u0648\\u0627\\u0646\\u0642\\u0648\\u0644\\u0648\\u0627 \\u0628\\u0627\\u0647\\u064a \\u0644\\u0643\\u0646 \\u0637\\u0631\\u0627\\u0628\\u0644\\u0633 \\u0634\\u0646 \\u0641\\u064a\\u0647\\u0627 \\u061f \\u0643\\u062a\\u0627\\u064a\\u0628 \\u0645\\u0633\\u0644\\u062d\\u0629 \\u061f \\u0643\\u0644\\u0646\\u0627 \\u0645\\u0627\\u0646\\u0628\\u0648\\u0647\\u0645\\u0634 \\u0644\\u0643\\u0646 \\u0647\\u062f\\u0647 \\u0627\\u0644\\u0645\\u0644\\u064a\\u0634\\u064a\\u0627\\u062a \\u0648\\u0627\\u0644\\u0643\\u062a\\u0627\\u064a\\u0628 \\u0627\\u0641\\u0636\\u0644 \\u0627\\u0644\\u0641 \\u0645\\u0631\\u0629 \\u0645\\u0646 \\u0627\\u0644\\u0647\\u0627\\u062c\\u0648\\u062c \\u0645\\u0627\\u062c\\u0648\\u062c \\u0627\\u0644\\u0644\\u064a \\u0628\\u0627\\u0639\\u062a\\u0647\\u0645 \\u062d\\u0641\\u062a\\u0631\",\n          \"\\u0645\\u0634 \\u0628\\u062a\\u0641\\u0648\\u062a \\u0641\\u0631\\u0635\\u0647 \\u0627\\u0644\\u062a\\u0639\\u0631\\u064a\\u0636 \\u0641\\u064a\\u0643 \\u0645\\u0646 \\u0627\\u064a\\u0627\\u0645 \\u0645\\u0628\\u0627\\u0631\\u0643 \\u0627\\u0646\\u062a \\u0639\\u0627\\u0631 \\u0639\\u0644\\u0649 \\u0627\\u0644\\u0635\\u0639\\u064a\\u062f \\u0648\\u0627\\u0644\\u0644\\u0647 \\u0645\\u0635\\u0631 \\u0645\\u0634 \\u0645\\u062d\\u062a\\u0627\\u062c\\u0647 \\u0641\\u0631\\u062d\\u062a\\u0643 \\u0627\\u0646\\u0632\\u0644 \\u0644\\u0644\\u0646\\u0627\\u0633 \\u0648\\u0627\\u0646\\u062a \\u062a\\u0634\\u0648\\u0641 \\u0627\\u0644\\u0641\\u0631\\u062d\\u0647 \\u0645\\u062a\\u0634\\u0641\\u0647\\u0627\\u0634 \\u0645\\u0646 \\u0641\\u0648\\u0642\",\n          \"\\u0627\\u0644\\u0635\\u062f\\u0627\\u0639 \\u0637\\u0631\\u0637\\u0634 \\u0631\\u0627\\u0633\\u064a \\u0648 \\u0627\\u0644\\u062f\\u062e\\u0627\\u0646 \\u0637\\u0631\\u0637\\u0634 \\u0641\\u0644\\u0648\\u0633\\u0649\"\n        ],\n        \"semantic_type\": \"\",\n        \"description\": \"\"\n      }\n    },\n    {\n      \"column\": \"y_train\",\n      \"properties\": {\n        \"dtype\": \"number\",\n        \"std\": 1,\n        \"min\": 0,\n        \"max\": 4,\n        \"num_unique_values\": 5,\n        \"samples\": [\n          3,\n          1,\n          2\n        ],\n        \"semantic_type\": \"\",\n        \"description\": \"\"\n      }\n    }\n  ]\n}"
            }
          },
          "metadata": {},
          "execution_count": 4
        }
      ]
    },
    {
      "cell_type": "code",
      "source": [
        "import pandas as pd\n",
        "\n",
        "# Your DataFrame df\n",
        "Cleaned_train = Cleaned_train.sample(frac=1, random_state=42)  # Shuffle the DataFrame randomly\n",
        "\n",
        "Cleaned_train\n"
      ],
      "metadata": {
        "colab": {
          "base_uri": "https://localhost:8080/",
          "height": 423
        },
        "id": "--zg0lOA0LQu",
        "outputId": "a4c7ee87-a5a1-4c8c-c88e-bfe1d9017d58"
      },
      "execution_count": null,
      "outputs": [
        {
          "output_type": "execute_result",
          "data": {
            "text/plain": [
              "                                         cleaned_x_train  y_train\n",
              "84606  انتو طبعا لأنه الدعارة مشهورين بيها ما يحتاج ن...        4\n",
              "48193  اخت مى أنا مؤيد كل كلامك لانه فعلا ده واقع بنع...        0\n",
              "75127  من يومين رحت بار في اسكندرية مع صديق وطلب ستلا...        0\n",
              "81803                          تمام ان شاء الله تو ندورك        2\n",
              "56140                     بالضبط صدقت دين هي وواجب سداده        2\n",
              "...                                                  ...      ...\n",
              "6265           الاثنين شبه الصورة اللي عند دكتور التجميل        0\n",
              "54886  تصوري هو ميليقش عليه الا مرتضى منصور متعمد يجي...        0\n",
              "76820                               ربي يرحمه ويوسع عليه        2\n",
              "860    قينما نربح شي ديال الكوزينة كانديها للواليدة و...        3\n",
              "15795  دارى ع ام شمعتك علشان تتنيل تقييد ، دى الناس ب...        0\n",
              "\n",
              "[88753 rows x 2 columns]"
            ],
            "text/html": [
              "\n",
              "  <div id=\"df-42ab8193-622d-46cb-97e8-acc7b83480ec\" class=\"colab-df-container\">\n",
              "    <div>\n",
              "<style scoped>\n",
              "    .dataframe tbody tr th:only-of-type {\n",
              "        vertical-align: middle;\n",
              "    }\n",
              "\n",
              "    .dataframe tbody tr th {\n",
              "        vertical-align: top;\n",
              "    }\n",
              "\n",
              "    .dataframe thead th {\n",
              "        text-align: right;\n",
              "    }\n",
              "</style>\n",
              "<table border=\"1\" class=\"dataframe\">\n",
              "  <thead>\n",
              "    <tr style=\"text-align: right;\">\n",
              "      <th></th>\n",
              "      <th>cleaned_x_train</th>\n",
              "      <th>y_train</th>\n",
              "    </tr>\n",
              "  </thead>\n",
              "  <tbody>\n",
              "    <tr>\n",
              "      <th>84606</th>\n",
              "      <td>انتو طبعا لأنه الدعارة مشهورين بيها ما يحتاج ن...</td>\n",
              "      <td>4</td>\n",
              "    </tr>\n",
              "    <tr>\n",
              "      <th>48193</th>\n",
              "      <td>اخت مى أنا مؤيد كل كلامك لانه فعلا ده واقع بنع...</td>\n",
              "      <td>0</td>\n",
              "    </tr>\n",
              "    <tr>\n",
              "      <th>75127</th>\n",
              "      <td>من يومين رحت بار في اسكندرية مع صديق وطلب ستلا...</td>\n",
              "      <td>0</td>\n",
              "    </tr>\n",
              "    <tr>\n",
              "      <th>81803</th>\n",
              "      <td>تمام ان شاء الله تو ندورك</td>\n",
              "      <td>2</td>\n",
              "    </tr>\n",
              "    <tr>\n",
              "      <th>56140</th>\n",
              "      <td>بالضبط صدقت دين هي وواجب سداده</td>\n",
              "      <td>2</td>\n",
              "    </tr>\n",
              "    <tr>\n",
              "      <th>...</th>\n",
              "      <td>...</td>\n",
              "      <td>...</td>\n",
              "    </tr>\n",
              "    <tr>\n",
              "      <th>6265</th>\n",
              "      <td>الاثنين شبه الصورة اللي عند دكتور التجميل</td>\n",
              "      <td>0</td>\n",
              "    </tr>\n",
              "    <tr>\n",
              "      <th>54886</th>\n",
              "      <td>تصوري هو ميليقش عليه الا مرتضى منصور متعمد يجي...</td>\n",
              "      <td>0</td>\n",
              "    </tr>\n",
              "    <tr>\n",
              "      <th>76820</th>\n",
              "      <td>ربي يرحمه ويوسع عليه</td>\n",
              "      <td>2</td>\n",
              "    </tr>\n",
              "    <tr>\n",
              "      <th>860</th>\n",
              "      <td>قينما نربح شي ديال الكوزينة كانديها للواليدة و...</td>\n",
              "      <td>3</td>\n",
              "    </tr>\n",
              "    <tr>\n",
              "      <th>15795</th>\n",
              "      <td>دارى ع ام شمعتك علشان تتنيل تقييد ، دى الناس ب...</td>\n",
              "      <td>0</td>\n",
              "    </tr>\n",
              "  </tbody>\n",
              "</table>\n",
              "<p>88753 rows × 2 columns</p>\n",
              "</div>\n",
              "    <div class=\"colab-df-buttons\">\n",
              "\n",
              "  <div class=\"colab-df-container\">\n",
              "    <button class=\"colab-df-convert\" onclick=\"convertToInteractive('df-42ab8193-622d-46cb-97e8-acc7b83480ec')\"\n",
              "            title=\"Convert this dataframe to an interactive table.\"\n",
              "            style=\"display:none;\">\n",
              "\n",
              "  <svg xmlns=\"http://www.w3.org/2000/svg\" height=\"24px\" viewBox=\"0 -960 960 960\">\n",
              "    <path d=\"M120-120v-720h720v720H120Zm60-500h600v-160H180v160Zm220 220h160v-160H400v160Zm0 220h160v-160H400v160ZM180-400h160v-160H180v160Zm440 0h160v-160H620v160ZM180-180h160v-160H180v160Zm440 0h160v-160H620v160Z\"/>\n",
              "  </svg>\n",
              "    </button>\n",
              "\n",
              "  <style>\n",
              "    .colab-df-container {\n",
              "      display:flex;\n",
              "      gap: 12px;\n",
              "    }\n",
              "\n",
              "    .colab-df-convert {\n",
              "      background-color: #E8F0FE;\n",
              "      border: none;\n",
              "      border-radius: 50%;\n",
              "      cursor: pointer;\n",
              "      display: none;\n",
              "      fill: #1967D2;\n",
              "      height: 32px;\n",
              "      padding: 0 0 0 0;\n",
              "      width: 32px;\n",
              "    }\n",
              "\n",
              "    .colab-df-convert:hover {\n",
              "      background-color: #E2EBFA;\n",
              "      box-shadow: 0px 1px 2px rgba(60, 64, 67, 0.3), 0px 1px 3px 1px rgba(60, 64, 67, 0.15);\n",
              "      fill: #174EA6;\n",
              "    }\n",
              "\n",
              "    .colab-df-buttons div {\n",
              "      margin-bottom: 4px;\n",
              "    }\n",
              "\n",
              "    [theme=dark] .colab-df-convert {\n",
              "      background-color: #3B4455;\n",
              "      fill: #D2E3FC;\n",
              "    }\n",
              "\n",
              "    [theme=dark] .colab-df-convert:hover {\n",
              "      background-color: #434B5C;\n",
              "      box-shadow: 0px 1px 3px 1px rgba(0, 0, 0, 0.15);\n",
              "      filter: drop-shadow(0px 1px 2px rgba(0, 0, 0, 0.3));\n",
              "      fill: #FFFFFF;\n",
              "    }\n",
              "  </style>\n",
              "\n",
              "    <script>\n",
              "      const buttonEl =\n",
              "        document.querySelector('#df-42ab8193-622d-46cb-97e8-acc7b83480ec button.colab-df-convert');\n",
              "      buttonEl.style.display =\n",
              "        google.colab.kernel.accessAllowed ? 'block' : 'none';\n",
              "\n",
              "      async function convertToInteractive(key) {\n",
              "        const element = document.querySelector('#df-42ab8193-622d-46cb-97e8-acc7b83480ec');\n",
              "        const dataTable =\n",
              "          await google.colab.kernel.invokeFunction('convertToInteractive',\n",
              "                                                    [key], {});\n",
              "        if (!dataTable) return;\n",
              "\n",
              "        const docLinkHtml = 'Like what you see? Visit the ' +\n",
              "          '<a target=\"_blank\" href=https://colab.research.google.com/notebooks/data_table.ipynb>data table notebook</a>'\n",
              "          + ' to learn more about interactive tables.';\n",
              "        element.innerHTML = '';\n",
              "        dataTable['output_type'] = 'display_data';\n",
              "        await google.colab.output.renderOutput(dataTable, element);\n",
              "        const docLink = document.createElement('div');\n",
              "        docLink.innerHTML = docLinkHtml;\n",
              "        element.appendChild(docLink);\n",
              "      }\n",
              "    </script>\n",
              "  </div>\n",
              "\n",
              "\n",
              "<div id=\"df-0602bae9-30c0-424f-8a5a-a9d70257a986\">\n",
              "  <button class=\"colab-df-quickchart\" onclick=\"quickchart('df-0602bae9-30c0-424f-8a5a-a9d70257a986')\"\n",
              "            title=\"Suggest charts\"\n",
              "            style=\"display:none;\">\n",
              "\n",
              "<svg xmlns=\"http://www.w3.org/2000/svg\" height=\"24px\"viewBox=\"0 0 24 24\"\n",
              "     width=\"24px\">\n",
              "    <g>\n",
              "        <path d=\"M19 3H5c-1.1 0-2 .9-2 2v14c0 1.1.9 2 2 2h14c1.1 0 2-.9 2-2V5c0-1.1-.9-2-2-2zM9 17H7v-7h2v7zm4 0h-2V7h2v10zm4 0h-2v-4h2v4z\"/>\n",
              "    </g>\n",
              "</svg>\n",
              "  </button>\n",
              "\n",
              "<style>\n",
              "  .colab-df-quickchart {\n",
              "      --bg-color: #E8F0FE;\n",
              "      --fill-color: #1967D2;\n",
              "      --hover-bg-color: #E2EBFA;\n",
              "      --hover-fill-color: #174EA6;\n",
              "      --disabled-fill-color: #AAA;\n",
              "      --disabled-bg-color: #DDD;\n",
              "  }\n",
              "\n",
              "  [theme=dark] .colab-df-quickchart {\n",
              "      --bg-color: #3B4455;\n",
              "      --fill-color: #D2E3FC;\n",
              "      --hover-bg-color: #434B5C;\n",
              "      --hover-fill-color: #FFFFFF;\n",
              "      --disabled-bg-color: #3B4455;\n",
              "      --disabled-fill-color: #666;\n",
              "  }\n",
              "\n",
              "  .colab-df-quickchart {\n",
              "    background-color: var(--bg-color);\n",
              "    border: none;\n",
              "    border-radius: 50%;\n",
              "    cursor: pointer;\n",
              "    display: none;\n",
              "    fill: var(--fill-color);\n",
              "    height: 32px;\n",
              "    padding: 0;\n",
              "    width: 32px;\n",
              "  }\n",
              "\n",
              "  .colab-df-quickchart:hover {\n",
              "    background-color: var(--hover-bg-color);\n",
              "    box-shadow: 0 1px 2px rgba(60, 64, 67, 0.3), 0 1px 3px 1px rgba(60, 64, 67, 0.15);\n",
              "    fill: var(--button-hover-fill-color);\n",
              "  }\n",
              "\n",
              "  .colab-df-quickchart-complete:disabled,\n",
              "  .colab-df-quickchart-complete:disabled:hover {\n",
              "    background-color: var(--disabled-bg-color);\n",
              "    fill: var(--disabled-fill-color);\n",
              "    box-shadow: none;\n",
              "  }\n",
              "\n",
              "  .colab-df-spinner {\n",
              "    border: 2px solid var(--fill-color);\n",
              "    border-color: transparent;\n",
              "    border-bottom-color: var(--fill-color);\n",
              "    animation:\n",
              "      spin 1s steps(1) infinite;\n",
              "  }\n",
              "\n",
              "  @keyframes spin {\n",
              "    0% {\n",
              "      border-color: transparent;\n",
              "      border-bottom-color: var(--fill-color);\n",
              "      border-left-color: var(--fill-color);\n",
              "    }\n",
              "    20% {\n",
              "      border-color: transparent;\n",
              "      border-left-color: var(--fill-color);\n",
              "      border-top-color: var(--fill-color);\n",
              "    }\n",
              "    30% {\n",
              "      border-color: transparent;\n",
              "      border-left-color: var(--fill-color);\n",
              "      border-top-color: var(--fill-color);\n",
              "      border-right-color: var(--fill-color);\n",
              "    }\n",
              "    40% {\n",
              "      border-color: transparent;\n",
              "      border-right-color: var(--fill-color);\n",
              "      border-top-color: var(--fill-color);\n",
              "    }\n",
              "    60% {\n",
              "      border-color: transparent;\n",
              "      border-right-color: var(--fill-color);\n",
              "    }\n",
              "    80% {\n",
              "      border-color: transparent;\n",
              "      border-right-color: var(--fill-color);\n",
              "      border-bottom-color: var(--fill-color);\n",
              "    }\n",
              "    90% {\n",
              "      border-color: transparent;\n",
              "      border-bottom-color: var(--fill-color);\n",
              "    }\n",
              "  }\n",
              "</style>\n",
              "\n",
              "  <script>\n",
              "    async function quickchart(key) {\n",
              "      const quickchartButtonEl =\n",
              "        document.querySelector('#' + key + ' button');\n",
              "      quickchartButtonEl.disabled = true;  // To prevent multiple clicks.\n",
              "      quickchartButtonEl.classList.add('colab-df-spinner');\n",
              "      try {\n",
              "        const charts = await google.colab.kernel.invokeFunction(\n",
              "            'suggestCharts', [key], {});\n",
              "      } catch (error) {\n",
              "        console.error('Error during call to suggestCharts:', error);\n",
              "      }\n",
              "      quickchartButtonEl.classList.remove('colab-df-spinner');\n",
              "      quickchartButtonEl.classList.add('colab-df-quickchart-complete');\n",
              "    }\n",
              "    (() => {\n",
              "      let quickchartButtonEl =\n",
              "        document.querySelector('#df-0602bae9-30c0-424f-8a5a-a9d70257a986 button');\n",
              "      quickchartButtonEl.style.display =\n",
              "        google.colab.kernel.accessAllowed ? 'block' : 'none';\n",
              "    })();\n",
              "  </script>\n",
              "</div>\n",
              "\n",
              "  <div id=\"id_2331560a-31b7-421a-ab4c-ab7ba6a87068\">\n",
              "    <style>\n",
              "      .colab-df-generate {\n",
              "        background-color: #E8F0FE;\n",
              "        border: none;\n",
              "        border-radius: 50%;\n",
              "        cursor: pointer;\n",
              "        display: none;\n",
              "        fill: #1967D2;\n",
              "        height: 32px;\n",
              "        padding: 0 0 0 0;\n",
              "        width: 32px;\n",
              "      }\n",
              "\n",
              "      .colab-df-generate:hover {\n",
              "        background-color: #E2EBFA;\n",
              "        box-shadow: 0px 1px 2px rgba(60, 64, 67, 0.3), 0px 1px 3px 1px rgba(60, 64, 67, 0.15);\n",
              "        fill: #174EA6;\n",
              "      }\n",
              "\n",
              "      [theme=dark] .colab-df-generate {\n",
              "        background-color: #3B4455;\n",
              "        fill: #D2E3FC;\n",
              "      }\n",
              "\n",
              "      [theme=dark] .colab-df-generate:hover {\n",
              "        background-color: #434B5C;\n",
              "        box-shadow: 0px 1px 3px 1px rgba(0, 0, 0, 0.15);\n",
              "        filter: drop-shadow(0px 1px 2px rgba(0, 0, 0, 0.3));\n",
              "        fill: #FFFFFF;\n",
              "      }\n",
              "    </style>\n",
              "    <button class=\"colab-df-generate\" onclick=\"generateWithVariable('Cleaned_train')\"\n",
              "            title=\"Generate code using this dataframe.\"\n",
              "            style=\"display:none;\">\n",
              "\n",
              "  <svg xmlns=\"http://www.w3.org/2000/svg\" height=\"24px\"viewBox=\"0 0 24 24\"\n",
              "       width=\"24px\">\n",
              "    <path d=\"M7,19H8.4L18.45,9,17,7.55,7,17.6ZM5,21V16.75L18.45,3.32a2,2,0,0,1,2.83,0l1.4,1.43a1.91,1.91,0,0,1,.58,1.4,1.91,1.91,0,0,1-.58,1.4L9.25,21ZM18.45,9,17,7.55Zm-12,3A5.31,5.31,0,0,0,4.9,8.1,5.31,5.31,0,0,0,1,6.5,5.31,5.31,0,0,0,4.9,4.9,5.31,5.31,0,0,0,6.5,1,5.31,5.31,0,0,0,8.1,4.9,5.31,5.31,0,0,0,12,6.5,5.46,5.46,0,0,0,6.5,12Z\"/>\n",
              "  </svg>\n",
              "    </button>\n",
              "    <script>\n",
              "      (() => {\n",
              "      const buttonEl =\n",
              "        document.querySelector('#id_2331560a-31b7-421a-ab4c-ab7ba6a87068 button.colab-df-generate');\n",
              "      buttonEl.style.display =\n",
              "        google.colab.kernel.accessAllowed ? 'block' : 'none';\n",
              "\n",
              "      buttonEl.onclick = () => {\n",
              "        google.colab.notebook.generateWithVariable('Cleaned_train');\n",
              "      }\n",
              "      })();\n",
              "    </script>\n",
              "  </div>\n",
              "\n",
              "    </div>\n",
              "  </div>\n"
            ],
            "application/vnd.google.colaboratory.intrinsic+json": {
              "type": "dataframe",
              "variable_name": "Cleaned_train",
              "summary": "{\n  \"name\": \"Cleaned_train\",\n  \"rows\": 88753,\n  \"fields\": [\n    {\n      \"column\": \"cleaned_x_train\",\n      \"properties\": {\n        \"dtype\": \"string\",\n        \"num_unique_values\": 88666,\n        \"samples\": [\n          \"\\u062d\\u0628\\u064a\\u0628 \\u0627\\u0644\\u0645\\u0644\\u0627\\u0643\\u0645 \\u0633\\u0643\\u0627\\u0646 \\u0628\\u0643\\u0644 \\u0639\\u0627\\u0644\\u0627\\u0646\\u0633\\u062a\\u0627 \\u062a\\u062d\\u0633\\u0647 \\u0641\\u0627\\u0636\\u064a \\u0628\\u0643\\u0644\",\n          \"\\u0647\\u0648 \\u0644\\u0648 \\u0643\\u0644 \\u0634\\u0648\\u064a\\u0629 \\u064a\\u064a\\u062c\\u064a \\u0631\\u0633\\u0627\\u0644\\u0629 \\u0639\\u0644\\u0649 \\u0627\\u0644\\u0645\\u0648\\u0628\\u0627\\u064a\\u0644 \\u0628\\u0631\\u0642\\u0645 \\u062a\\u0627\\u0643\\u064a\\u062f \\u0627\\u0644\\u0645\\u0627\\u0633\\u064a\\u0646\\u062c\\u0631 \\u064a\\u0628\\u0642\\u064a \\u062f\\u0647 \\u0645\\u0639\\u0646\\u0627\\u0647 \\u0627\\u064a\\u0647 \\u062d\\u062f \\u064a\\u0639\\u0631\\u0641 \\u062f\\u064a \\u0645\\u062d\\u0627\\u0648\\u0644\\u0629 \\u0633\\u0631\\u0642\\u0629 \\u062d\\u0633\\u0627\\u0628 \\u064a\\u0639\\u0646\\u064a\\u061f\\u061f\",\n          \"\\u0627\\u062d\\u0646\\u0627 \\u0644\\u0647\\u0645 \\u0628\\u0627\\u0644\\u0645\\u0631\\u0635\\u0627\\u062f \\u0641\\u0639\\u0644\\u0627 \\u0644\\u0627 \\u0642\\u0648\\u0644\\u0627 \\u0648 \\u0625\\u0644\\u0644\\u0649 \\u0639\\u0627\\u0648\\u0632 \\u064a\\u062c\\u0631\\u0628 \\u064a\\u0642\\u0631\\u0628\"\n        ],\n        \"semantic_type\": \"\",\n        \"description\": \"\"\n      }\n    },\n    {\n      \"column\": \"y_train\",\n      \"properties\": {\n        \"dtype\": \"number\",\n        \"std\": 1,\n        \"min\": 0,\n        \"max\": 4,\n        \"num_unique_values\": 5,\n        \"samples\": [\n          0,\n          1,\n          2\n        ],\n        \"semantic_type\": \"\",\n        \"description\": \"\"\n      }\n    }\n  ]\n}"
            }
          },
          "metadata": {},
          "execution_count": 5
        }
      ]
    },
    {
      "cell_type": "code",
      "source": [
        "Cleaned_train.to_csv(\"Cleaned_train.csv\",index=False)"
      ],
      "metadata": {
        "id": "52Y38ce810VK"
      },
      "execution_count": null,
      "outputs": []
    },
    {
      "cell_type": "code",
      "source": [
        "# Install required packages if not already installed\n",
        "!pip install xgboost scikit-learn"
      ],
      "metadata": {
        "colab": {
          "base_uri": "https://localhost:8080/"
        },
        "id": "L3ybjDQb3CS1",
        "outputId": "bfeba05c-1cb1-423e-c076-7bfe4ee097b3"
      },
      "execution_count": null,
      "outputs": [
        {
          "output_type": "stream",
          "name": "stdout",
          "text": [
            "Requirement already satisfied: xgboost in /usr/local/lib/python3.10/dist-packages (2.0.3)\n",
            "Requirement already satisfied: scikit-learn in /usr/local/lib/python3.10/dist-packages (1.2.2)\n",
            "Requirement already satisfied: numpy in /usr/local/lib/python3.10/dist-packages (from xgboost) (1.25.2)\n",
            "Requirement already satisfied: scipy in /usr/local/lib/python3.10/dist-packages (from xgboost) (1.11.4)\n",
            "Requirement already satisfied: joblib>=1.1.1 in /usr/local/lib/python3.10/dist-packages (from scikit-learn) (1.4.2)\n",
            "Requirement already satisfied: threadpoolctl>=2.0.0 in /usr/local/lib/python3.10/dist-packages (from scikit-learn) (3.5.0)\n"
          ]
        }
      ]
    },
    {
      "cell_type": "code",
      "source": [
        "import xgboost as xgb\n"
      ],
      "metadata": {
        "id": "lnKIRNIZ2_nh"
      },
      "execution_count": null,
      "outputs": []
    },
    {
      "cell_type": "code",
      "source": [
        "def text_fit_predict_with_imbalanced(X_train, X_test, y_train, y_test, model_model, re_sample):\n",
        "\n",
        "  print('features: {}'.format(X_train.shape[1]))\n",
        "\n",
        "  os =  re_sample  # type of resample (RandomOverSampler or SMOTE)\n",
        "  X_res, y_res = os.fit_resample(X_train, y_train)\n",
        "  print(f'resample: {X_res.shape, y_res.shape}')\n",
        "\n",
        "  model=model_model.fit(X_res, y_res)\n",
        "  train_acc = model.score(X_train, y_train)\n",
        "  test_acc = model.score(X_test, y_test)\n",
        "  print(f'Train acc: {train_acc}')\n",
        "  print(f'Test acc: {test_acc}')\n",
        "\n",
        "  return model"
      ],
      "metadata": {
        "id": "tAZ9LGGySl0t"
      },
      "execution_count": null,
      "outputs": []
    },
    {
      "cell_type": "code",
      "source": [
        "# Create the pipeline with CountVectorizer and XGBoost classifier\n",
        "vec = CountVectorizer(max_features=5000, ngram_range=(1, 2))\n",
        "clf = xgb.XGBClassifier(\n",
        "    objective='multi:softmax',\n",
        "    booster='gbtree',\n",
        "    learning_rate=0.1,\n",
        "    n_estimators=1000,\n",
        "    max_depth=6,\n",
        "    min_child_weight=1,\n",
        "    gamma=0,\n",
        "    subsample=0.8,\n",
        "    colsample_bytree=0.8,\n",
        "    scale_pos_weight=1,\n",
        "    seed=27\n",
        ")\n",
        "pipe = make_pipeline(vec, clf)\n",
        "\n",
        "# Fit the model\n",
        "pipe.fit(Cleaned_train.cleaned_x_train, Cleaned_train.y_train)\n"
      ],
      "metadata": {
        "colab": {
          "base_uri": "https://localhost:8080/",
          "height": 195
        },
        "id": "oAsKfc6dFrcg",
        "outputId": "d3a7af7a-fab6-470c-8459-229e9b67dad9"
      },
      "execution_count": null,
      "outputs": [
        {
          "output_type": "stream",
          "name": "stderr",
          "text": [
            "/usr/local/lib/python3.10/dist-packages/xgboost/core.py:160: UserWarning: [20:10:01] WARNING: /workspace/src/learner.cc:742: \n",
            "Parameters: { \"scale_pos_weight\" } are not used.\n",
            "\n",
            "  warnings.warn(smsg, UserWarning)\n"
          ]
        },
        {
          "output_type": "execute_result",
          "data": {
            "text/plain": [
              "Pipeline(steps=[('countvectorizer',\n",
              "                 CountVectorizer(max_features=5000, ngram_range=(1, 2))),\n",
              "                ('xgbclassifier',\n",
              "                 XGBClassifier(base_score=None, booster='gbtree',\n",
              "                               callbacks=None, colsample_bylevel=None,\n",
              "                               colsample_bynode=None, colsample_bytree=0.8,\n",
              "                               device=None, early_stopping_rounds=None,\n",
              "                               enable_categorical=False, eval_metric=None,\n",
              "                               feature_types=None, gamma=0, grow_policy=None,\n",
              "                               importance_type=None,\n",
              "                               interaction_constraints=None, learning_rate=0.1,\n",
              "                               max_bin=None, max_cat_threshold=None,\n",
              "                               max_cat_to_onehot=None, max_delta_step=None,\n",
              "                               max_depth=6, max_leaves=None, min_child_weight=1,\n",
              "                               missing=nan, monotone_constraints=None,\n",
              "                               multi_strategy=None, n_estimators=1000,\n",
              "                               n_jobs=None, num_parallel_tree=None,\n",
              "                               objective='multi:softmax', ...))])"
            ],
            "text/html": [
              "<style>#sk-container-id-2 {color: black;background-color: white;}#sk-container-id-2 pre{padding: 0;}#sk-container-id-2 div.sk-toggleable {background-color: white;}#sk-container-id-2 label.sk-toggleable__label {cursor: pointer;display: block;width: 100%;margin-bottom: 0;padding: 0.3em;box-sizing: border-box;text-align: center;}#sk-container-id-2 label.sk-toggleable__label-arrow:before {content: \"▸\";float: left;margin-right: 0.25em;color: #696969;}#sk-container-id-2 label.sk-toggleable__label-arrow:hover:before {color: black;}#sk-container-id-2 div.sk-estimator:hover label.sk-toggleable__label-arrow:before {color: black;}#sk-container-id-2 div.sk-toggleable__content {max-height: 0;max-width: 0;overflow: hidden;text-align: left;background-color: #f0f8ff;}#sk-container-id-2 div.sk-toggleable__content pre {margin: 0.2em;color: black;border-radius: 0.25em;background-color: #f0f8ff;}#sk-container-id-2 input.sk-toggleable__control:checked~div.sk-toggleable__content {max-height: 200px;max-width: 100%;overflow: auto;}#sk-container-id-2 input.sk-toggleable__control:checked~label.sk-toggleable__label-arrow:before {content: \"▾\";}#sk-container-id-2 div.sk-estimator input.sk-toggleable__control:checked~label.sk-toggleable__label {background-color: #d4ebff;}#sk-container-id-2 div.sk-label input.sk-toggleable__control:checked~label.sk-toggleable__label {background-color: #d4ebff;}#sk-container-id-2 input.sk-hidden--visually {border: 0;clip: rect(1px 1px 1px 1px);clip: rect(1px, 1px, 1px, 1px);height: 1px;margin: -1px;overflow: hidden;padding: 0;position: absolute;width: 1px;}#sk-container-id-2 div.sk-estimator {font-family: monospace;background-color: #f0f8ff;border: 1px dotted black;border-radius: 0.25em;box-sizing: border-box;margin-bottom: 0.5em;}#sk-container-id-2 div.sk-estimator:hover {background-color: #d4ebff;}#sk-container-id-2 div.sk-parallel-item::after {content: \"\";width: 100%;border-bottom: 1px solid gray;flex-grow: 1;}#sk-container-id-2 div.sk-label:hover label.sk-toggleable__label {background-color: #d4ebff;}#sk-container-id-2 div.sk-serial::before {content: \"\";position: absolute;border-left: 1px solid gray;box-sizing: border-box;top: 0;bottom: 0;left: 50%;z-index: 0;}#sk-container-id-2 div.sk-serial {display: flex;flex-direction: column;align-items: center;background-color: white;padding-right: 0.2em;padding-left: 0.2em;position: relative;}#sk-container-id-2 div.sk-item {position: relative;z-index: 1;}#sk-container-id-2 div.sk-parallel {display: flex;align-items: stretch;justify-content: center;background-color: white;position: relative;}#sk-container-id-2 div.sk-item::before, #sk-container-id-2 div.sk-parallel-item::before {content: \"\";position: absolute;border-left: 1px solid gray;box-sizing: border-box;top: 0;bottom: 0;left: 50%;z-index: -1;}#sk-container-id-2 div.sk-parallel-item {display: flex;flex-direction: column;z-index: 1;position: relative;background-color: white;}#sk-container-id-2 div.sk-parallel-item:first-child::after {align-self: flex-end;width: 50%;}#sk-container-id-2 div.sk-parallel-item:last-child::after {align-self: flex-start;width: 50%;}#sk-container-id-2 div.sk-parallel-item:only-child::after {width: 0;}#sk-container-id-2 div.sk-dashed-wrapped {border: 1px dashed gray;margin: 0 0.4em 0.5em 0.4em;box-sizing: border-box;padding-bottom: 0.4em;background-color: white;}#sk-container-id-2 div.sk-label label {font-family: monospace;font-weight: bold;display: inline-block;line-height: 1.2em;}#sk-container-id-2 div.sk-label-container {text-align: center;}#sk-container-id-2 div.sk-container {/* jupyter's `normalize.less` sets `[hidden] { display: none; }` but bootstrap.min.css set `[hidden] { display: none !important; }` so we also need the `!important` here to be able to override the default hidden behavior on the sphinx rendered scikit-learn.org. See: https://github.com/scikit-learn/scikit-learn/issues/21755 */display: inline-block !important;position: relative;}#sk-container-id-2 div.sk-text-repr-fallback {display: none;}</style><div id=\"sk-container-id-2\" class=\"sk-top-container\"><div class=\"sk-text-repr-fallback\"><pre>Pipeline(steps=[(&#x27;countvectorizer&#x27;,\n",
              "                 CountVectorizer(max_features=5000, ngram_range=(1, 2))),\n",
              "                (&#x27;xgbclassifier&#x27;,\n",
              "                 XGBClassifier(base_score=None, booster=&#x27;gbtree&#x27;,\n",
              "                               callbacks=None, colsample_bylevel=None,\n",
              "                               colsample_bynode=None, colsample_bytree=0.8,\n",
              "                               device=None, early_stopping_rounds=None,\n",
              "                               enable_categorical=False, eval_metric=None,\n",
              "                               feature_types=None, gamma=0, grow_policy=None,\n",
              "                               importance_type=None,\n",
              "                               interaction_constraints=None, learning_rate=0.1,\n",
              "                               max_bin=None, max_cat_threshold=None,\n",
              "                               max_cat_to_onehot=None, max_delta_step=None,\n",
              "                               max_depth=6, max_leaves=None, min_child_weight=1,\n",
              "                               missing=nan, monotone_constraints=None,\n",
              "                               multi_strategy=None, n_estimators=1000,\n",
              "                               n_jobs=None, num_parallel_tree=None,\n",
              "                               objective=&#x27;multi:softmax&#x27;, ...))])</pre><b>In a Jupyter environment, please rerun this cell to show the HTML representation or trust the notebook. <br />On GitHub, the HTML representation is unable to render, please try loading this page with nbviewer.org.</b></div><div class=\"sk-container\" hidden><div class=\"sk-item sk-dashed-wrapped\"><div class=\"sk-label-container\"><div class=\"sk-label sk-toggleable\"><input class=\"sk-toggleable__control sk-hidden--visually\" id=\"sk-estimator-id-4\" type=\"checkbox\" ><label for=\"sk-estimator-id-4\" class=\"sk-toggleable__label sk-toggleable__label-arrow\">Pipeline</label><div class=\"sk-toggleable__content\"><pre>Pipeline(steps=[(&#x27;countvectorizer&#x27;,\n",
              "                 CountVectorizer(max_features=5000, ngram_range=(1, 2))),\n",
              "                (&#x27;xgbclassifier&#x27;,\n",
              "                 XGBClassifier(base_score=None, booster=&#x27;gbtree&#x27;,\n",
              "                               callbacks=None, colsample_bylevel=None,\n",
              "                               colsample_bynode=None, colsample_bytree=0.8,\n",
              "                               device=None, early_stopping_rounds=None,\n",
              "                               enable_categorical=False, eval_metric=None,\n",
              "                               feature_types=None, gamma=0, grow_policy=None,\n",
              "                               importance_type=None,\n",
              "                               interaction_constraints=None, learning_rate=0.1,\n",
              "                               max_bin=None, max_cat_threshold=None,\n",
              "                               max_cat_to_onehot=None, max_delta_step=None,\n",
              "                               max_depth=6, max_leaves=None, min_child_weight=1,\n",
              "                               missing=nan, monotone_constraints=None,\n",
              "                               multi_strategy=None, n_estimators=1000,\n",
              "                               n_jobs=None, num_parallel_tree=None,\n",
              "                               objective=&#x27;multi:softmax&#x27;, ...))])</pre></div></div></div><div class=\"sk-serial\"><div class=\"sk-item\"><div class=\"sk-estimator sk-toggleable\"><input class=\"sk-toggleable__control sk-hidden--visually\" id=\"sk-estimator-id-5\" type=\"checkbox\" ><label for=\"sk-estimator-id-5\" class=\"sk-toggleable__label sk-toggleable__label-arrow\">CountVectorizer</label><div class=\"sk-toggleable__content\"><pre>CountVectorizer(max_features=5000, ngram_range=(1, 2))</pre></div></div></div><div class=\"sk-item\"><div class=\"sk-estimator sk-toggleable\"><input class=\"sk-toggleable__control sk-hidden--visually\" id=\"sk-estimator-id-6\" type=\"checkbox\" ><label for=\"sk-estimator-id-6\" class=\"sk-toggleable__label sk-toggleable__label-arrow\">XGBClassifier</label><div class=\"sk-toggleable__content\"><pre>XGBClassifier(base_score=None, booster=&#x27;gbtree&#x27;, callbacks=None,\n",
              "              colsample_bylevel=None, colsample_bynode=None,\n",
              "              colsample_bytree=0.8, device=None, early_stopping_rounds=None,\n",
              "              enable_categorical=False, eval_metric=None, feature_types=None,\n",
              "              gamma=0, grow_policy=None, importance_type=None,\n",
              "              interaction_constraints=None, learning_rate=0.1, max_bin=None,\n",
              "              max_cat_threshold=None, max_cat_to_onehot=None,\n",
              "              max_delta_step=None, max_depth=6, max_leaves=None,\n",
              "              min_child_weight=1, missing=nan, monotone_constraints=None,\n",
              "              multi_strategy=None, n_estimators=1000, n_jobs=None,\n",
              "              num_parallel_tree=None, objective=&#x27;multi:softmax&#x27;, ...)</pre></div></div></div></div></div></div></div>"
            ]
          },
          "metadata": {},
          "execution_count": 28
        }
      ]
    },
    {
      "cell_type": "code",
      "source": [
        "# Validate the model\n",
        "print_report(pipe, cleaned_x_valid.cleaned_x_valid, cleaned_x_valid.y_valid)\n",
        "\n",
        "# Test the model\n",
        "print_report(pipe, cleaned_x_test.cleaned_x_test, cleaned_x_test.y_test)"
      ],
      "metadata": {
        "colab": {
          "base_uri": "https://localhost:8080/"
        },
        "id": "bT3L_d0iF1LR",
        "outputId": "1c3e4c75-cb66-4770-cdbf-f4ea44ac4abd"
      },
      "execution_count": null,
      "outputs": [
        {
          "output_type": "stream",
          "name": "stdout",
          "text": [
            "              precision    recall  f1-score   support\n",
            "\n",
            "           0       0.74      0.91      0.82     11480\n",
            "           1       0.84      0.74      0.79      5508\n",
            "           2       0.73      0.74      0.73      7350\n",
            "           3       0.87      0.55      0.68      2285\n",
            "           4       0.81      0.49      0.61      2916\n",
            "\n",
            "    accuracy                           0.77     29539\n",
            "   macro avg       0.80      0.69      0.73     29539\n",
            "weighted avg       0.77      0.77      0.76     29539\n",
            "\n",
            "macro f1_score: 0.726\n",
            "              precision    recall  f1-score   support\n",
            "\n",
            "           0       0.75      0.91      0.82     11468\n",
            "           1       0.84      0.74      0.79      5636\n",
            "           2       0.72      0.72      0.72      7266\n",
            "           3       0.85      0.56      0.68      2330\n",
            "           4       0.81      0.52      0.63      2833\n",
            "\n",
            "    accuracy                           0.77     29533\n",
            "   macro avg       0.79      0.69      0.73     29533\n",
            "weighted avg       0.77      0.77      0.76     29533\n",
            "\n",
            "macro f1_score: 0.728\n"
          ]
        }
      ]
    },
    {
      "cell_type": "code",
      "source": [],
      "metadata": {
        "id": "wows0x36euyH"
      },
      "execution_count": null,
      "outputs": []
    },
    {
      "cell_type": "code",
      "source": [],
      "metadata": {
        "id": "t_bGQ80Reuvq"
      },
      "execution_count": null,
      "outputs": []
    },
    {
      "cell_type": "code",
      "source": [],
      "metadata": {
        "id": "SFcX8Ws-eutD"
      },
      "execution_count": null,
      "outputs": []
    },
    {
      "cell_type": "markdown",
      "source": [
        "------------"
      ],
      "metadata": {
        "id": "yRXPUHt4ZFkl"
      }
    },
    {
      "cell_type": "markdown",
      "metadata": {
        "id": "TgcZkxepPvkt"
      },
      "source": [
        "# Deep learning models"
      ]
    },
    {
      "cell_type": "code",
      "source": [
        "x_train_padded = pd.read_csv('/content/x_train_padded.csv')\n",
        "x_test_padded = pd.read_csv('/content/x_test_padded.csv')\n",
        "x_valid_padded = pd.read_csv('/content/x_valid_padded.csv')"
      ],
      "metadata": {
        "id": "XsFOHasxA5Cf"
      },
      "execution_count": null,
      "outputs": []
    },
    {
      "cell_type": "code",
      "source": [
        "x_train_padded"
      ],
      "metadata": {
        "colab": {
          "base_uri": "https://localhost:8080/",
          "height": 444
        },
        "id": "P02JZoFsC_f3",
        "outputId": "d74819cd-1f0c-4930-e70a-9e57f5736d4c"
      },
      "execution_count": null,
      "outputs": [
        {
          "output_type": "execute_result",
          "data": {
            "text/plain": [
              "              0        1         2        3         4        5         6  \\\n",
              "0          53.0    598.0      40.0   4565.0       1.0   9495.0    7404.0   \n",
              "1         564.0    644.0   26071.0      6.0    1895.0   3113.0   12139.0   \n",
              "2        5775.0    413.0    5775.0   5775.0    5775.0   5775.0    5775.0   \n",
              "3          99.0      3.0   10234.0   8318.0    1390.0      2.0     804.0   \n",
              "4          10.0   1694.0    5513.0     29.0    2140.0    456.0       1.0   \n",
              "...         ...      ...       ...      ...       ...      ...       ...   \n",
              "88625       1.0    814.0    5546.0      6.0  187673.0  34096.0  187674.0   \n",
              "88626    1325.0  36990.0   16060.0  41664.0   32033.0      7.0    3412.0   \n",
              "88627     132.0    519.0   66358.0    160.0       0.0      0.0       0.0   \n",
              "88628     108.0    131.0     566.0  34933.0       0.0      0.0       0.0   \n",
              "88629  187675.0   2646.0  187676.0    196.0    1046.0   1299.0   26354.0   \n",
              "\n",
              "             7        8        9  ...   41   42   43   44   45   46   47   48  \\\n",
              "0        111.0  43667.0      3.0  ...  0.0  0.0  0.0  0.0  0.0  0.0  0.0  0.0   \n",
              "1       8884.0   1058.0    125.0  ...  0.0  0.0  0.0  0.0  0.0  0.0  0.0  0.0   \n",
              "2       5775.0    101.0   5775.0  ...  0.0  0.0  0.0  0.0  0.0  0.0  0.0  0.0   \n",
              "3      68139.0   1592.0     66.0  ...  0.0  0.0  0.0  0.0  0.0  0.0  0.0  0.0   \n",
              "4         63.0      3.0  68140.0  ...  0.0  0.0  0.0  0.0  0.0  0.0  0.0  0.0   \n",
              "...        ...      ...      ...  ...  ...  ...  ...  ...  ...  ...  ...  ...   \n",
              "88625      0.0      0.0      0.0  ...  0.0  0.0  0.0  0.0  0.0  0.0  0.0  0.0   \n",
              "88626      0.0      0.0      0.0  ...  0.0  0.0  0.0  0.0  0.0  0.0  0.0  0.0   \n",
              "88627      0.0      0.0      0.0  ...  0.0  0.0  0.0  0.0  0.0  0.0  0.0  0.0   \n",
              "88628      0.0      0.0      0.0  ...  0.0  0.0  0.0  0.0  0.0  0.0  0.0  0.0   \n",
              "88629   6240.0      9.0  19666.0  ...  0.0  0.0  0.0  0.0  0.0  0.0  0.0  0.0   \n",
              "\n",
              "        49  y_train  \n",
              "0      0.0        1  \n",
              "1      0.0        1  \n",
              "2      0.0        0  \n",
              "3      0.0        2  \n",
              "4      0.0        1  \n",
              "...    ...      ...  \n",
              "88625  0.0        2  \n",
              "88626  0.0        1  \n",
              "88627  0.0        2  \n",
              "88628  0.0        2  \n",
              "88629  0.0        3  \n",
              "\n",
              "[88630 rows x 51 columns]"
            ],
            "text/html": [
              "\n",
              "  <div id=\"df-2f51112a-a07e-4356-99db-0ef65e688f40\" class=\"colab-df-container\">\n",
              "    <div>\n",
              "<style scoped>\n",
              "    .dataframe tbody tr th:only-of-type {\n",
              "        vertical-align: middle;\n",
              "    }\n",
              "\n",
              "    .dataframe tbody tr th {\n",
              "        vertical-align: top;\n",
              "    }\n",
              "\n",
              "    .dataframe thead th {\n",
              "        text-align: right;\n",
              "    }\n",
              "</style>\n",
              "<table border=\"1\" class=\"dataframe\">\n",
              "  <thead>\n",
              "    <tr style=\"text-align: right;\">\n",
              "      <th></th>\n",
              "      <th>0</th>\n",
              "      <th>1</th>\n",
              "      <th>2</th>\n",
              "      <th>3</th>\n",
              "      <th>4</th>\n",
              "      <th>5</th>\n",
              "      <th>6</th>\n",
              "      <th>7</th>\n",
              "      <th>8</th>\n",
              "      <th>9</th>\n",
              "      <th>...</th>\n",
              "      <th>41</th>\n",
              "      <th>42</th>\n",
              "      <th>43</th>\n",
              "      <th>44</th>\n",
              "      <th>45</th>\n",
              "      <th>46</th>\n",
              "      <th>47</th>\n",
              "      <th>48</th>\n",
              "      <th>49</th>\n",
              "      <th>y_train</th>\n",
              "    </tr>\n",
              "  </thead>\n",
              "  <tbody>\n",
              "    <tr>\n",
              "      <th>0</th>\n",
              "      <td>53.0</td>\n",
              "      <td>598.0</td>\n",
              "      <td>40.0</td>\n",
              "      <td>4565.0</td>\n",
              "      <td>1.0</td>\n",
              "      <td>9495.0</td>\n",
              "      <td>7404.0</td>\n",
              "      <td>111.0</td>\n",
              "      <td>43667.0</td>\n",
              "      <td>3.0</td>\n",
              "      <td>...</td>\n",
              "      <td>0.0</td>\n",
              "      <td>0.0</td>\n",
              "      <td>0.0</td>\n",
              "      <td>0.0</td>\n",
              "      <td>0.0</td>\n",
              "      <td>0.0</td>\n",
              "      <td>0.0</td>\n",
              "      <td>0.0</td>\n",
              "      <td>0.0</td>\n",
              "      <td>1</td>\n",
              "    </tr>\n",
              "    <tr>\n",
              "      <th>1</th>\n",
              "      <td>564.0</td>\n",
              "      <td>644.0</td>\n",
              "      <td>26071.0</td>\n",
              "      <td>6.0</td>\n",
              "      <td>1895.0</td>\n",
              "      <td>3113.0</td>\n",
              "      <td>12139.0</td>\n",
              "      <td>8884.0</td>\n",
              "      <td>1058.0</td>\n",
              "      <td>125.0</td>\n",
              "      <td>...</td>\n",
              "      <td>0.0</td>\n",
              "      <td>0.0</td>\n",
              "      <td>0.0</td>\n",
              "      <td>0.0</td>\n",
              "      <td>0.0</td>\n",
              "      <td>0.0</td>\n",
              "      <td>0.0</td>\n",
              "      <td>0.0</td>\n",
              "      <td>0.0</td>\n",
              "      <td>1</td>\n",
              "    </tr>\n",
              "    <tr>\n",
              "      <th>2</th>\n",
              "      <td>5775.0</td>\n",
              "      <td>413.0</td>\n",
              "      <td>5775.0</td>\n",
              "      <td>5775.0</td>\n",
              "      <td>5775.0</td>\n",
              "      <td>5775.0</td>\n",
              "      <td>5775.0</td>\n",
              "      <td>5775.0</td>\n",
              "      <td>101.0</td>\n",
              "      <td>5775.0</td>\n",
              "      <td>...</td>\n",
              "      <td>0.0</td>\n",
              "      <td>0.0</td>\n",
              "      <td>0.0</td>\n",
              "      <td>0.0</td>\n",
              "      <td>0.0</td>\n",
              "      <td>0.0</td>\n",
              "      <td>0.0</td>\n",
              "      <td>0.0</td>\n",
              "      <td>0.0</td>\n",
              "      <td>0</td>\n",
              "    </tr>\n",
              "    <tr>\n",
              "      <th>3</th>\n",
              "      <td>99.0</td>\n",
              "      <td>3.0</td>\n",
              "      <td>10234.0</td>\n",
              "      <td>8318.0</td>\n",
              "      <td>1390.0</td>\n",
              "      <td>2.0</td>\n",
              "      <td>804.0</td>\n",
              "      <td>68139.0</td>\n",
              "      <td>1592.0</td>\n",
              "      <td>66.0</td>\n",
              "      <td>...</td>\n",
              "      <td>0.0</td>\n",
              "      <td>0.0</td>\n",
              "      <td>0.0</td>\n",
              "      <td>0.0</td>\n",
              "      <td>0.0</td>\n",
              "      <td>0.0</td>\n",
              "      <td>0.0</td>\n",
              "      <td>0.0</td>\n",
              "      <td>0.0</td>\n",
              "      <td>2</td>\n",
              "    </tr>\n",
              "    <tr>\n",
              "      <th>4</th>\n",
              "      <td>10.0</td>\n",
              "      <td>1694.0</td>\n",
              "      <td>5513.0</td>\n",
              "      <td>29.0</td>\n",
              "      <td>2140.0</td>\n",
              "      <td>456.0</td>\n",
              "      <td>1.0</td>\n",
              "      <td>63.0</td>\n",
              "      <td>3.0</td>\n",
              "      <td>68140.0</td>\n",
              "      <td>...</td>\n",
              "      <td>0.0</td>\n",
              "      <td>0.0</td>\n",
              "      <td>0.0</td>\n",
              "      <td>0.0</td>\n",
              "      <td>0.0</td>\n",
              "      <td>0.0</td>\n",
              "      <td>0.0</td>\n",
              "      <td>0.0</td>\n",
              "      <td>0.0</td>\n",
              "      <td>1</td>\n",
              "    </tr>\n",
              "    <tr>\n",
              "      <th>...</th>\n",
              "      <td>...</td>\n",
              "      <td>...</td>\n",
              "      <td>...</td>\n",
              "      <td>...</td>\n",
              "      <td>...</td>\n",
              "      <td>...</td>\n",
              "      <td>...</td>\n",
              "      <td>...</td>\n",
              "      <td>...</td>\n",
              "      <td>...</td>\n",
              "      <td>...</td>\n",
              "      <td>...</td>\n",
              "      <td>...</td>\n",
              "      <td>...</td>\n",
              "      <td>...</td>\n",
              "      <td>...</td>\n",
              "      <td>...</td>\n",
              "      <td>...</td>\n",
              "      <td>...</td>\n",
              "      <td>...</td>\n",
              "      <td>...</td>\n",
              "    </tr>\n",
              "    <tr>\n",
              "      <th>88625</th>\n",
              "      <td>1.0</td>\n",
              "      <td>814.0</td>\n",
              "      <td>5546.0</td>\n",
              "      <td>6.0</td>\n",
              "      <td>187673.0</td>\n",
              "      <td>34096.0</td>\n",
              "      <td>187674.0</td>\n",
              "      <td>0.0</td>\n",
              "      <td>0.0</td>\n",
              "      <td>0.0</td>\n",
              "      <td>...</td>\n",
              "      <td>0.0</td>\n",
              "      <td>0.0</td>\n",
              "      <td>0.0</td>\n",
              "      <td>0.0</td>\n",
              "      <td>0.0</td>\n",
              "      <td>0.0</td>\n",
              "      <td>0.0</td>\n",
              "      <td>0.0</td>\n",
              "      <td>0.0</td>\n",
              "      <td>2</td>\n",
              "    </tr>\n",
              "    <tr>\n",
              "      <th>88626</th>\n",
              "      <td>1325.0</td>\n",
              "      <td>36990.0</td>\n",
              "      <td>16060.0</td>\n",
              "      <td>41664.0</td>\n",
              "      <td>32033.0</td>\n",
              "      <td>7.0</td>\n",
              "      <td>3412.0</td>\n",
              "      <td>0.0</td>\n",
              "      <td>0.0</td>\n",
              "      <td>0.0</td>\n",
              "      <td>...</td>\n",
              "      <td>0.0</td>\n",
              "      <td>0.0</td>\n",
              "      <td>0.0</td>\n",
              "      <td>0.0</td>\n",
              "      <td>0.0</td>\n",
              "      <td>0.0</td>\n",
              "      <td>0.0</td>\n",
              "      <td>0.0</td>\n",
              "      <td>0.0</td>\n",
              "      <td>1</td>\n",
              "    </tr>\n",
              "    <tr>\n",
              "      <th>88627</th>\n",
              "      <td>132.0</td>\n",
              "      <td>519.0</td>\n",
              "      <td>66358.0</td>\n",
              "      <td>160.0</td>\n",
              "      <td>0.0</td>\n",
              "      <td>0.0</td>\n",
              "      <td>0.0</td>\n",
              "      <td>0.0</td>\n",
              "      <td>0.0</td>\n",
              "      <td>0.0</td>\n",
              "      <td>...</td>\n",
              "      <td>0.0</td>\n",
              "      <td>0.0</td>\n",
              "      <td>0.0</td>\n",
              "      <td>0.0</td>\n",
              "      <td>0.0</td>\n",
              "      <td>0.0</td>\n",
              "      <td>0.0</td>\n",
              "      <td>0.0</td>\n",
              "      <td>0.0</td>\n",
              "      <td>2</td>\n",
              "    </tr>\n",
              "    <tr>\n",
              "      <th>88628</th>\n",
              "      <td>108.0</td>\n",
              "      <td>131.0</td>\n",
              "      <td>566.0</td>\n",
              "      <td>34933.0</td>\n",
              "      <td>0.0</td>\n",
              "      <td>0.0</td>\n",
              "      <td>0.0</td>\n",
              "      <td>0.0</td>\n",
              "      <td>0.0</td>\n",
              "      <td>0.0</td>\n",
              "      <td>...</td>\n",
              "      <td>0.0</td>\n",
              "      <td>0.0</td>\n",
              "      <td>0.0</td>\n",
              "      <td>0.0</td>\n",
              "      <td>0.0</td>\n",
              "      <td>0.0</td>\n",
              "      <td>0.0</td>\n",
              "      <td>0.0</td>\n",
              "      <td>0.0</td>\n",
              "      <td>2</td>\n",
              "    </tr>\n",
              "    <tr>\n",
              "      <th>88629</th>\n",
              "      <td>187675.0</td>\n",
              "      <td>2646.0</td>\n",
              "      <td>187676.0</td>\n",
              "      <td>196.0</td>\n",
              "      <td>1046.0</td>\n",
              "      <td>1299.0</td>\n",
              "      <td>26354.0</td>\n",
              "      <td>6240.0</td>\n",
              "      <td>9.0</td>\n",
              "      <td>19666.0</td>\n",
              "      <td>...</td>\n",
              "      <td>0.0</td>\n",
              "      <td>0.0</td>\n",
              "      <td>0.0</td>\n",
              "      <td>0.0</td>\n",
              "      <td>0.0</td>\n",
              "      <td>0.0</td>\n",
              "      <td>0.0</td>\n",
              "      <td>0.0</td>\n",
              "      <td>0.0</td>\n",
              "      <td>3</td>\n",
              "    </tr>\n",
              "  </tbody>\n",
              "</table>\n",
              "<p>88630 rows × 51 columns</p>\n",
              "</div>\n",
              "    <div class=\"colab-df-buttons\">\n",
              "\n",
              "  <div class=\"colab-df-container\">\n",
              "    <button class=\"colab-df-convert\" onclick=\"convertToInteractive('df-2f51112a-a07e-4356-99db-0ef65e688f40')\"\n",
              "            title=\"Convert this dataframe to an interactive table.\"\n",
              "            style=\"display:none;\">\n",
              "\n",
              "  <svg xmlns=\"http://www.w3.org/2000/svg\" height=\"24px\" viewBox=\"0 -960 960 960\">\n",
              "    <path d=\"M120-120v-720h720v720H120Zm60-500h600v-160H180v160Zm220 220h160v-160H400v160Zm0 220h160v-160H400v160ZM180-400h160v-160H180v160Zm440 0h160v-160H620v160ZM180-180h160v-160H180v160Zm440 0h160v-160H620v160Z\"/>\n",
              "  </svg>\n",
              "    </button>\n",
              "\n",
              "  <style>\n",
              "    .colab-df-container {\n",
              "      display:flex;\n",
              "      gap: 12px;\n",
              "    }\n",
              "\n",
              "    .colab-df-convert {\n",
              "      background-color: #E8F0FE;\n",
              "      border: none;\n",
              "      border-radius: 50%;\n",
              "      cursor: pointer;\n",
              "      display: none;\n",
              "      fill: #1967D2;\n",
              "      height: 32px;\n",
              "      padding: 0 0 0 0;\n",
              "      width: 32px;\n",
              "    }\n",
              "\n",
              "    .colab-df-convert:hover {\n",
              "      background-color: #E2EBFA;\n",
              "      box-shadow: 0px 1px 2px rgba(60, 64, 67, 0.3), 0px 1px 3px 1px rgba(60, 64, 67, 0.15);\n",
              "      fill: #174EA6;\n",
              "    }\n",
              "\n",
              "    .colab-df-buttons div {\n",
              "      margin-bottom: 4px;\n",
              "    }\n",
              "\n",
              "    [theme=dark] .colab-df-convert {\n",
              "      background-color: #3B4455;\n",
              "      fill: #D2E3FC;\n",
              "    }\n",
              "\n",
              "    [theme=dark] .colab-df-convert:hover {\n",
              "      background-color: #434B5C;\n",
              "      box-shadow: 0px 1px 3px 1px rgba(0, 0, 0, 0.15);\n",
              "      filter: drop-shadow(0px 1px 2px rgba(0, 0, 0, 0.3));\n",
              "      fill: #FFFFFF;\n",
              "    }\n",
              "  </style>\n",
              "\n",
              "    <script>\n",
              "      const buttonEl =\n",
              "        document.querySelector('#df-2f51112a-a07e-4356-99db-0ef65e688f40 button.colab-df-convert');\n",
              "      buttonEl.style.display =\n",
              "        google.colab.kernel.accessAllowed ? 'block' : 'none';\n",
              "\n",
              "      async function convertToInteractive(key) {\n",
              "        const element = document.querySelector('#df-2f51112a-a07e-4356-99db-0ef65e688f40');\n",
              "        const dataTable =\n",
              "          await google.colab.kernel.invokeFunction('convertToInteractive',\n",
              "                                                    [key], {});\n",
              "        if (!dataTable) return;\n",
              "\n",
              "        const docLinkHtml = 'Like what you see? Visit the ' +\n",
              "          '<a target=\"_blank\" href=https://colab.research.google.com/notebooks/data_table.ipynb>data table notebook</a>'\n",
              "          + ' to learn more about interactive tables.';\n",
              "        element.innerHTML = '';\n",
              "        dataTable['output_type'] = 'display_data';\n",
              "        await google.colab.output.renderOutput(dataTable, element);\n",
              "        const docLink = document.createElement('div');\n",
              "        docLink.innerHTML = docLinkHtml;\n",
              "        element.appendChild(docLink);\n",
              "      }\n",
              "    </script>\n",
              "  </div>\n",
              "\n",
              "\n",
              "<div id=\"df-9b9e692c-7f37-4bf8-a1aa-c9065acb2654\">\n",
              "  <button class=\"colab-df-quickchart\" onclick=\"quickchart('df-9b9e692c-7f37-4bf8-a1aa-c9065acb2654')\"\n",
              "            title=\"Suggest charts\"\n",
              "            style=\"display:none;\">\n",
              "\n",
              "<svg xmlns=\"http://www.w3.org/2000/svg\" height=\"24px\"viewBox=\"0 0 24 24\"\n",
              "     width=\"24px\">\n",
              "    <g>\n",
              "        <path d=\"M19 3H5c-1.1 0-2 .9-2 2v14c0 1.1.9 2 2 2h14c1.1 0 2-.9 2-2V5c0-1.1-.9-2-2-2zM9 17H7v-7h2v7zm4 0h-2V7h2v10zm4 0h-2v-4h2v4z\"/>\n",
              "    </g>\n",
              "</svg>\n",
              "  </button>\n",
              "\n",
              "<style>\n",
              "  .colab-df-quickchart {\n",
              "      --bg-color: #E8F0FE;\n",
              "      --fill-color: #1967D2;\n",
              "      --hover-bg-color: #E2EBFA;\n",
              "      --hover-fill-color: #174EA6;\n",
              "      --disabled-fill-color: #AAA;\n",
              "      --disabled-bg-color: #DDD;\n",
              "  }\n",
              "\n",
              "  [theme=dark] .colab-df-quickchart {\n",
              "      --bg-color: #3B4455;\n",
              "      --fill-color: #D2E3FC;\n",
              "      --hover-bg-color: #434B5C;\n",
              "      --hover-fill-color: #FFFFFF;\n",
              "      --disabled-bg-color: #3B4455;\n",
              "      --disabled-fill-color: #666;\n",
              "  }\n",
              "\n",
              "  .colab-df-quickchart {\n",
              "    background-color: var(--bg-color);\n",
              "    border: none;\n",
              "    border-radius: 50%;\n",
              "    cursor: pointer;\n",
              "    display: none;\n",
              "    fill: var(--fill-color);\n",
              "    height: 32px;\n",
              "    padding: 0;\n",
              "    width: 32px;\n",
              "  }\n",
              "\n",
              "  .colab-df-quickchart:hover {\n",
              "    background-color: var(--hover-bg-color);\n",
              "    box-shadow: 0 1px 2px rgba(60, 64, 67, 0.3), 0 1px 3px 1px rgba(60, 64, 67, 0.15);\n",
              "    fill: var(--button-hover-fill-color);\n",
              "  }\n",
              "\n",
              "  .colab-df-quickchart-complete:disabled,\n",
              "  .colab-df-quickchart-complete:disabled:hover {\n",
              "    background-color: var(--disabled-bg-color);\n",
              "    fill: var(--disabled-fill-color);\n",
              "    box-shadow: none;\n",
              "  }\n",
              "\n",
              "  .colab-df-spinner {\n",
              "    border: 2px solid var(--fill-color);\n",
              "    border-color: transparent;\n",
              "    border-bottom-color: var(--fill-color);\n",
              "    animation:\n",
              "      spin 1s steps(1) infinite;\n",
              "  }\n",
              "\n",
              "  @keyframes spin {\n",
              "    0% {\n",
              "      border-color: transparent;\n",
              "      border-bottom-color: var(--fill-color);\n",
              "      border-left-color: var(--fill-color);\n",
              "    }\n",
              "    20% {\n",
              "      border-color: transparent;\n",
              "      border-left-color: var(--fill-color);\n",
              "      border-top-color: var(--fill-color);\n",
              "    }\n",
              "    30% {\n",
              "      border-color: transparent;\n",
              "      border-left-color: var(--fill-color);\n",
              "      border-top-color: var(--fill-color);\n",
              "      border-right-color: var(--fill-color);\n",
              "    }\n",
              "    40% {\n",
              "      border-color: transparent;\n",
              "      border-right-color: var(--fill-color);\n",
              "      border-top-color: var(--fill-color);\n",
              "    }\n",
              "    60% {\n",
              "      border-color: transparent;\n",
              "      border-right-color: var(--fill-color);\n",
              "    }\n",
              "    80% {\n",
              "      border-color: transparent;\n",
              "      border-right-color: var(--fill-color);\n",
              "      border-bottom-color: var(--fill-color);\n",
              "    }\n",
              "    90% {\n",
              "      border-color: transparent;\n",
              "      border-bottom-color: var(--fill-color);\n",
              "    }\n",
              "  }\n",
              "</style>\n",
              "\n",
              "  <script>\n",
              "    async function quickchart(key) {\n",
              "      const quickchartButtonEl =\n",
              "        document.querySelector('#' + key + ' button');\n",
              "      quickchartButtonEl.disabled = true;  // To prevent multiple clicks.\n",
              "      quickchartButtonEl.classList.add('colab-df-spinner');\n",
              "      try {\n",
              "        const charts = await google.colab.kernel.invokeFunction(\n",
              "            'suggestCharts', [key], {});\n",
              "      } catch (error) {\n",
              "        console.error('Error during call to suggestCharts:', error);\n",
              "      }\n",
              "      quickchartButtonEl.classList.remove('colab-df-spinner');\n",
              "      quickchartButtonEl.classList.add('colab-df-quickchart-complete');\n",
              "    }\n",
              "    (() => {\n",
              "      let quickchartButtonEl =\n",
              "        document.querySelector('#df-9b9e692c-7f37-4bf8-a1aa-c9065acb2654 button');\n",
              "      quickchartButtonEl.style.display =\n",
              "        google.colab.kernel.accessAllowed ? 'block' : 'none';\n",
              "    })();\n",
              "  </script>\n",
              "</div>\n",
              "    </div>\n",
              "  </div>\n"
            ],
            "application/vnd.google.colaboratory.intrinsic+json": {
              "type": "dataframe",
              "variable_name": "x_train_padded"
            }
          },
          "metadata": {},
          "execution_count": 2
        }
      ]
    },
    {
      "cell_type": "markdown",
      "source": [
        "# Renaming Columns\n",
        "\n",
        "- Renaming the columns of the DataFrame `x_valid_padded`."
      ],
      "metadata": {
        "id": "mmoWCdp83WAF"
      }
    },
    {
      "cell_type": "code",
      "source": [
        "x_valid_padded.columns=['0', '1', '2', '3', '4', '5', '6', '7', '8', '9', '10', '11', '12',\n",
        "       '13', '14', '15', '16', '17', '18', '19', '20', '21', '22', '23', '24',\n",
        "       '25', '26', '27', '28', '29', '30', '31', '32', '33', '34', '35', '36',\n",
        "       '37', '38', '39', '40', '41', '42', '43', '44', '45', '46', '47', '48',\n",
        "       '49', 'y_train']"
      ],
      "metadata": {
        "id": "wuOG94ZXDDGi"
      },
      "execution_count": null,
      "outputs": []
    },
    {
      "cell_type": "code",
      "source": [
        "padded_train = pd.concat([x_train_padded, x_valid_padded], ignore_index=True)\n",
        "padded_train"
      ],
      "metadata": {
        "colab": {
          "base_uri": "https://localhost:8080/",
          "height": 444
        },
        "id": "pw0aLQeSDu3X",
        "outputId": "45c4a3ae-dacf-4d0e-8be9-03923800d79c"
      },
      "execution_count": null,
      "outputs": [
        {
          "output_type": "execute_result",
          "data": {
            "text/plain": [
              "              0       1        2       3        4       5        6        7  \\\n",
              "0          53.0   598.0     40.0  4565.0      1.0  9495.0   7404.0    111.0   \n",
              "1         564.0   644.0  26071.0     6.0   1895.0  3113.0  12139.0   8884.0   \n",
              "2        5775.0   413.0   5775.0  5775.0   5775.0  5775.0   5775.0   5775.0   \n",
              "3          99.0     3.0  10234.0  8318.0   1390.0     2.0    804.0  68139.0   \n",
              "4          10.0  1694.0   5513.0    29.0   2140.0   456.0      1.0     63.0   \n",
              "...         ...     ...      ...     ...      ...     ...      ...      ...   \n",
              "118169      7.0  3287.0    205.0     0.0      0.0     0.0      0.0      0.0   \n",
              "118170  18803.0  3340.0    723.0   166.0     86.0     4.0    291.0   3678.0   \n",
              "118171     18.0    65.0  42923.0    36.0  12117.0   138.0    377.0  14367.0   \n",
              "118172     21.0  1814.0   1002.0  1971.0   1814.0    26.0  48199.0   2274.0   \n",
              "118173  20808.0   868.0   9866.0    12.0    134.0  1209.0   1463.0      0.0   \n",
              "\n",
              "              8         9  ...   41   42   43   44   45   46   47   48   49  \\\n",
              "0       43667.0       3.0  ...  0.0  0.0  0.0  0.0  0.0  0.0  0.0  0.0  0.0   \n",
              "1        1058.0     125.0  ...  0.0  0.0  0.0  0.0  0.0  0.0  0.0  0.0  0.0   \n",
              "2         101.0    5775.0  ...  0.0  0.0  0.0  0.0  0.0  0.0  0.0  0.0  0.0   \n",
              "3        1592.0      66.0  ...  0.0  0.0  0.0  0.0  0.0  0.0  0.0  0.0  0.0   \n",
              "4           3.0   68140.0  ...  0.0  0.0  0.0  0.0  0.0  0.0  0.0  0.0  0.0   \n",
              "...         ...       ...  ...  ...  ...  ...  ...  ...  ...  ...  ...  ...   \n",
              "118169      0.0       0.0  ...  0.0  0.0  0.0  0.0  0.0  0.0  0.0  0.0  0.0   \n",
              "118170     15.0   14230.0  ...  0.0  0.0  0.0  0.0  0.0  0.0  0.0  0.0  0.0   \n",
              "118171     87.0      76.0  ...  0.0  0.0  0.0  0.0  0.0  0.0  0.0  0.0  0.0   \n",
              "118172     18.0  130672.0  ...  0.0  0.0  0.0  0.0  0.0  0.0  0.0  0.0  0.0   \n",
              "118173      0.0       0.0  ...  0.0  0.0  0.0  0.0  0.0  0.0  0.0  0.0  0.0   \n",
              "\n",
              "        y_train  \n",
              "0             1  \n",
              "1             1  \n",
              "2             0  \n",
              "3             2  \n",
              "4             1  \n",
              "...         ...  \n",
              "118169        0  \n",
              "118170        0  \n",
              "118171        0  \n",
              "118172        2  \n",
              "118173        0  \n",
              "\n",
              "[118174 rows x 51 columns]"
            ],
            "text/html": [
              "\n",
              "  <div id=\"df-8bfd673e-1d58-4dd7-9f9a-e99cf5b31b54\" class=\"colab-df-container\">\n",
              "    <div>\n",
              "<style scoped>\n",
              "    .dataframe tbody tr th:only-of-type {\n",
              "        vertical-align: middle;\n",
              "    }\n",
              "\n",
              "    .dataframe tbody tr th {\n",
              "        vertical-align: top;\n",
              "    }\n",
              "\n",
              "    .dataframe thead th {\n",
              "        text-align: right;\n",
              "    }\n",
              "</style>\n",
              "<table border=\"1\" class=\"dataframe\">\n",
              "  <thead>\n",
              "    <tr style=\"text-align: right;\">\n",
              "      <th></th>\n",
              "      <th>0</th>\n",
              "      <th>1</th>\n",
              "      <th>2</th>\n",
              "      <th>3</th>\n",
              "      <th>4</th>\n",
              "      <th>5</th>\n",
              "      <th>6</th>\n",
              "      <th>7</th>\n",
              "      <th>8</th>\n",
              "      <th>9</th>\n",
              "      <th>...</th>\n",
              "      <th>41</th>\n",
              "      <th>42</th>\n",
              "      <th>43</th>\n",
              "      <th>44</th>\n",
              "      <th>45</th>\n",
              "      <th>46</th>\n",
              "      <th>47</th>\n",
              "      <th>48</th>\n",
              "      <th>49</th>\n",
              "      <th>y_train</th>\n",
              "    </tr>\n",
              "  </thead>\n",
              "  <tbody>\n",
              "    <tr>\n",
              "      <th>0</th>\n",
              "      <td>53.0</td>\n",
              "      <td>598.0</td>\n",
              "      <td>40.0</td>\n",
              "      <td>4565.0</td>\n",
              "      <td>1.0</td>\n",
              "      <td>9495.0</td>\n",
              "      <td>7404.0</td>\n",
              "      <td>111.0</td>\n",
              "      <td>43667.0</td>\n",
              "      <td>3.0</td>\n",
              "      <td>...</td>\n",
              "      <td>0.0</td>\n",
              "      <td>0.0</td>\n",
              "      <td>0.0</td>\n",
              "      <td>0.0</td>\n",
              "      <td>0.0</td>\n",
              "      <td>0.0</td>\n",
              "      <td>0.0</td>\n",
              "      <td>0.0</td>\n",
              "      <td>0.0</td>\n",
              "      <td>1</td>\n",
              "    </tr>\n",
              "    <tr>\n",
              "      <th>1</th>\n",
              "      <td>564.0</td>\n",
              "      <td>644.0</td>\n",
              "      <td>26071.0</td>\n",
              "      <td>6.0</td>\n",
              "      <td>1895.0</td>\n",
              "      <td>3113.0</td>\n",
              "      <td>12139.0</td>\n",
              "      <td>8884.0</td>\n",
              "      <td>1058.0</td>\n",
              "      <td>125.0</td>\n",
              "      <td>...</td>\n",
              "      <td>0.0</td>\n",
              "      <td>0.0</td>\n",
              "      <td>0.0</td>\n",
              "      <td>0.0</td>\n",
              "      <td>0.0</td>\n",
              "      <td>0.0</td>\n",
              "      <td>0.0</td>\n",
              "      <td>0.0</td>\n",
              "      <td>0.0</td>\n",
              "      <td>1</td>\n",
              "    </tr>\n",
              "    <tr>\n",
              "      <th>2</th>\n",
              "      <td>5775.0</td>\n",
              "      <td>413.0</td>\n",
              "      <td>5775.0</td>\n",
              "      <td>5775.0</td>\n",
              "      <td>5775.0</td>\n",
              "      <td>5775.0</td>\n",
              "      <td>5775.0</td>\n",
              "      <td>5775.0</td>\n",
              "      <td>101.0</td>\n",
              "      <td>5775.0</td>\n",
              "      <td>...</td>\n",
              "      <td>0.0</td>\n",
              "      <td>0.0</td>\n",
              "      <td>0.0</td>\n",
              "      <td>0.0</td>\n",
              "      <td>0.0</td>\n",
              "      <td>0.0</td>\n",
              "      <td>0.0</td>\n",
              "      <td>0.0</td>\n",
              "      <td>0.0</td>\n",
              "      <td>0</td>\n",
              "    </tr>\n",
              "    <tr>\n",
              "      <th>3</th>\n",
              "      <td>99.0</td>\n",
              "      <td>3.0</td>\n",
              "      <td>10234.0</td>\n",
              "      <td>8318.0</td>\n",
              "      <td>1390.0</td>\n",
              "      <td>2.0</td>\n",
              "      <td>804.0</td>\n",
              "      <td>68139.0</td>\n",
              "      <td>1592.0</td>\n",
              "      <td>66.0</td>\n",
              "      <td>...</td>\n",
              "      <td>0.0</td>\n",
              "      <td>0.0</td>\n",
              "      <td>0.0</td>\n",
              "      <td>0.0</td>\n",
              "      <td>0.0</td>\n",
              "      <td>0.0</td>\n",
              "      <td>0.0</td>\n",
              "      <td>0.0</td>\n",
              "      <td>0.0</td>\n",
              "      <td>2</td>\n",
              "    </tr>\n",
              "    <tr>\n",
              "      <th>4</th>\n",
              "      <td>10.0</td>\n",
              "      <td>1694.0</td>\n",
              "      <td>5513.0</td>\n",
              "      <td>29.0</td>\n",
              "      <td>2140.0</td>\n",
              "      <td>456.0</td>\n",
              "      <td>1.0</td>\n",
              "      <td>63.0</td>\n",
              "      <td>3.0</td>\n",
              "      <td>68140.0</td>\n",
              "      <td>...</td>\n",
              "      <td>0.0</td>\n",
              "      <td>0.0</td>\n",
              "      <td>0.0</td>\n",
              "      <td>0.0</td>\n",
              "      <td>0.0</td>\n",
              "      <td>0.0</td>\n",
              "      <td>0.0</td>\n",
              "      <td>0.0</td>\n",
              "      <td>0.0</td>\n",
              "      <td>1</td>\n",
              "    </tr>\n",
              "    <tr>\n",
              "      <th>...</th>\n",
              "      <td>...</td>\n",
              "      <td>...</td>\n",
              "      <td>...</td>\n",
              "      <td>...</td>\n",
              "      <td>...</td>\n",
              "      <td>...</td>\n",
              "      <td>...</td>\n",
              "      <td>...</td>\n",
              "      <td>...</td>\n",
              "      <td>...</td>\n",
              "      <td>...</td>\n",
              "      <td>...</td>\n",
              "      <td>...</td>\n",
              "      <td>...</td>\n",
              "      <td>...</td>\n",
              "      <td>...</td>\n",
              "      <td>...</td>\n",
              "      <td>...</td>\n",
              "      <td>...</td>\n",
              "      <td>...</td>\n",
              "      <td>...</td>\n",
              "    </tr>\n",
              "    <tr>\n",
              "      <th>118169</th>\n",
              "      <td>7.0</td>\n",
              "      <td>3287.0</td>\n",
              "      <td>205.0</td>\n",
              "      <td>0.0</td>\n",
              "      <td>0.0</td>\n",
              "      <td>0.0</td>\n",
              "      <td>0.0</td>\n",
              "      <td>0.0</td>\n",
              "      <td>0.0</td>\n",
              "      <td>0.0</td>\n",
              "      <td>...</td>\n",
              "      <td>0.0</td>\n",
              "      <td>0.0</td>\n",
              "      <td>0.0</td>\n",
              "      <td>0.0</td>\n",
              "      <td>0.0</td>\n",
              "      <td>0.0</td>\n",
              "      <td>0.0</td>\n",
              "      <td>0.0</td>\n",
              "      <td>0.0</td>\n",
              "      <td>0</td>\n",
              "    </tr>\n",
              "    <tr>\n",
              "      <th>118170</th>\n",
              "      <td>18803.0</td>\n",
              "      <td>3340.0</td>\n",
              "      <td>723.0</td>\n",
              "      <td>166.0</td>\n",
              "      <td>86.0</td>\n",
              "      <td>4.0</td>\n",
              "      <td>291.0</td>\n",
              "      <td>3678.0</td>\n",
              "      <td>15.0</td>\n",
              "      <td>14230.0</td>\n",
              "      <td>...</td>\n",
              "      <td>0.0</td>\n",
              "      <td>0.0</td>\n",
              "      <td>0.0</td>\n",
              "      <td>0.0</td>\n",
              "      <td>0.0</td>\n",
              "      <td>0.0</td>\n",
              "      <td>0.0</td>\n",
              "      <td>0.0</td>\n",
              "      <td>0.0</td>\n",
              "      <td>0</td>\n",
              "    </tr>\n",
              "    <tr>\n",
              "      <th>118171</th>\n",
              "      <td>18.0</td>\n",
              "      <td>65.0</td>\n",
              "      <td>42923.0</td>\n",
              "      <td>36.0</td>\n",
              "      <td>12117.0</td>\n",
              "      <td>138.0</td>\n",
              "      <td>377.0</td>\n",
              "      <td>14367.0</td>\n",
              "      <td>87.0</td>\n",
              "      <td>76.0</td>\n",
              "      <td>...</td>\n",
              "      <td>0.0</td>\n",
              "      <td>0.0</td>\n",
              "      <td>0.0</td>\n",
              "      <td>0.0</td>\n",
              "      <td>0.0</td>\n",
              "      <td>0.0</td>\n",
              "      <td>0.0</td>\n",
              "      <td>0.0</td>\n",
              "      <td>0.0</td>\n",
              "      <td>0</td>\n",
              "    </tr>\n",
              "    <tr>\n",
              "      <th>118172</th>\n",
              "      <td>21.0</td>\n",
              "      <td>1814.0</td>\n",
              "      <td>1002.0</td>\n",
              "      <td>1971.0</td>\n",
              "      <td>1814.0</td>\n",
              "      <td>26.0</td>\n",
              "      <td>48199.0</td>\n",
              "      <td>2274.0</td>\n",
              "      <td>18.0</td>\n",
              "      <td>130672.0</td>\n",
              "      <td>...</td>\n",
              "      <td>0.0</td>\n",
              "      <td>0.0</td>\n",
              "      <td>0.0</td>\n",
              "      <td>0.0</td>\n",
              "      <td>0.0</td>\n",
              "      <td>0.0</td>\n",
              "      <td>0.0</td>\n",
              "      <td>0.0</td>\n",
              "      <td>0.0</td>\n",
              "      <td>2</td>\n",
              "    </tr>\n",
              "    <tr>\n",
              "      <th>118173</th>\n",
              "      <td>20808.0</td>\n",
              "      <td>868.0</td>\n",
              "      <td>9866.0</td>\n",
              "      <td>12.0</td>\n",
              "      <td>134.0</td>\n",
              "      <td>1209.0</td>\n",
              "      <td>1463.0</td>\n",
              "      <td>0.0</td>\n",
              "      <td>0.0</td>\n",
              "      <td>0.0</td>\n",
              "      <td>...</td>\n",
              "      <td>0.0</td>\n",
              "      <td>0.0</td>\n",
              "      <td>0.0</td>\n",
              "      <td>0.0</td>\n",
              "      <td>0.0</td>\n",
              "      <td>0.0</td>\n",
              "      <td>0.0</td>\n",
              "      <td>0.0</td>\n",
              "      <td>0.0</td>\n",
              "      <td>0</td>\n",
              "    </tr>\n",
              "  </tbody>\n",
              "</table>\n",
              "<p>118174 rows × 51 columns</p>\n",
              "</div>\n",
              "    <div class=\"colab-df-buttons\">\n",
              "\n",
              "  <div class=\"colab-df-container\">\n",
              "    <button class=\"colab-df-convert\" onclick=\"convertToInteractive('df-8bfd673e-1d58-4dd7-9f9a-e99cf5b31b54')\"\n",
              "            title=\"Convert this dataframe to an interactive table.\"\n",
              "            style=\"display:none;\">\n",
              "\n",
              "  <svg xmlns=\"http://www.w3.org/2000/svg\" height=\"24px\" viewBox=\"0 -960 960 960\">\n",
              "    <path d=\"M120-120v-720h720v720H120Zm60-500h600v-160H180v160Zm220 220h160v-160H400v160Zm0 220h160v-160H400v160ZM180-400h160v-160H180v160Zm440 0h160v-160H620v160ZM180-180h160v-160H180v160Zm440 0h160v-160H620v160Z\"/>\n",
              "  </svg>\n",
              "    </button>\n",
              "\n",
              "  <style>\n",
              "    .colab-df-container {\n",
              "      display:flex;\n",
              "      gap: 12px;\n",
              "    }\n",
              "\n",
              "    .colab-df-convert {\n",
              "      background-color: #E8F0FE;\n",
              "      border: none;\n",
              "      border-radius: 50%;\n",
              "      cursor: pointer;\n",
              "      display: none;\n",
              "      fill: #1967D2;\n",
              "      height: 32px;\n",
              "      padding: 0 0 0 0;\n",
              "      width: 32px;\n",
              "    }\n",
              "\n",
              "    .colab-df-convert:hover {\n",
              "      background-color: #E2EBFA;\n",
              "      box-shadow: 0px 1px 2px rgba(60, 64, 67, 0.3), 0px 1px 3px 1px rgba(60, 64, 67, 0.15);\n",
              "      fill: #174EA6;\n",
              "    }\n",
              "\n",
              "    .colab-df-buttons div {\n",
              "      margin-bottom: 4px;\n",
              "    }\n",
              "\n",
              "    [theme=dark] .colab-df-convert {\n",
              "      background-color: #3B4455;\n",
              "      fill: #D2E3FC;\n",
              "    }\n",
              "\n",
              "    [theme=dark] .colab-df-convert:hover {\n",
              "      background-color: #434B5C;\n",
              "      box-shadow: 0px 1px 3px 1px rgba(0, 0, 0, 0.15);\n",
              "      filter: drop-shadow(0px 1px 2px rgba(0, 0, 0, 0.3));\n",
              "      fill: #FFFFFF;\n",
              "    }\n",
              "  </style>\n",
              "\n",
              "    <script>\n",
              "      const buttonEl =\n",
              "        document.querySelector('#df-8bfd673e-1d58-4dd7-9f9a-e99cf5b31b54 button.colab-df-convert');\n",
              "      buttonEl.style.display =\n",
              "        google.colab.kernel.accessAllowed ? 'block' : 'none';\n",
              "\n",
              "      async function convertToInteractive(key) {\n",
              "        const element = document.querySelector('#df-8bfd673e-1d58-4dd7-9f9a-e99cf5b31b54');\n",
              "        const dataTable =\n",
              "          await google.colab.kernel.invokeFunction('convertToInteractive',\n",
              "                                                    [key], {});\n",
              "        if (!dataTable) return;\n",
              "\n",
              "        const docLinkHtml = 'Like what you see? Visit the ' +\n",
              "          '<a target=\"_blank\" href=https://colab.research.google.com/notebooks/data_table.ipynb>data table notebook</a>'\n",
              "          + ' to learn more about interactive tables.';\n",
              "        element.innerHTML = '';\n",
              "        dataTable['output_type'] = 'display_data';\n",
              "        await google.colab.output.renderOutput(dataTable, element);\n",
              "        const docLink = document.createElement('div');\n",
              "        docLink.innerHTML = docLinkHtml;\n",
              "        element.appendChild(docLink);\n",
              "      }\n",
              "    </script>\n",
              "  </div>\n",
              "\n",
              "\n",
              "<div id=\"df-21d3f2da-d787-4b6b-9303-ca0d38f02eea\">\n",
              "  <button class=\"colab-df-quickchart\" onclick=\"quickchart('df-21d3f2da-d787-4b6b-9303-ca0d38f02eea')\"\n",
              "            title=\"Suggest charts\"\n",
              "            style=\"display:none;\">\n",
              "\n",
              "<svg xmlns=\"http://www.w3.org/2000/svg\" height=\"24px\"viewBox=\"0 0 24 24\"\n",
              "     width=\"24px\">\n",
              "    <g>\n",
              "        <path d=\"M19 3H5c-1.1 0-2 .9-2 2v14c0 1.1.9 2 2 2h14c1.1 0 2-.9 2-2V5c0-1.1-.9-2-2-2zM9 17H7v-7h2v7zm4 0h-2V7h2v10zm4 0h-2v-4h2v4z\"/>\n",
              "    </g>\n",
              "</svg>\n",
              "  </button>\n",
              "\n",
              "<style>\n",
              "  .colab-df-quickchart {\n",
              "      --bg-color: #E8F0FE;\n",
              "      --fill-color: #1967D2;\n",
              "      --hover-bg-color: #E2EBFA;\n",
              "      --hover-fill-color: #174EA6;\n",
              "      --disabled-fill-color: #AAA;\n",
              "      --disabled-bg-color: #DDD;\n",
              "  }\n",
              "\n",
              "  [theme=dark] .colab-df-quickchart {\n",
              "      --bg-color: #3B4455;\n",
              "      --fill-color: #D2E3FC;\n",
              "      --hover-bg-color: #434B5C;\n",
              "      --hover-fill-color: #FFFFFF;\n",
              "      --disabled-bg-color: #3B4455;\n",
              "      --disabled-fill-color: #666;\n",
              "  }\n",
              "\n",
              "  .colab-df-quickchart {\n",
              "    background-color: var(--bg-color);\n",
              "    border: none;\n",
              "    border-radius: 50%;\n",
              "    cursor: pointer;\n",
              "    display: none;\n",
              "    fill: var(--fill-color);\n",
              "    height: 32px;\n",
              "    padding: 0;\n",
              "    width: 32px;\n",
              "  }\n",
              "\n",
              "  .colab-df-quickchart:hover {\n",
              "    background-color: var(--hover-bg-color);\n",
              "    box-shadow: 0 1px 2px rgba(60, 64, 67, 0.3), 0 1px 3px 1px rgba(60, 64, 67, 0.15);\n",
              "    fill: var(--button-hover-fill-color);\n",
              "  }\n",
              "\n",
              "  .colab-df-quickchart-complete:disabled,\n",
              "  .colab-df-quickchart-complete:disabled:hover {\n",
              "    background-color: var(--disabled-bg-color);\n",
              "    fill: var(--disabled-fill-color);\n",
              "    box-shadow: none;\n",
              "  }\n",
              "\n",
              "  .colab-df-spinner {\n",
              "    border: 2px solid var(--fill-color);\n",
              "    border-color: transparent;\n",
              "    border-bottom-color: var(--fill-color);\n",
              "    animation:\n",
              "      spin 1s steps(1) infinite;\n",
              "  }\n",
              "\n",
              "  @keyframes spin {\n",
              "    0% {\n",
              "      border-color: transparent;\n",
              "      border-bottom-color: var(--fill-color);\n",
              "      border-left-color: var(--fill-color);\n",
              "    }\n",
              "    20% {\n",
              "      border-color: transparent;\n",
              "      border-left-color: var(--fill-color);\n",
              "      border-top-color: var(--fill-color);\n",
              "    }\n",
              "    30% {\n",
              "      border-color: transparent;\n",
              "      border-left-color: var(--fill-color);\n",
              "      border-top-color: var(--fill-color);\n",
              "      border-right-color: var(--fill-color);\n",
              "    }\n",
              "    40% {\n",
              "      border-color: transparent;\n",
              "      border-right-color: var(--fill-color);\n",
              "      border-top-color: var(--fill-color);\n",
              "    }\n",
              "    60% {\n",
              "      border-color: transparent;\n",
              "      border-right-color: var(--fill-color);\n",
              "    }\n",
              "    80% {\n",
              "      border-color: transparent;\n",
              "      border-right-color: var(--fill-color);\n",
              "      border-bottom-color: var(--fill-color);\n",
              "    }\n",
              "    90% {\n",
              "      border-color: transparent;\n",
              "      border-bottom-color: var(--fill-color);\n",
              "    }\n",
              "  }\n",
              "</style>\n",
              "\n",
              "  <script>\n",
              "    async function quickchart(key) {\n",
              "      const quickchartButtonEl =\n",
              "        document.querySelector('#' + key + ' button');\n",
              "      quickchartButtonEl.disabled = true;  // To prevent multiple clicks.\n",
              "      quickchartButtonEl.classList.add('colab-df-spinner');\n",
              "      try {\n",
              "        const charts = await google.colab.kernel.invokeFunction(\n",
              "            'suggestCharts', [key], {});\n",
              "      } catch (error) {\n",
              "        console.error('Error during call to suggestCharts:', error);\n",
              "      }\n",
              "      quickchartButtonEl.classList.remove('colab-df-spinner');\n",
              "      quickchartButtonEl.classList.add('colab-df-quickchart-complete');\n",
              "    }\n",
              "    (() => {\n",
              "      let quickchartButtonEl =\n",
              "        document.querySelector('#df-21d3f2da-d787-4b6b-9303-ca0d38f02eea button');\n",
              "      quickchartButtonEl.style.display =\n",
              "        google.colab.kernel.accessAllowed ? 'block' : 'none';\n",
              "    })();\n",
              "  </script>\n",
              "</div>\n",
              "    </div>\n",
              "  </div>\n"
            ],
            "application/vnd.google.colaboratory.intrinsic+json": {
              "type": "dataframe",
              "variable_name": "padded_train"
            }
          },
          "metadata": {},
          "execution_count": 4
        }
      ]
    },
    {
      "cell_type": "code",
      "source": [
        "Unique_Words=187345\n",
        "input_length=50\n",
        "EMBEDDING_DIM=100"
      ],
      "metadata": {
        "id": "yTmICfimIA2H"
      },
      "execution_count": null,
      "outputs": []
    },
    {
      "cell_type": "markdown",
      "metadata": {
        "id": "lfU72-8gXl0z"
      },
      "source": [
        "## Define the Vanilla RNN Model Architecture"
      ]
    },
    {
      "cell_type": "code",
      "execution_count": null,
      "metadata": {
        "id": "vBRl-SepXl0z"
      },
      "outputs": [],
      "source": [
        "def create_rnn_model(VOCAB_SIZE, max_sequence_len):\n",
        "    model = Sequential()\n",
        "    model.add(Embedding(VOCAB_SIZE, 64))\n",
        "    model.add(SimpleRNN(64))\n",
        "    model.add(Dense(5, activation='softmax'))\n",
        "    return model"
      ]
    },
    {
      "cell_type": "markdown",
      "metadata": {
        "id": "ZU7hheSpXl0z"
      },
      "source": [
        "Create the model"
      ]
    },
    {
      "cell_type": "code",
      "execution_count": null,
      "metadata": {
        "id": "mdKzBzn7Xl0z"
      },
      "outputs": [],
      "source": [
        "rnn_model = create_rnn_model(VOCAB_SIZE, max_sequence_len)"
      ]
    },
    {
      "cell_type": "markdown",
      "metadata": {
        "id": "KWx99k5sXl0z"
      },
      "source": [
        "Compile the model"
      ]
    },
    {
      "cell_type": "code",
      "execution_count": null,
      "metadata": {
        "id": "xBFBTfV3Xl0z"
      },
      "outputs": [],
      "source": [
        "rnn_model.compile(optimizer='adam', loss='sparse_categorical_crossentropy', metrics=['accuracy'])"
      ]
    },
    {
      "cell_type": "code",
      "execution_count": null,
      "metadata": {
        "id": "8MzJkBQWXl00",
        "outputId": "244eb1bb-08c6-4ce1-d22c-f5762d83bfaa"
      },
      "outputs": [
        {
          "data": {
            "text/html": [
              "<pre style=\"white-space:pre;overflow-x:auto;line-height:normal;font-family:Menlo,'DejaVu Sans Mono',consolas,'Courier New',monospace\"><span style=\"font-weight: bold\">Model: \"sequential\"</span>\n",
              "</pre>\n"
            ],
            "text/plain": [
              "\u001b[1mModel: \"sequential\"\u001b[0m\n"
            ]
          },
          "metadata": {},
          "output_type": "display_data"
        },
        {
          "data": {
            "text/html": [
              "<pre style=\"white-space:pre;overflow-x:auto;line-height:normal;font-family:Menlo,'DejaVu Sans Mono',consolas,'Courier New',monospace\">┏━━━━━━━━━━━━━━━━━━━━━━━━━━━━━━━━━┳━━━━━━━━━━━━━━━━━━━━━━━━┳━━━━━━━━━━━━━━━┓\n",
              "┃<span style=\"font-weight: bold\"> Layer (type)                    </span>┃<span style=\"font-weight: bold\"> Output Shape           </span>┃<span style=\"font-weight: bold\">       Param # </span>┃\n",
              "┡━━━━━━━━━━━━━━━━━━━━━━━━━━━━━━━━━╇━━━━━━━━━━━━━━━━━━━━━━━━╇━━━━━━━━━━━━━━━┩\n",
              "│ embedding (<span style=\"color: #0087ff; text-decoration-color: #0087ff\">Embedding</span>)           │ ?                      │   <span style=\"color: #00af00; text-decoration-color: #00af00\">0</span> (unbuilt) │\n",
              "├─────────────────────────────────┼────────────────────────┼───────────────┤\n",
              "│ simple_rnn (<span style=\"color: #0087ff; text-decoration-color: #0087ff\">SimpleRNN</span>)          │ ?                      │   <span style=\"color: #00af00; text-decoration-color: #00af00\">0</span> (unbuilt) │\n",
              "├─────────────────────────────────┼────────────────────────┼───────────────┤\n",
              "│ dense (<span style=\"color: #0087ff; text-decoration-color: #0087ff\">Dense</span>)                   │ ?                      │   <span style=\"color: #00af00; text-decoration-color: #00af00\">0</span> (unbuilt) │\n",
              "└─────────────────────────────────┴────────────────────────┴───────────────┘\n",
              "</pre>\n"
            ],
            "text/plain": [
              "┏━━━━━━━━━━━━━━━━━━━━━━━━━━━━━━━━━┳━━━━━━━━━━━━━━━━━━━━━━━━┳━━━━━━━━━━━━━━━┓\n",
              "┃\u001b[1m \u001b[0m\u001b[1mLayer (type)                   \u001b[0m\u001b[1m \u001b[0m┃\u001b[1m \u001b[0m\u001b[1mOutput Shape          \u001b[0m\u001b[1m \u001b[0m┃\u001b[1m \u001b[0m\u001b[1m      Param #\u001b[0m\u001b[1m \u001b[0m┃\n",
              "┡━━━━━━━━━━━━━━━━━━━━━━━━━━━━━━━━━╇━━━━━━━━━━━━━━━━━━━━━━━━╇━━━━━━━━━━━━━━━┩\n",
              "│ embedding (\u001b[38;5;33mEmbedding\u001b[0m)           │ ?                      │   \u001b[38;5;34m0\u001b[0m (unbuilt) │\n",
              "├─────────────────────────────────┼────────────────────────┼───────────────┤\n",
              "│ simple_rnn (\u001b[38;5;33mSimpleRNN\u001b[0m)          │ ?                      │   \u001b[38;5;34m0\u001b[0m (unbuilt) │\n",
              "├─────────────────────────────────┼────────────────────────┼───────────────┤\n",
              "│ dense (\u001b[38;5;33mDense\u001b[0m)                   │ ?                      │   \u001b[38;5;34m0\u001b[0m (unbuilt) │\n",
              "└─────────────────────────────────┴────────────────────────┴───────────────┘\n"
            ]
          },
          "metadata": {},
          "output_type": "display_data"
        },
        {
          "data": {
            "text/html": [
              "<pre style=\"white-space:pre;overflow-x:auto;line-height:normal;font-family:Menlo,'DejaVu Sans Mono',consolas,'Courier New',monospace\"><span style=\"font-weight: bold\"> Total params: </span><span style=\"color: #00af00; text-decoration-color: #00af00\">0</span> (0.00 B)\n",
              "</pre>\n"
            ],
            "text/plain": [
              "\u001b[1m Total params: \u001b[0m\u001b[38;5;34m0\u001b[0m (0.00 B)\n"
            ]
          },
          "metadata": {},
          "output_type": "display_data"
        },
        {
          "data": {
            "text/html": [
              "<pre style=\"white-space:pre;overflow-x:auto;line-height:normal;font-family:Menlo,'DejaVu Sans Mono',consolas,'Courier New',monospace\"><span style=\"font-weight: bold\"> Trainable params: </span><span style=\"color: #00af00; text-decoration-color: #00af00\">0</span> (0.00 B)\n",
              "</pre>\n"
            ],
            "text/plain": [
              "\u001b[1m Trainable params: \u001b[0m\u001b[38;5;34m0\u001b[0m (0.00 B)\n"
            ]
          },
          "metadata": {},
          "output_type": "display_data"
        },
        {
          "data": {
            "text/html": [
              "<pre style=\"white-space:pre;overflow-x:auto;line-height:normal;font-family:Menlo,'DejaVu Sans Mono',consolas,'Courier New',monospace\"><span style=\"font-weight: bold\"> Non-trainable params: </span><span style=\"color: #00af00; text-decoration-color: #00af00\">0</span> (0.00 B)\n",
              "</pre>\n"
            ],
            "text/plain": [
              "\u001b[1m Non-trainable params: \u001b[0m\u001b[38;5;34m0\u001b[0m (0.00 B)\n"
            ]
          },
          "metadata": {},
          "output_type": "display_data"
        }
      ],
      "source": [
        "rnn_model.summary()"
      ]
    },
    {
      "cell_type": "markdown",
      "metadata": {
        "id": "lMrjKILPXl00"
      },
      "source": [
        "Train the model"
      ]
    },
    {
      "cell_type": "markdown",
      "metadata": {
        "id": "ndVMr0GuXl00"
      },
      "source": [
        "- RNN Vanila"
      ]
    },
    {
      "cell_type": "code",
      "execution_count": null,
      "metadata": {
        "id": "7RhjmuKTXl00",
        "outputId": "ad1fb092-5b2a-4e4f-c3e9-629acd147c45"
      },
      "outputs": [
        {
          "name": "stdout",
          "output_type": "stream",
          "text": [
            "Epoch 1/10\n",
            "\u001b[1m1385/1385\u001b[0m \u001b[32m━━━━━━━━━━━━━━━━━━━━\u001b[0m\u001b[37m\u001b[0m \u001b[1m147s\u001b[0m 104ms/step - accuracy: 0.4080 - loss: 1.4210 - val_accuracy: 0.5539 - val_loss: 1.1119\n",
            "Epoch 2/10\n",
            "\u001b[1m1385/1385\u001b[0m \u001b[32m━━━━━━━━━━━━━━━━━━━━\u001b[0m\u001b[37m\u001b[0m \u001b[1m143s\u001b[0m 103ms/step - accuracy: 0.6310 - loss: 0.9877 - val_accuracy: 0.6648 - val_loss: 0.9499\n",
            "Epoch 3/10\n",
            "\u001b[1m1385/1385\u001b[0m \u001b[32m━━━━━━━━━━━━━━━━━━━━\u001b[0m\u001b[37m\u001b[0m \u001b[1m140s\u001b[0m 101ms/step - accuracy: 0.7676 - loss: 0.6641 - val_accuracy: 0.6660 - val_loss: 0.9834\n",
            "Epoch 4/10\n",
            "\u001b[1m1385/1385\u001b[0m \u001b[32m━━━━━━━━━━━━━━━━━━━━\u001b[0m\u001b[37m\u001b[0m \u001b[1m139s\u001b[0m 100ms/step - accuracy: 0.8364 - loss: 0.4882 - val_accuracy: 0.6593 - val_loss: 1.0871\n",
            "Epoch 5/10\n",
            "\u001b[1m1385/1385\u001b[0m \u001b[32m━━━━━━━━━━━━━━━━━━━━\u001b[0m\u001b[37m\u001b[0m \u001b[1m148s\u001b[0m 107ms/step - accuracy: 0.8664 - loss: 0.4139 - val_accuracy: 0.6342 - val_loss: 1.1321\n",
            "Epoch 6/10\n",
            "\u001b[1m1385/1385\u001b[0m \u001b[32m━━━━━━━━━━━━━━━━━━━━\u001b[0m\u001b[37m\u001b[0m \u001b[1m140s\u001b[0m 101ms/step - accuracy: 0.9003 - loss: 0.3331 - val_accuracy: 0.6448 - val_loss: 1.2060\n",
            "Epoch 7/10\n",
            "\u001b[1m1385/1385\u001b[0m \u001b[32m━━━━━━━━━━━━━━━━━━━━\u001b[0m\u001b[37m\u001b[0m \u001b[1m144s\u001b[0m 104ms/step - accuracy: 0.8959 - loss: 0.3449 - val_accuracy: 0.5031 - val_loss: 1.3508\n",
            "Epoch 8/10\n",
            "\u001b[1m1385/1385\u001b[0m \u001b[32m━━━━━━━━━━━━━━━━━━━━\u001b[0m\u001b[37m\u001b[0m \u001b[1m144s\u001b[0m 104ms/step - accuracy: 0.6903 - loss: 0.8372 - val_accuracy: 0.6419 - val_loss: 1.0891\n",
            "Epoch 9/10\n",
            "\u001b[1m1385/1385\u001b[0m \u001b[32m━━━━━━━━━━━━━━━━━━━━\u001b[0m\u001b[37m\u001b[0m \u001b[1m140s\u001b[0m 101ms/step - accuracy: 0.8707 - loss: 0.3993 - val_accuracy: 0.6628 - val_loss: 1.1332\n",
            "Epoch 10/10\n",
            "\u001b[1m1385/1385\u001b[0m \u001b[32m━━━━━━━━━━━━━━━━━━━━\u001b[0m\u001b[37m\u001b[0m \u001b[1m148s\u001b[0m 107ms/step - accuracy: 0.9191 - loss: 0.2795 - val_accuracy: 0.6393 - val_loss: 1.2187\n"
          ]
        }
      ],
      "source": [
        "history = rnn_model.fit(x_train_padded, y_train, epochs=10, batch_size=64, validation_data=(x_valid_padded, y_valid))"
      ]
    },
    {
      "cell_type": "code",
      "execution_count": null,
      "metadata": {
        "id": "3vBKjLWDXl00",
        "outputId": "55b07761-f5e0-447d-d0ea-06fb53f392e0"
      },
      "outputs": [
        {
          "name": "stdout",
          "output_type": "stream",
          "text": [
            "\u001b[1m924/924\u001b[0m \u001b[32m━━━━━━━━━━━━━━━━━━━━\u001b[0m\u001b[37m\u001b[0m \u001b[1m3s\u001b[0m 3ms/step - accuracy: 0.6388 - loss: 1.2160\n",
            "Validation Loss: 1.2186534404754639\n",
            "Validation Accuracy: 0.6392837762832642\n"
          ]
        }
      ],
      "source": [
        "# Evaluate the model\n",
        "loss, accuracy = rnn_model.evaluate(x_valid_padded, y_valid)\n",
        "print(\"Validation Loss:\", loss)\n",
        "print(\"Validation Accuracy:\", accuracy)"
      ]
    },
    {
      "cell_type": "markdown",
      "metadata": {
        "id": "cmj9ofS3Xl00"
      },
      "source": [
        "Training and Validation Accuracy Visualization"
      ]
    },
    {
      "cell_type": "code",
      "execution_count": null,
      "metadata": {
        "id": "tn_sw1tbXl00",
        "outputId": "1b2e3fb5-18fa-4271-9604-62cc146faf8b"
      },
      "outputs": [
        {
          "name": "stdout",
          "output_type": "stream",
          "text": [
            "\u001b[1m924/924\u001b[0m \u001b[32m━━━━━━━━━━━━━━━━━━━━\u001b[0m\u001b[37m\u001b[0m \u001b[1m3s\u001b[0m 3ms/step - accuracy: 0.6461 - loss: 1.2105\n",
            "Validation Loss: 1.2039719820022583\n",
            "Validation Accuracy: 0.6443609595298767\n"
          ]
        }
      ],
      "source": [
        "# Evaluate the model\n",
        "loss, accuracy = rnn_model.evaluate(x_test_padded, y_test)\n",
        "print(\"Validation Loss:\", loss)\n",
        "print(\"Validation Accuracy:\", accuracy)"
      ]
    },
    {
      "cell_type": "code",
      "execution_count": null,
      "metadata": {
        "id": "fElgWkuQXl01",
        "outputId": "eb587d85-dc55-4422-8bf4-3f5ea9def69b"
      },
      "outputs": [
        {
          "data": {
            "image/png": "[encoded data removed]",
            "text/plain": [
              "<Figure size 640x480 with 1 Axes>"
            ]
          },
          "metadata": {},
          "output_type": "display_data"
        }
      ],
      "source": [
        "# Plot training history\n",
        "plt.plot(history.history['accuracy'], label='Train Accuracy')\n",
        "plt.plot(history.history['val_accuracy'], label='Validation Accuracy')\n",
        "plt.xlabel('Epoch')\n",
        "plt.ylabel('Accuracy')\n",
        "plt.title('Training and Validation Accuracy')\n",
        "plt.legend()\n",
        "plt.show()\n"
      ]
    },
    {
      "cell_type": "markdown",
      "metadata": {
        "id": "f0-FcstUXl01"
      },
      "source": [
        "## GRU Model"
      ]
    },
    {
      "cell_type": "code",
      "execution_count": null,
      "metadata": {
        "id": "HFfFQwuqXl01"
      },
      "outputs": [],
      "source": [
        "# Define the GRU model creation function\n",
        "def create_gru_model(vocab_size, max_sequence_len):\n",
        "    model = Sequential()\n",
        "    model.add(Embedding(input_dim=vocab_size, output_dim=128, input_length=max_sequence_len))\n",
        "    model.add(GRU(units=128, return_sequences=False))\n",
        "    model.add(Dense(5, activation='softmax'))\n",
        "\n",
        "    model.compile(optimizer='adam', loss='sparse_categorical_crossentropy', metrics=['accuracy'])\n",
        "    return model"
      ]
    },
    {
      "cell_type": "code",
      "execution_count": null,
      "metadata": {
        "id": "xK49kfRcXl01",
        "outputId": "dd02f54b-d666-4ac9-99d8-8a75ad073591"
      },
      "outputs": [
        {
          "name": "stderr",
          "output_type": "stream",
          "text": [
            "c:\\Users\\bios\\AppData\\Local\\Programs\\Python\\Python312\\Lib\\site-packages\\keras\\src\\layers\\core\\embedding.py:90: UserWarning:\n",
            "\n",
            "Argument `input_length` is deprecated. Just remove it.\n",
            "\n"
          ]
        },
        {
          "data": {
            "text/html": [
              "<pre style=\"white-space:pre;overflow-x:auto;line-height:normal;font-family:Menlo,'DejaVu Sans Mono',consolas,'Courier New',monospace\"><span style=\"font-weight: bold\">Model: \"sequential_1\"</span>\n",
              "</pre>\n"
            ],
            "text/plain": [
              "\u001b[1mModel: \"sequential_1\"\u001b[0m\n"
            ]
          },
          "metadata": {},
          "output_type": "display_data"
        },
        {
          "data": {
            "text/html": [
              "<pre style=\"white-space:pre;overflow-x:auto;line-height:normal;font-family:Menlo,'DejaVu Sans Mono',consolas,'Courier New',monospace\">┏━━━━━━━━━━━━━━━━━━━━━━━━━━━━━━━━━┳━━━━━━━━━━━━━━━━━━━━━━━━┳━━━━━━━━━━━━━━━┓\n",
              "┃<span style=\"font-weight: bold\"> Layer (type)                    </span>┃<span style=\"font-weight: bold\"> Output Shape           </span>┃<span style=\"font-weight: bold\">       Param # </span>┃\n",
              "┡━━━━━━━━━━━━━━━━━━━━━━━━━━━━━━━━━╇━━━━━━━━━━━━━━━━━━━━━━━━╇━━━━━━━━━━━━━━━┩\n",
              "│ embedding_1 (<span style=\"color: #0087ff; text-decoration-color: #0087ff\">Embedding</span>)         │ ?                      │   <span style=\"color: #00af00; text-decoration-color: #00af00\">0</span> (unbuilt) │\n",
              "├─────────────────────────────────┼────────────────────────┼───────────────┤\n",
              "│ gru (<span style=\"color: #0087ff; text-decoration-color: #0087ff\">GRU</span>)                       │ ?                      │   <span style=\"color: #00af00; text-decoration-color: #00af00\">0</span> (unbuilt) │\n",
              "├─────────────────────────────────┼────────────────────────┼───────────────┤\n",
              "│ dense_1 (<span style=\"color: #0087ff; text-decoration-color: #0087ff\">Dense</span>)                 │ ?                      │   <span style=\"color: #00af00; text-decoration-color: #00af00\">0</span> (unbuilt) │\n",
              "└─────────────────────────────────┴────────────────────────┴───────────────┘\n",
              "</pre>\n"
            ],
            "text/plain": [
              "┏━━━━━━━━━━━━━━━━━━━━━━━━━━━━━━━━━┳━━━━━━━━━━━━━━━━━━━━━━━━┳━━━━━━━━━━━━━━━┓\n",
              "┃\u001b[1m \u001b[0m\u001b[1mLayer (type)                   \u001b[0m\u001b[1m \u001b[0m┃\u001b[1m \u001b[0m\u001b[1mOutput Shape          \u001b[0m\u001b[1m \u001b[0m┃\u001b[1m \u001b[0m\u001b[1m      Param #\u001b[0m\u001b[1m \u001b[0m┃\n",
              "┡━━━━━━━━━━━━━━━━━━━━━━━━━━━━━━━━━╇━━━━━━━━━━━━━━━━━━━━━━━━╇━━━━━━━━━━━━━━━┩\n",
              "│ embedding_1 (\u001b[38;5;33mEmbedding\u001b[0m)         │ ?                      │   \u001b[38;5;34m0\u001b[0m (unbuilt) │\n",
              "├─────────────────────────────────┼────────────────────────┼───────────────┤\n",
              "│ gru (\u001b[38;5;33mGRU\u001b[0m)                       │ ?                      │   \u001b[38;5;34m0\u001b[0m (unbuilt) │\n",
              "├─────────────────────────────────┼────────────────────────┼───────────────┤\n",
              "│ dense_1 (\u001b[38;5;33mDense\u001b[0m)                 │ ?                      │   \u001b[38;5;34m0\u001b[0m (unbuilt) │\n",
              "└─────────────────────────────────┴────────────────────────┴───────────────┘\n"
            ]
          },
          "metadata": {},
          "output_type": "display_data"
        },
        {
          "data": {
            "text/html": [
              "<pre style=\"white-space:pre;overflow-x:auto;line-height:normal;font-family:Menlo,'DejaVu Sans Mono',consolas,'Courier New',monospace\"><span style=\"font-weight: bold\"> Total params: </span><span style=\"color: #00af00; text-decoration-color: #00af00\">0</span> (0.00 B)\n",
              "</pre>\n"
            ],
            "text/plain": [
              "\u001b[1m Total params: \u001b[0m\u001b[38;5;34m0\u001b[0m (0.00 B)\n"
            ]
          },
          "metadata": {},
          "output_type": "display_data"
        },
        {
          "data": {
            "text/html": [
              "<pre style=\"white-space:pre;overflow-x:auto;line-height:normal;font-family:Menlo,'DejaVu Sans Mono',consolas,'Courier New',monospace\"><span style=\"font-weight: bold\"> Trainable params: </span><span style=\"color: #00af00; text-decoration-color: #00af00\">0</span> (0.00 B)\n",
              "</pre>\n"
            ],
            "text/plain": [
              "\u001b[1m Trainable params: \u001b[0m\u001b[38;5;34m0\u001b[0m (0.00 B)\n"
            ]
          },
          "metadata": {},
          "output_type": "display_data"
        },
        {
          "data": {
            "text/html": [
              "<pre style=\"white-space:pre;overflow-x:auto;line-height:normal;font-family:Menlo,'DejaVu Sans Mono',consolas,'Courier New',monospace\"><span style=\"font-weight: bold\"> Non-trainable params: </span><span style=\"color: #00af00; text-decoration-color: #00af00\">0</span> (0.00 B)\n",
              "</pre>\n"
            ],
            "text/plain": [
              "\u001b[1m Non-trainable params: \u001b[0m\u001b[38;5;34m0\u001b[0m (0.00 B)\n"
            ]
          },
          "metadata": {},
          "output_type": "display_data"
        }
      ],
      "source": [
        "# Create the GRU model instance\n",
        "gru_model = create_gru_model(VOCAB_SIZE, max_sequence_len)\n",
        "gru_model.summary()"
      ]
    },
    {
      "cell_type": "code",
      "execution_count": null,
      "metadata": {
        "id": "bFVTf3XYXl01",
        "outputId": "925f7f43-1dfa-4d48-de4c-0e3e80fc2c05"
      },
      "outputs": [
        {
          "name": "stdout",
          "output_type": "stream",
          "text": [
            "Epoch 1/10\n",
            "\u001b[1m1385/1385\u001b[0m \u001b[32m━━━━━━━━━━━━━━━━━━━━\u001b[0m\u001b[37m\u001b[0m \u001b[1m313s\u001b[0m 224ms/step - accuracy: 0.4551 - loss: 1.3175 - val_accuracy: 0.7994 - val_loss: 0.5728\n",
            "Epoch 2/10\n",
            "\u001b[1m1385/1385\u001b[0m \u001b[32m━━━━━━━━━━━━━━━━━━━━\u001b[0m\u001b[37m\u001b[0m \u001b[1m318s\u001b[0m 229ms/step - accuracy: 0.8787 - loss: 0.3647 - val_accuracy: 0.8307 - val_loss: 0.5013\n",
            "Epoch 3/10\n",
            "\u001b[1m1385/1385\u001b[0m \u001b[32m━━━━━━━━━━━━━━━━━━━━\u001b[0m\u001b[37m\u001b[0m \u001b[1m323s\u001b[0m 233ms/step - accuracy: 0.9702 - loss: 0.0978 - val_accuracy: 0.8217 - val_loss: 0.6277\n",
            "Epoch 4/10\n",
            "\u001b[1m1385/1385\u001b[0m \u001b[32m━━━━━━━━━━━━━━━━━━━━\u001b[0m\u001b[37m\u001b[0m \u001b[1m319s\u001b[0m 230ms/step - accuracy: 0.9901 - loss: 0.0338 - val_accuracy: 0.8101 - val_loss: 0.7691\n",
            "Epoch 5/10\n",
            "\u001b[1m1385/1385\u001b[0m \u001b[32m━━━━━━━━━━━━━━━━━━━━\u001b[0m\u001b[37m\u001b[0m \u001b[1m332s\u001b[0m 240ms/step - accuracy: 0.9950 - loss: 0.0162 - val_accuracy: 0.8068 - val_loss: 0.9536\n",
            "Epoch 6/10\n",
            "\u001b[1m1385/1385\u001b[0m \u001b[32m━━━━━━━━━━━━━━━━━━━━\u001b[0m\u001b[37m\u001b[0m \u001b[1m324s\u001b[0m 234ms/step - accuracy: 0.9966 - loss: 0.0109 - val_accuracy: 0.8051 - val_loss: 1.0200\n",
            "Epoch 7/10\n",
            "\u001b[1m1385/1385\u001b[0m \u001b[32m━━━━━━━━━━━━━━━━━━━━\u001b[0m\u001b[37m\u001b[0m \u001b[1m327s\u001b[0m 236ms/step - accuracy: 0.9974 - loss: 0.0078 - val_accuracy: 0.8050 - val_loss: 1.0701\n",
            "Epoch 8/10\n",
            "\u001b[1m1385/1385\u001b[0m \u001b[32m━━━━━━━━━━━━━━━━━━━━\u001b[0m\u001b[37m\u001b[0m \u001b[1m323s\u001b[0m 233ms/step - accuracy: 0.9984 - loss: 0.0052 - val_accuracy: 0.8032 - val_loss: 1.2292\n",
            "Epoch 9/10\n",
            "\u001b[1m1385/1385\u001b[0m \u001b[32m━━━━━━━━━━━━━━━━━━━━\u001b[0m\u001b[37m\u001b[0m \u001b[1m314s\u001b[0m 227ms/step - accuracy: 0.9988 - loss: 0.0039 - val_accuracy: 0.8006 - val_loss: 1.2531\n",
            "Epoch 10/10\n",
            "\u001b[1m1385/1385\u001b[0m \u001b[32m━━━━━━━━━━━━━━━━━━━━\u001b[0m\u001b[37m\u001b[0m \u001b[1m322s\u001b[0m 232ms/step - accuracy: 0.9985 - loss: 0.0039 - val_accuracy: 0.7991 - val_loss: 1.2195\n"
          ]
        }
      ],
      "source": [
        "# Train the model\n",
        "history = gru_model.fit(x_train_padded, y_train, epochs=10, batch_size=64, validation_data=(x_valid_padded, y_valid))"
      ]
    },
    {
      "cell_type": "code",
      "execution_count": null,
      "metadata": {
        "id": "TYtFx9E-Xl01",
        "outputId": "09caedab-4ccb-42e3-b57f-91ed8cc66873"
      },
      "outputs": [
        {
          "name": "stdout",
          "output_type": "stream",
          "text": [
            "\u001b[1m924/924\u001b[0m \u001b[32m━━━━━━━━━━━━━━━━━━━━\u001b[0m\u001b[37m\u001b[0m \u001b[1m9s\u001b[0m 9ms/step - accuracy: 0.8005 - loss: 1.2135\n",
            "Validation Loss: 1.208317518234253\n",
            "Validation Accuracy: 0.7994855046272278\n"
          ]
        }
      ],
      "source": [
        "# Evaluate the model\n",
        "loss, accuracy = gru_model.evaluate(x_test_padded, y_test)\n",
        "print(\"Validation Loss:\", loss)\n",
        "print(\"Validation Accuracy:\", accuracy)"
      ]
    },
    {
      "cell_type": "code",
      "execution_count": null,
      "metadata": {
        "id": "WsIigONaXl02",
        "outputId": "056bfb83-4b5f-49a9-8add-9243b0f7c269"
      },
      "outputs": [
        {
          "name": "stdout",
          "output_type": "stream",
          "text": [
            "              precision    recall  f1-score   support\n",
            "\n",
            "     Class 1       0.82      0.89      0.86     11482\n",
            "     Class 2       0.84      0.80      0.82      5508\n",
            "     Class 3       0.79      0.77      0.78      7351\n",
            "     Class 4       0.80      0.62      0.70      2285\n",
            "     Class 5       0.64      0.63      0.63      2918\n",
            "\n",
            "    accuracy                           0.80     29544\n",
            "   macro avg       0.78      0.74      0.76     29544\n",
            "weighted avg       0.80      0.80      0.80     29544\n",
            "\n"
          ]
        }
      ],
      "source": [
        "print(classification_report(y_valid, y_pred, target_names=['Class 1', 'Class 2', 'Class 3', 'Class 4', 'Class 5']))"
      ]
    },
    {
      "cell_type": "markdown",
      "source": [
        "##  LSTM Model\n",
        "\n",
        "- Define a Keras model using Sequential API and compile it with custom metrics."
      ],
      "metadata": {
        "id": "t2dZLoLe48GW"
      }
    },
    {
      "cell_type": "code",
      "execution_count": null,
      "metadata": {
        "colab": {
          "base_uri": "https://localhost:8080/"
        },
        "id": "m-AyCdhfkQZF",
        "outputId": "6bd84dbe-bd87-46cd-8c81-a472bb369ce6"
      },
      "outputs": [
        {
          "output_type": "stream",
          "name": "stderr",
          "text": [
            "WARNING:tensorflow:Layer lstm_4 will not use cuDNN kernels since it doesn't meet the criteria. It will use a generic GPU kernel as fallback when running on GPU.\n"
          ]
        },
        {
          "output_type": "stream",
          "name": "stdout",
          "text": [
            "Model: \"sequential_4\"\n",
            "_________________________________________________________________\n",
            " Layer (type)                Output Shape              Param #   \n",
            "=================================================================\n",
            " embedding_4 (Embedding)     (None, 50, 100)           18734500  \n",
            "                                                                 \n",
            " spatial_dropout1d_4 (Spati  (None, 50, 100)           0         \n",
            " alDropout1D)                                                    \n",
            "                                                                 \n",
            " lstm_4 (LSTM)               (None, 100)               80400     \n",
            "                                                                 \n",
            " dense_4 (Dense)             (None, 5)                 505       \n",
            "                                                                 \n",
            "=================================================================\n",
            "Total params: 18815405 (71.78 MB)\n",
            "Trainable params: 18815405 (71.78 MB)\n",
            "Non-trainable params: 0 (0.00 Byte)\n",
            "_________________________________________________________________\n",
            "None\n"
          ]
        }
      ],
      "source": [
        "# Define your Keras model\n",
        "model = Sequential()\n",
        "model.add(Embedding(Unique_Words, EMBEDDING_DIM, input_length=input_length))\n",
        "model.add(SpatialDropout1D(0.2))\n",
        "model.add(LSTM(100, dropout=0.2, recurrent_dropout=0.2))\n",
        "model.add(Dense(5, activation='softmax'))\n",
        "\n",
        "# Compile your Keras model with custom metrics\n",
        "model.compile(loss='sparse_categorical_crossentropy', optimizer='adam', metrics=['accuracy'])\n",
        "\n",
        "# Print model summary\n",
        "print(model.summary())"
      ]
    },
    {
      "cell_type": "code",
      "source": [
        "X_train=padded_train.drop('y_train',axis=1)\n",
        "y_train=padded_train['y_train']"
      ],
      "metadata": {
        "id": "orbgL5OJKt44"
      },
      "execution_count": null,
      "outputs": []
    },
    {
      "cell_type": "code",
      "source": [
        "y_train"
      ],
      "metadata": {
        "colab": {
          "base_uri": "https://localhost:8080/"
        },
        "id": "VUwijeuHLYtu",
        "outputId": "f4c501e1-3ca5-41e2-ac7c-bba5b4348b1c"
      },
      "execution_count": null,
      "outputs": [
        {
          "output_type": "execute_result",
          "data": {
            "text/plain": [
              "0         1\n",
              "1         1\n",
              "2         0\n",
              "3         2\n",
              "4         1\n",
              "         ..\n",
              "118169    0\n",
              "118170    0\n",
              "118171    0\n",
              "118172    2\n",
              "118173    0\n",
              "Name: y_train, Length: 118174, dtype: int64"
            ]
          },
          "metadata": {},
          "execution_count": 59
        }
      ]
    },
    {
      "cell_type": "code",
      "source": [
        "X_test=x_test_padded.drop('y_test',axis=1)\n",
        "y_test=x_test_padded['y_test']"
      ],
      "metadata": {
        "id": "64u59K79uL0r"
      },
      "execution_count": null,
      "outputs": []
    },
    {
      "cell_type": "markdown",
      "source": [
        "Training Keras Model\n",
        "\n",
        "- Training the Keras model with specified epochs and batch size."
      ],
      "metadata": {
        "id": "w08EA-t26C2K"
      }
    },
    {
      "cell_type": "code",
      "execution_count": null,
      "metadata": {
        "colab": {
          "base_uri": "https://localhost:8080/"
        },
        "id": "n3yi0miokQNb",
        "outputId": "ebb9cdcf-b2a9-4627-d0c2-190b27aa71a9"
      },
      "outputs": [
        {
          "output_type": "stream",
          "name": "stdout",
          "text": [
            "Epoch 1/4\n",
            "3693/3693 [==============================] - 657s 177ms/step - loss: 1.4311 - accuracy: 0.4086 - val_loss: 1.4562 - val_accuracy: 0.3882\n",
            "Epoch 2/4\n",
            "3693/3693 [==============================] - 646s 175ms/step - loss: 1.2877 - accuracy: 0.4760 - val_loss: 0.8876 - val_accuracy: 0.6833\n",
            "Epoch 3/4\n",
            "3693/3693 [==============================] - 637s 173ms/step - loss: 0.5653 - accuracy: 0.8056 - val_loss: 0.4911 - val_accuracy: 0.8316\n",
            "Epoch 4/4\n",
            "3693/3693 [==============================] - 627s 170ms/step - loss: 0.2670 - accuracy: 0.9142 - val_loss: 0.4828 - val_accuracy: 0.8403\n"
          ]
        }
      ],
      "source": [
        "epochs = 4\n",
        "batch_size = 64\n",
        "history = model.fit(X_train, y_train,\n",
        "                    epochs=epochs,\n",
        "                    validation_data=(X_test, y_test),\n",
        "                    callbacks=[EarlyStopping(monitor='val_loss', patience=1, min_delta=0.0001)])"
      ]
    },
    {
      "cell_type": "markdown",
      "source": [
        "Evaluate Keras Model\n",
        "\n",
        "- Evaluate the trained Keras model on the test set.\n",
        "- And This is the best Model until now"
      ],
      "metadata": {
        "id": "56BBVKC-6H4E"
      }
    },
    {
      "cell_type": "code",
      "execution_count": null,
      "metadata": {
        "colab": {
          "base_uri": "https://localhost:8080/"
        },
        "id": "jzirC9dVkV2Y",
        "outputId": "1c630aaa-16b8-4ba8-9f81-1a0248f4b930"
      },
      "outputs": [
        {
          "output_type": "stream",
          "name": "stdout",
          "text": [
            "924/924 [==============================] - 16s 17ms/step - loss: 0.4828 - accuracy: 0.8403\n",
            "Test set\n",
            "  Loss: 0.483\n",
            "  Accuracy: 0.840\n"
          ]
        }
      ],
      "source": [
        "accr = model.evaluate(X_test,y_test)\n",
        "print('Test set\\n  Loss: {:0.3f}\\n  Accuracy: {:0.3f}'.format(accr[0],accr[1]))"
      ]
    },
    {
      "cell_type": "markdown",
      "source": [
        "Generate Classification Report\n",
        "\n",
        "- Generate the classification report"
      ],
      "metadata": {
        "id": "oNBQeIY26l_q"
      }
    },
    {
      "cell_type": "code",
      "source": [
        "# Assuming y_pred is your model's predictions on X_test\n",
        "y_pred = model.predict(X_test)\n",
        "y_pred=np.argmax(y_pred,axis=1)\n",
        "# Generate the classification report\n",
        "report = classification_report(y_test, y_pred)\n",
        "\n",
        "print(\"Classification Report:\")\n",
        "print(report)"
      ],
      "metadata": {
        "colab": {
          "base_uri": "https://localhost:8080/"
        },
        "id": "5QCZNYmaRsKB",
        "outputId": "73f9d1ab-35bb-4cce-e338-945f73ab96ac"
      },
      "execution_count": null,
      "outputs": [
        {
          "output_type": "stream",
          "name": "stdout",
          "text": [
            "924/924 [==============================] - 15s 17ms/step\n",
            "Classification Report:\n",
            "              precision    recall  f1-score   support\n",
            "\n",
            "           0       0.84      0.93      0.89     11470\n",
            "           1       0.89      0.83      0.86      5636\n",
            "           2       0.80      0.83      0.82      7269\n",
            "           3       0.87      0.68      0.76      2330\n",
            "           4       0.80      0.65      0.72      2839\n",
            "\n",
            "    accuracy                           0.84     29544\n",
            "   macro avg       0.84      0.78      0.81     29544\n",
            "weighted avg       0.84      0.84      0.84     29544\n",
            "\n"
          ]
        }
      ]
    },
    {
      "cell_type": "code",
      "source": [
        "y_test.shape,y_pred.shape"
      ],
      "metadata": {
        "colab": {
          "base_uri": "https://localhost:8080/"
        },
        "id": "E4L4lbmoSGLT",
        "outputId": "4d70ac2a-9e06-4880-c974-415c93231644"
      },
      "execution_count": null,
      "outputs": [
        {
          "output_type": "execute_result",
          "data": {
            "text/plain": [
              "((29544,), (29544, 5))"
            ]
          },
          "metadata": {},
          "execution_count": 67
        }
      ]
    },
    {
      "cell_type": "markdown",
      "source": [
        "Plot Training and Validation Metrics\n",
        "\n",
        "- Visualize the training and validation accuracy and loss values over epochs."
      ],
      "metadata": {
        "id": "zbd-veUF7iah"
      }
    },
    {
      "cell_type": "code",
      "source": [
        "# Plot training & validation accuracy values\n",
        "plt.figure(figsize=(12, 6))\n",
        "\n",
        "plt.subplot(1, 2, 1)\n",
        "plt.plot(history.history['accuracy'])\n",
        "plt.plot(history.history['val_accuracy'])\n",
        "plt.title('Model accuracy')\n",
        "plt.ylabel('Accuracy')\n",
        "plt.xlabel('Epoch')\n",
        "plt.legend(['Train', 'Validation'], loc='upper left')\n",
        "\n",
        "# Plot training & validation loss values\n",
        "plt.subplot(1, 2, 2)\n",
        "plt.plot(history.history['loss'])\n",
        "plt.plot(history.history['val_loss'])\n",
        "plt.title('Model loss')\n",
        "plt.ylabel('Loss')\n",
        "plt.xlabel('Epoch')\n",
        "plt.legend(['Train', 'Validation'], loc='upper left')\n",
        "\n",
        "# Display the plots\n",
        "plt.show()"
      ],
      "metadata": {
        "id": "iO9dvi6TASjE",
        "outputId": "0ac10c6e-5cf9-41d7-bfa0-ab1d73f0be57",
        "colab": {
          "base_uri": "https://localhost:8080/",
          "height": 531
        }
      },
      "execution_count": null,
      "outputs": [
        {
          "output_type": "display_data",
          "data": {
            "text/plain": [
              "<Figure size 1200x600 with 2 Axes>"
            ],
            "image/png": "[encoded data removed]"
          },
          "metadata": {}
        }
      ]
    },
    {
      "cell_type": "code",
      "source": [],
      "metadata": {
        "id": "LW1pXVrvW6C5"
      },
      "execution_count": null,
      "outputs": []
    },
    {
      "cell_type": "markdown",
      "metadata": {
        "id": "c5AFtub8xGCd"
      },
      "source": [
        "# Save models using pickle"
      ]
    },
    {
      "cell_type": "markdown",
      "source": [
        "# Save Best Model\n",
        "\n",
        "Save the best model (`model4`) using pickle."
      ],
      "metadata": {
        "id": "4xLiiasM7sPJ"
      }
    },
    {
      "cell_type": "code",
      "execution_count": null,
      "metadata": {
        "id": "fp3CLwhcRWep"
      },
      "outputs": [],
      "source": [
        "# best model is model4\n",
        "import pickle\n",
        "filename = 'DL_model.pkl'\n",
        "pickle.dump(model, open(filename, 'wb'))"
      ]
    },
    {
      "cell_type": "code",
      "execution_count": null,
      "metadata": {
        "id": "z3q5XN4Gxdyh"
      },
      "outputs": [],
      "source": [
        "filename = 'TfidfVectorizer.pkl'\n",
        "pickle.dump(model4, open(filename, 'wb'))"
      ]
    },
    {
      "cell_type": "code",
      "execution_count": null,
      "metadata": {
        "id": "wARKYBO5pKCW"
      },
      "outputs": [],
      "source": [
        "filename = 'CountVectorizer.pkl'\n",
        "pickle.dump(model1, open(filename, 'wb'))"
      ]
    }
  ]
}